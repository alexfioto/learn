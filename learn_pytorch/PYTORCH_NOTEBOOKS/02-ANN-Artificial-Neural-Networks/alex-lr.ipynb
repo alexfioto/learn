{
 "cells": [
  {
   "cell_type": "code",
   "execution_count": 104,
   "metadata": {},
   "outputs": [],
   "source": [
    "import torch\n",
    "import numpy as np\n",
    "import matplotlib.pyplot as plt\n",
    "import torch.nn as nn"
   ]
  },
  {
   "cell_type": "code",
   "execution_count": 131,
   "metadata": {},
   "outputs": [],
   "source": [
    "X = torch.linspace(1, 50, 50).reshape(-1, 1)"
   ]
  },
  {
   "cell_type": "code",
   "execution_count": 132,
   "metadata": {},
   "outputs": [
    {
     "data": {
      "text/plain": [
       "tensor([[ 1.],\n",
       "        [ 2.],\n",
       "        [ 3.],\n",
       "        [ 4.],\n",
       "        [ 5.],\n",
       "        [ 6.],\n",
       "        [ 7.],\n",
       "        [ 8.],\n",
       "        [ 9.],\n",
       "        [10.],\n",
       "        [11.],\n",
       "        [12.],\n",
       "        [13.],\n",
       "        [14.],\n",
       "        [15.],\n",
       "        [16.],\n",
       "        [17.],\n",
       "        [18.],\n",
       "        [19.],\n",
       "        [20.],\n",
       "        [21.],\n",
       "        [22.],\n",
       "        [23.],\n",
       "        [24.],\n",
       "        [25.],\n",
       "        [26.],\n",
       "        [27.],\n",
       "        [28.],\n",
       "        [29.],\n",
       "        [30.],\n",
       "        [31.],\n",
       "        [32.],\n",
       "        [33.],\n",
       "        [34.],\n",
       "        [35.],\n",
       "        [36.],\n",
       "        [37.],\n",
       "        [38.],\n",
       "        [39.],\n",
       "        [40.],\n",
       "        [41.],\n",
       "        [42.],\n",
       "        [43.],\n",
       "        [44.],\n",
       "        [45.],\n",
       "        [46.],\n",
       "        [47.],\n",
       "        [48.],\n",
       "        [49.],\n",
       "        [50.]])"
      ]
     },
     "execution_count": 132,
     "metadata": {},
     "output_type": "execute_result"
    }
   ],
   "source": [
    "X"
   ]
  },
  {
   "cell_type": "code",
   "execution_count": 133,
   "metadata": {},
   "outputs": [],
   "source": [
    "torch.manual_seed(71)\n",
    "e = torch.randint(-8, 9, size=(50, 1), dtype=torch.float)"
   ]
  },
  {
   "cell_type": "code",
   "execution_count": 134,
   "metadata": {},
   "outputs": [
    {
     "data": {
      "text/plain": [
       "tensor([[ 2.],\n",
       "        [ 7.],\n",
       "        [ 2.],\n",
       "        [ 6.],\n",
       "        [ 2.],\n",
       "        [-4.],\n",
       "        [ 2.],\n",
       "        [-5.],\n",
       "        [ 4.],\n",
       "        [ 1.],\n",
       "        [ 2.],\n",
       "        [ 3.],\n",
       "        [ 1.],\n",
       "        [-8.],\n",
       "        [ 5.],\n",
       "        [ 5.],\n",
       "        [-6.],\n",
       "        [ 0.],\n",
       "        [-7.],\n",
       "        [-8.],\n",
       "        [-3.],\n",
       "        [-1.],\n",
       "        [ 2.],\n",
       "        [-6.],\n",
       "        [-3.],\n",
       "        [ 3.],\n",
       "        [ 2.],\n",
       "        [ 3.],\n",
       "        [ 4.],\n",
       "        [ 5.],\n",
       "        [ 1.],\n",
       "        [ 7.],\n",
       "        [ 6.],\n",
       "        [-1.],\n",
       "        [-6.],\n",
       "        [-5.],\n",
       "        [-3.],\n",
       "        [ 7.],\n",
       "        [ 0.],\n",
       "        [ 8.],\n",
       "        [-1.],\n",
       "        [-2.],\n",
       "        [ 2.],\n",
       "        [-8.],\n",
       "        [-1.],\n",
       "        [ 6.],\n",
       "        [-8.],\n",
       "        [-3.],\n",
       "        [-7.],\n",
       "        [-2.]])"
      ]
     },
     "execution_count": 134,
     "metadata": {},
     "output_type": "execute_result"
    }
   ],
   "source": [
    "e"
   ]
  },
  {
   "cell_type": "code",
   "execution_count": 135,
   "metadata": {},
   "outputs": [],
   "source": [
    "y = 2 * X + 1 + e"
   ]
  },
  {
   "cell_type": "code",
   "execution_count": 136,
   "metadata": {},
   "outputs": [
    {
     "data": {
      "text/plain": [
       "torch.Size([50, 1])"
      ]
     },
     "execution_count": 136,
     "metadata": {},
     "output_type": "execute_result"
    }
   ],
   "source": [
    "y.shape"
   ]
  },
  {
   "cell_type": "code",
   "execution_count": 137,
   "metadata": {},
   "outputs": [
    {
     "data": {
      "text/plain": [
       "array([[ 1.],\n",
       "       [ 2.],\n",
       "       [ 3.],\n",
       "       [ 4.],\n",
       "       [ 5.],\n",
       "       [ 6.],\n",
       "       [ 7.],\n",
       "       [ 8.],\n",
       "       [ 9.],\n",
       "       [10.],\n",
       "       [11.],\n",
       "       [12.],\n",
       "       [13.],\n",
       "       [14.],\n",
       "       [15.],\n",
       "       [16.],\n",
       "       [17.],\n",
       "       [18.],\n",
       "       [19.],\n",
       "       [20.],\n",
       "       [21.],\n",
       "       [22.],\n",
       "       [23.],\n",
       "       [24.],\n",
       "       [25.],\n",
       "       [26.],\n",
       "       [27.],\n",
       "       [28.],\n",
       "       [29.],\n",
       "       [30.],\n",
       "       [31.],\n",
       "       [32.],\n",
       "       [33.],\n",
       "       [34.],\n",
       "       [35.],\n",
       "       [36.],\n",
       "       [37.],\n",
       "       [38.],\n",
       "       [39.],\n",
       "       [40.],\n",
       "       [41.],\n",
       "       [42.],\n",
       "       [43.],\n",
       "       [44.],\n",
       "       [45.],\n",
       "       [46.],\n",
       "       [47.],\n",
       "       [48.],\n",
       "       [49.],\n",
       "       [50.]], dtype=float32)"
      ]
     },
     "execution_count": 137,
     "metadata": {},
     "output_type": "execute_result"
    }
   ],
   "source": [
    "X.numpy() # reports as numpy array for plotting purposes"
   ]
  },
  {
   "cell_type": "code",
   "execution_count": 112,
   "metadata": {},
   "outputs": [
    {
     "data": {
      "text/plain": [
       "<matplotlib.collections.PathCollection at 0x7fefd0d12b38>"
      ]
     },
     "execution_count": 112,
     "metadata": {},
     "output_type": "execute_result"
    },
    {
     "data": {
      "image/png": "[encoded data removed]",
      "text/plain": [
       "<Figure size 432x288 with 1 Axes>"
      ]
     },
     "metadata": {
      "needs_background": "light"
     },
     "output_type": "display_data"
    }
   ],
   "source": [
    "plt.scatter(X.numpy(), y.numpy())"
   ]
  },
  {
   "cell_type": "code",
   "execution_count": 113,
   "metadata": {},
   "outputs": [
    {
     "name": "stdout",
     "output_type": "stream",
     "text": [
      "Parameter containing:\n",
      "tensor([[0.1060]], requires_grad=True)\n",
      "Parameter containing:\n",
      "tensor([0.9638], requires_grad=True)\n"
     ]
    }
   ],
   "source": [
    "torch.manual_seed(59)\n",
    "\n",
    "model = nn.Linear(in_features=1, out_features=1)\n",
    "\n",
    "print(model.weight)\n",
    "print(model.bias)"
   ]
  },
  {
   "cell_type": "code",
   "execution_count": 114,
   "metadata": {},
   "outputs": [],
   "source": [
    "class Model(nn.Module):\n",
    "    def __init__(self, in_features, out_features):\n",
    "        super().__init__()\n",
    "        self.linear = nn.Linear(in_features, out_features)\n",
    "        \n",
    "    def forward(self, X):\n",
    "        y_pred = self.linear(x)\n",
    "        return y_pred"
   ]
  },
  {
   "cell_type": "code",
   "execution_count": 115,
   "metadata": {},
   "outputs": [
    {
     "name": "stdout",
     "output_type": "stream",
     "text": [
      "Parameter containing:\n",
      "tensor([[0.1060]], requires_grad=True)\n",
      "Parameter containing:\n",
      "tensor([0.9638], requires_grad=True)\n"
     ]
    }
   ],
   "source": [
    "torch.manual_seed(59)\n",
    "\n",
    "model = Model(1,1)\n",
    "print(model.linear.weight)\n",
    "print(model.linear.bias)"
   ]
  },
  {
   "cell_type": "code",
   "execution_count": 116,
   "metadata": {},
   "outputs": [
    {
     "name": "stdout",
     "output_type": "stream",
     "text": [
      "linear.weight \t 0.10597813129425049\n",
      "linear.bias \t 0.9637961387634277\n"
     ]
    }
   ],
   "source": [
    "for name, param in model.named_parameters():\n",
    "    print(name, '\\t', param.item())"
   ]
  },
  {
   "cell_type": "code",
   "execution_count": 117,
   "metadata": {},
   "outputs": [
    {
     "name": "stdout",
     "output_type": "stream",
     "text": [
      "tensor([1.1758], grad_fn=<AddBackward0>)\n"
     ]
    }
   ],
   "source": [
    "x = torch.tensor([2.0])\n",
    "print(model.forward(x))"
   ]
  },
  {
   "cell_type": "code",
   "execution_count": 118,
   "metadata": {},
   "outputs": [
    {
     "data": {
      "text/plain": [
       "array([ 0.        ,  1.02040816,  2.04081633,  3.06122449,  4.08163265,\n",
       "        5.10204082,  6.12244898,  7.14285714,  8.16326531,  9.18367347,\n",
       "       10.20408163, 11.2244898 , 12.24489796, 13.26530612, 14.28571429,\n",
       "       15.30612245, 16.32653061, 17.34693878, 18.36734694, 19.3877551 ,\n",
       "       20.40816327, 21.42857143, 22.44897959, 23.46938776, 24.48979592,\n",
       "       25.51020408, 26.53061224, 27.55102041, 28.57142857, 29.59183673,\n",
       "       30.6122449 , 31.63265306, 32.65306122, 33.67346939, 34.69387755,\n",
       "       35.71428571, 36.73469388, 37.75510204, 38.7755102 , 39.79591837,\n",
       "       40.81632653, 41.83673469, 42.85714286, 43.87755102, 44.89795918,\n",
       "       45.91836735, 46.93877551, 47.95918367, 48.97959184, 50.        ])"
      ]
     },
     "execution_count": 118,
     "metadata": {},
     "output_type": "execute_result"
    }
   ],
   "source": [
    "x1 = np.linspace(0.0, 50.0, 50)\n",
    "x1"
   ]
  },
  {
   "cell_type": "code",
   "execution_count": 119,
   "metadata": {},
   "outputs": [],
   "source": [
    "w1 = 0.1059\n",
    "b1 = 0.9637\n",
    "\n",
    "y1 = w1 * x1 + b1"
   ]
  },
  {
   "cell_type": "code",
   "execution_count": 120,
   "metadata": {},
   "outputs": [
    {
     "data": {
      "text/plain": [
       "[<matplotlib.lines.Line2D at 0x7fef807c1be0>]"
      ]
     },
     "execution_count": 120,
     "metadata": {},
     "output_type": "execute_result"
    },
    {
     "data": {
      "image/png": "[encoded data removed]",
      "text/plain": [
       "<Figure size 432x288 with 1 Axes>"
      ]
     },
     "metadata": {
      "needs_background": "light"
     },
     "output_type": "display_data"
    }
   ],
   "source": [
    "plt.scatter(X.numpy(), y.numpy())\n",
    "plt.plot(x1, y1, 'r')"
   ]
  },
  {
   "cell_type": "code",
   "execution_count": 121,
   "metadata": {},
   "outputs": [],
   "source": [
    "criterion = nn.MSELoss()"
   ]
  },
  {
   "cell_type": "code",
   "execution_count": 122,
   "metadata": {},
   "outputs": [],
   "source": [
    "optimizer = torch.optim.SGD(model.parameters(), lr=0.01)"
   ]
  },
  {
   "cell_type": "code",
   "execution_count": 123,
   "metadata": {},
   "outputs": [
    {
     "data": {
      "text/plain": [
       "tensor([[ 1.],\n",
       "        [ 2.],\n",
       "        [ 3.],\n",
       "        [ 4.],\n",
       "        [ 5.],\n",
       "        [ 6.],\n",
       "        [ 7.],\n",
       "        [ 8.],\n",
       "        [ 9.],\n",
       "        [10.],\n",
       "        [11.],\n",
       "        [12.],\n",
       "        [13.],\n",
       "        [14.],\n",
       "        [15.],\n",
       "        [16.],\n",
       "        [17.],\n",
       "        [18.],\n",
       "        [19.],\n",
       "        [20.],\n",
       "        [21.],\n",
       "        [22.],\n",
       "        [23.],\n",
       "        [24.],\n",
       "        [25.],\n",
       "        [26.],\n",
       "        [27.],\n",
       "        [28.],\n",
       "        [29.],\n",
       "        [30.],\n",
       "        [31.],\n",
       "        [32.],\n",
       "        [33.],\n",
       "        [34.],\n",
       "        [35.],\n",
       "        [36.],\n",
       "        [37.],\n",
       "        [38.],\n",
       "        [39.],\n",
       "        [40.],\n",
       "        [41.],\n",
       "        [42.],\n",
       "        [43.],\n",
       "        [44.],\n",
       "        [45.],\n",
       "        [46.],\n",
       "        [47.],\n",
       "        [48.],\n",
       "        [49.],\n",
       "        [50.]])"
      ]
     },
     "execution_count": 123,
     "metadata": {},
     "output_type": "execute_result"
    }
   ],
   "source": [
    "X"
   ]
  },
  {
   "cell_type": "code",
   "execution_count": 124,
   "metadata": {},
   "outputs": [
    {
     "name": "stdout",
     "output_type": "stream",
     "text": [
      "epoch 1 loss: 3387.46435546875 weight: 0.10597813129425049 bias: 0.9637961387634277\n",
      "epoch 2 loss: 2896.67431640625 weight: 2.138948440551758 bias: 1.9802812337875366\n",
      "epoch 3 loss: 2499.134521484375 weight: 3.968621253967285 bias: 2.8951175212860107\n",
      "epoch 4 loss: 2177.127197265625 weight: 5.615326881408691 bias: 3.7184700965881348\n",
      "epoch 5 loss: 1916.301513671875 weight: 7.0973615646362305 bias: 4.459487438201904\n",
      "epoch 6 loss: 1705.0325927734375 weight: 8.431193351745605 bias: 5.126403331756592\n",
      "epoch 7 loss: 1533.9049072265625 weight: 9.631641387939453 bias: 5.726627349853516\n",
      "epoch 8 loss: 1395.29150390625 weight: 10.712044715881348 bias: 6.266829013824463\n",
      "epoch 9 loss: 1283.0145263671875 weight: 11.684408187866211 bias: 6.7530107498168945\n",
      "epoch 10 loss: 1192.0701904296875 weight: 12.559535026550293 bias: 7.1905741691589355\n",
      "epoch 11 loss: 1118.4052734375 weight: 13.347148895263672 bias: 7.584381103515625\n",
      "epoch 12 loss: 1058.736572265625 weight: 14.056001663208008 bias: 7.938807487487793\n",
      "epoch 13 loss: 1010.4050903320312 weight: 14.693968772888184 bias: 8.257791519165039\n",
      "epoch 14 loss: 971.2564697265625 weight: 15.268139839172363 bias: 8.544877052307129\n",
      "epoch 15 loss: 939.546142578125 weight: 15.784893989562988 bias: 8.803254127502441\n",
      "epoch 16 loss: 913.86083984375 weight: 16.249971389770508 bias: 9.03579330444336\n",
      "epoch 17 loss: 893.0556030273438 weight: 16.668542861938477 bias: 9.245079040527344\n",
      "epoch 18 loss: 876.2034301757812 weight: 17.045255661010742 bias: 9.433435440063477\n",
      "epoch 19 loss: 862.55322265625 weight: 17.38429832458496 bias: 9.602956771850586\n",
      "epoch 20 loss: 851.4964599609375 weight: 17.689435958862305 bias: 9.755525588989258\n",
      "epoch 21 loss: 842.5405883789062 weight: 17.964059829711914 bias: 9.892837524414062\n",
      "epoch 22 loss: 835.2862548828125 weight: 18.21122169494629 bias: 10.01641845703125\n",
      "epoch 23 loss: 829.4102172851562 weight: 18.43366813659668 bias: 10.127641677856445\n",
      "epoch 24 loss: 824.6506958007812 weight: 18.633869171142578 bias: 10.227742195129395\n",
      "epoch 25 loss: 820.7954711914062 weight: 18.814050674438477 bias: 10.317832946777344\n",
      "epoch 26 loss: 817.6727294921875 weight: 18.976213455200195 bias: 10.398914337158203\n",
      "epoch 27 loss: 815.143310546875 weight: 19.122159957885742 bias: 10.471887588500977\n",
      "epoch 28 loss: 813.094482421875 weight: 19.253511428833008 bias: 10.53756332397461\n",
      "epoch 29 loss: 811.4349365234375 weight: 19.371728897094727 bias: 10.596672058105469\n",
      "epoch 30 loss: 810.0906982421875 weight: 19.478124618530273 bias: 10.649869918823242\n",
      "epoch 31 loss: 809.0018310546875 weight: 19.57387924194336 bias: 10.697747230529785\n",
      "epoch 32 loss: 808.119873046875 weight: 19.660058975219727 bias: 10.740837097167969\n",
      "epoch 33 loss: 807.405517578125 weight: 19.737621307373047 bias: 10.779618263244629\n",
      "epoch 34 loss: 806.8268432617188 weight: 19.80742645263672 bias: 10.814520835876465\n",
      "epoch 35 loss: 806.358154296875 weight: 19.870250701904297 bias: 10.845932960510254\n",
      "epoch 36 loss: 805.978515625 weight: 19.926794052124023 bias: 10.874204635620117\n",
      "epoch 37 loss: 805.6710205078125 weight: 19.97768211364746 bias: 10.899648666381836\n",
      "epoch 38 loss: 805.421875 weight: 20.023481369018555 bias: 10.922548294067383\n",
      "epoch 39 loss: 805.2201538085938 weight: 20.064701080322266 bias: 10.943158149719238\n",
      "epoch 40 loss: 805.0567016601562 weight: 20.10179901123047 bias: 10.96170711517334\n",
      "epoch 41 loss: 804.92431640625 weight: 20.13518714904785 bias: 10.978401184082031\n",
      "epoch 42 loss: 804.817138671875 weight: 20.16523551940918 bias: 10.993425369262695\n",
      "epoch 43 loss: 804.7302856445312 weight: 20.192279815673828 bias: 11.00694751739502\n",
      "epoch 44 loss: 804.659912109375 weight: 20.21661949157715 bias: 11.01911735534668\n",
      "epoch 45 loss: 804.6029052734375 weight: 20.238525390625 bias: 11.030070304870605\n",
      "epoch 46 loss: 804.5567626953125 weight: 20.25823974609375 bias: 11.03992748260498\n",
      "epoch 47 loss: 804.5194091796875 weight: 20.275983810424805 bias: 11.048799514770508\n",
      "epoch 48 loss: 804.4891357421875 weight: 20.29195213317871 bias: 11.056783676147461\n",
      "epoch 49 loss: 804.464599609375 weight: 20.306324005126953 bias: 11.063969612121582\n",
      "epoch 50 loss: 804.4447021484375 weight: 20.319259643554688 bias: 11.07043743133545\n"
     ]
    }
   ],
   "source": [
    "epochs = 50\n",
    "losses = []\n",
    "\n",
    "for i in range(epochs):\n",
    "    i = i + 1\n",
    "    \n",
    "    # Predicting on the forward pass\n",
    "    y_pred = model.forward(X)\n",
    "    \n",
    "    # calculate our loss (error)\n",
    "    loss = criterion(y_pred, y)\n",
    "    \n",
    "    # reord that error\n",
    "    losses.append(loss)\n",
    "    print(f'epoch {i} loss: {loss.item()} weight: {model.linear.weight.item()} bias: {model.linear.bias.item()}')\n",
    "    \n",
    "    optimizer.zero_grad()\n",
    "    \n",
    "    loss.backward()\n",
    "    optimizer.step()"
   ]
  },
  {
   "cell_type": "code",
   "execution_count": 125,
   "metadata": {},
   "outputs": [
    {
     "data": {
      "text/plain": [
       "Text(0.5, 0, 'Epoch')"
      ]
     },
     "execution_count": 125,
     "metadata": {},
     "output_type": "execute_result"
    },
    {
     "data": {
      "image/png": "[encoded data removed]",
      "text/plain": [
       "<Figure size 432x288 with 1 Axes>"
      ]
     },
     "metadata": {
      "needs_background": "light"
     },
     "output_type": "display_data"
    }
   ],
   "source": [
    "plt.plot(range(epochs), losses)\n",
    "plt.ylabel('MSE Loss')\n",
    "plt.xlabel('Epoch')"
   ]
  },
  {
   "cell_type": "code",
   "execution_count": 126,
   "metadata": {},
   "outputs": [],
   "source": [
    "x = np.linspace(0.0, 50.0, 50)\n",
    "current_weight = model.linear.weight.item()\n",
    "current_bias = model.linear.bias.item()\n",
    "\n",
    "predicted_y = current_weight * x + current_bias"
   ]
  },
  {
   "cell_type": "code",
   "execution_count": 127,
   "metadata": {},
   "outputs": [
    {
     "data": {
      "text/plain": [
       "array([  11.07625866,   31.82207713,   52.5678956 ,   73.31371407,\n",
       "         94.05953254,  114.805351  ,  135.55116947,  156.29698794,\n",
       "        177.04280641,  197.78862488,  218.53444335,  239.28026182,\n",
       "        260.02608029,  280.77189876,  301.51771723,  322.26353569,\n",
       "        343.00935416,  363.75517263,  384.5009911 ,  405.24680957,\n",
       "        425.99262804,  446.73844651,  467.48426498,  488.23008345,\n",
       "        508.97590192,  529.72172038,  550.46753885,  571.21335732,\n",
       "        591.95917579,  612.70499426,  633.45081273,  654.1966312 ,\n",
       "        674.94244967,  695.68826814,  716.4340866 ,  737.17990507,\n",
       "        757.92572354,  778.67154201,  799.41736048,  820.16317895,\n",
       "        840.90899742,  861.65481589,  882.40063436,  903.14645283,\n",
       "        923.89227129,  944.63808976,  965.38390823,  986.1297267 ,\n",
       "       1006.87554517, 1027.62136364])"
      ]
     },
     "execution_count": 127,
     "metadata": {},
     "output_type": "execute_result"
    }
   ],
   "source": [
    "predicted_y"
   ]
  },
  {
   "cell_type": "code",
   "execution_count": 128,
   "metadata": {},
   "outputs": [
    {
     "data": {
      "text/plain": [
       "[<matplotlib.lines.Line2D at 0x7fefa04b7940>]"
      ]
     },
     "execution_count": 128,
     "metadata": {},
     "output_type": "execute_result"
    },
    {
     "data": {
      "image/png": "[encoded data removed]",
      "text/plain": [
       "<Figure size 432x288 with 1 Axes>"
      ]
     },
     "metadata": {
      "needs_background": "light"
     },
     "output_type": "display_data"
    }
   ],
   "source": [
    "plt.scatter(X.numpy(), y.numpy())\n",
    "plt.plot(x, predicted_y, 'r')"
   ]
  },
  {
   "cell_type": "code",
   "execution_count": null,
   "metadata": {},
   "outputs": [],
   "source": []
  }
 ],
 "metadata": {
  "kernelspec": {
   "display_name": "Python 3",
   "language": "python",
   "name": "python3"
  },
  "language_info": {
   "codemirror_mode": {
    "name": "ipython",
    "version": 3
   },
   "file_extension": ".py",
   "mimetype": "text/x-python",
   "name": "python",
   "nbconvert_exporter": "python",
   "pygments_lexer": "ipython3",
   "version": "3.7.3"
  }
 },
 "nbformat": 4,
 "nbformat_minor": 4
}
