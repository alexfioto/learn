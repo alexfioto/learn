{
 "cells": [
  {
   "cell_type": "code",
   "execution_count": 1,
   "metadata": {},
   "outputs": [],
   "source": [
    "import torch\n",
    "import torch.nn as nn\n",
    "import torch.nn.functional as F"
   ]
  },
  {
   "cell_type": "code",
   "execution_count": 2,
   "metadata": {},
   "outputs": [],
   "source": [
    "class Model(nn.Module):\n",
    "    \n",
    "    def __init__(self, in_features=4, h1=8, h2=9, out_features=3):\n",
    "        # how many layers?\n",
    "        super().__init__()\n",
    "        self.fc1 = nn.Linear(in_features, h1)\n",
    "        self.fc2 = nn.Linear(h1, h2)\n",
    "        self.out = nn.Linear(h2, out_features)\n",
    "        \n",
    "        \n",
    "        # Input layer (4 features) --> h1 N --> h2 N --> ouput (3 classes)\n",
    "        \n",
    "    \n",
    "    def forward(self, x):\n",
    "        \n",
    "        x = F.relu(self.fc1(x))\n",
    "        x = F.relu(self.fc2(x))\n",
    "        x = self.out(x)\n",
    "        \n",
    "        return x"
   ]
  },
  {
   "cell_type": "code",
   "execution_count": 3,
   "metadata": {},
   "outputs": [],
   "source": [
    "torch.manual_seed(32)\n",
    "model = Model()"
   ]
  },
  {
   "cell_type": "code",
   "execution_count": 5,
   "metadata": {},
   "outputs": [
    {
     "data": {
      "text/plain": [
       "Model(\n",
       "  (fc1): Linear(in_features=4, out_features=8, bias=True)\n",
       "  (fc2): Linear(in_features=8, out_features=9, bias=True)\n",
       "  (out): Linear(in_features=9, out_features=3, bias=True)\n",
       ")"
      ]
     },
     "execution_count": 5,
     "metadata": {},
     "output_type": "execute_result"
    }
   ],
   "source": [
    "model"
   ]
  },
  {
   "cell_type": "code",
   "execution_count": 7,
   "metadata": {},
   "outputs": [],
   "source": [
    "import pandas as pd\n",
    "import matplotlib.pyplot as plt"
   ]
  },
  {
   "cell_type": "code",
   "execution_count": 8,
   "metadata": {},
   "outputs": [],
   "source": [
    "df = pd.read_csv('../Data/iris.csv')"
   ]
  },
  {
   "cell_type": "code",
   "execution_count": 9,
   "metadata": {},
   "outputs": [
    {
     "data": {
      "text/html": [
       "<div>\n",
       "<style scoped>\n",
       "    .dataframe tbody tr th:only-of-type {\n",
       "        vertical-align: middle;\n",
       "    }\n",
       "\n",
       "    .dataframe tbody tr th {\n",
       "        vertical-align: top;\n",
       "    }\n",
       "\n",
       "    .dataframe thead th {\n",
       "        text-align: right;\n",
       "    }\n",
       "</style>\n",
       "<table border=\"1\" class=\"dataframe\">\n",
       "  <thead>\n",
       "    <tr style=\"text-align: right;\">\n",
       "      <th></th>\n",
       "      <th>sepal length (cm)</th>\n",
       "      <th>sepal width (cm)</th>\n",
       "      <th>petal length (cm)</th>\n",
       "      <th>petal width (cm)</th>\n",
       "      <th>target</th>\n",
       "    </tr>\n",
       "  </thead>\n",
       "  <tbody>\n",
       "    <tr>\n",
       "      <th>0</th>\n",
       "      <td>5.1</td>\n",
       "      <td>3.5</td>\n",
       "      <td>1.4</td>\n",
       "      <td>0.2</td>\n",
       "      <td>0.0</td>\n",
       "    </tr>\n",
       "    <tr>\n",
       "      <th>1</th>\n",
       "      <td>4.9</td>\n",
       "      <td>3.0</td>\n",
       "      <td>1.4</td>\n",
       "      <td>0.2</td>\n",
       "      <td>0.0</td>\n",
       "    </tr>\n",
       "  </tbody>\n",
       "</table>\n",
       "</div>"
      ],
      "text/plain": [
       "   sepal length (cm)  sepal width (cm)  petal length (cm)  petal width (cm)  \\\n",
       "0                5.1               3.5                1.4               0.2   \n",
       "1                4.9               3.0                1.4               0.2   \n",
       "\n",
       "   target  \n",
       "0     0.0  \n",
       "1     0.0  "
      ]
     },
     "execution_count": 9,
     "metadata": {},
     "output_type": "execute_result"
    }
   ],
   "source": [
    "df.head(2)"
   ]
  },
  {
   "cell_type": "code",
   "execution_count": 10,
   "metadata": {},
   "outputs": [
    {
     "data": {
      "text/html": [
       "<div>\n",
       "<style scoped>\n",
       "    .dataframe tbody tr th:only-of-type {\n",
       "        vertical-align: middle;\n",
       "    }\n",
       "\n",
       "    .dataframe tbody tr th {\n",
       "        vertical-align: top;\n",
       "    }\n",
       "\n",
       "    .dataframe thead th {\n",
       "        text-align: right;\n",
       "    }\n",
       "</style>\n",
       "<table border=\"1\" class=\"dataframe\">\n",
       "  <thead>\n",
       "    <tr style=\"text-align: right;\">\n",
       "      <th></th>\n",
       "      <th>sepal length (cm)</th>\n",
       "      <th>sepal width (cm)</th>\n",
       "      <th>petal length (cm)</th>\n",
       "      <th>petal width (cm)</th>\n",
       "      <th>target</th>\n",
       "    </tr>\n",
       "  </thead>\n",
       "  <tbody>\n",
       "    <tr>\n",
       "      <th>148</th>\n",
       "      <td>6.2</td>\n",
       "      <td>3.4</td>\n",
       "      <td>5.4</td>\n",
       "      <td>2.3</td>\n",
       "      <td>2.0</td>\n",
       "    </tr>\n",
       "    <tr>\n",
       "      <th>149</th>\n",
       "      <td>5.9</td>\n",
       "      <td>3.0</td>\n",
       "      <td>5.1</td>\n",
       "      <td>1.8</td>\n",
       "      <td>2.0</td>\n",
       "    </tr>\n",
       "  </tbody>\n",
       "</table>\n",
       "</div>"
      ],
      "text/plain": [
       "     sepal length (cm)  sepal width (cm)  petal length (cm)  petal width (cm)  \\\n",
       "148                6.2               3.4                5.4               2.3   \n",
       "149                5.9               3.0                5.1               1.8   \n",
       "\n",
       "     target  \n",
       "148     2.0  \n",
       "149     2.0  "
      ]
     },
     "execution_count": 10,
     "metadata": {},
     "output_type": "execute_result"
    }
   ],
   "source": [
    "df.tail(2)"
   ]
  },
  {
   "cell_type": "code",
   "execution_count": 11,
   "metadata": {},
   "outputs": [],
   "source": [
    "X = df.drop('target', axis=1)\n",
    "y = df['target']"
   ]
  },
  {
   "cell_type": "code",
   "execution_count": 13,
   "metadata": {},
   "outputs": [],
   "source": [
    "X = X.values\n",
    "y = y.values"
   ]
  },
  {
   "cell_type": "code",
   "execution_count": 15,
   "metadata": {},
   "outputs": [],
   "source": [
    "from sklearn.model_selection import train_test_split"
   ]
  },
  {
   "cell_type": "code",
   "execution_count": 16,
   "metadata": {},
   "outputs": [],
   "source": [
    "X_train, X_test, y_train, y_test = train_test_split(X, y, test_size = 0.2, random_state=33)"
   ]
  },
  {
   "cell_type": "code",
   "execution_count": 17,
   "metadata": {},
   "outputs": [],
   "source": [
    "X_train = torch.FloatTensor(X_train)\n",
    "X_test = torch.FloatTensor(X_test)"
   ]
  },
  {
   "cell_type": "code",
   "execution_count": 18,
   "metadata": {},
   "outputs": [],
   "source": [
    "y_train = torch.LongTensor(y_train)\n",
    "y_test = torch.LongTensor(y_test)"
   ]
  },
  {
   "cell_type": "code",
   "execution_count": 24,
   "metadata": {},
   "outputs": [],
   "source": [
    "criterion = nn.CrossEntropyLoss()\n",
    "\n",
    "optimizer = torch.optim.Adam(model.parameters(), lr=0.01)"
   ]
  },
  {
   "cell_type": "code",
   "execution_count": 25,
   "metadata": {},
   "outputs": [
    {
     "name": "stdout",
     "output_type": "stream",
     "text": [
      "epoch 0 and loss is: 1.1507115364074707\n",
      "epoch 10 and loss is: 0.9377316832542419\n",
      "epoch 20 and loss is: 0.7798274755477905\n",
      "epoch 30 and loss is: 0.6099672317504883\n",
      "epoch 40 and loss is: 0.4008353650569916\n",
      "epoch 50 and loss is: 0.2543700337409973\n",
      "epoch 60 and loss is: 0.15052451193332672\n",
      "epoch 70 and loss is: 0.10086153447628021\n",
      "epoch 80 and loss is: 0.08127658814191818\n",
      "epoch 90 and loss is: 0.07230933755636215\n"
     ]
    }
   ],
   "source": [
    "# how many epochs?\n",
    "# an epoch is 1 run through all of the training datat\n",
    "\n",
    "epochs = 100\n",
    "losses = []\n",
    "\n",
    "for i in range(epochs):\n",
    "    # Forward and get a prediction\n",
    "    \n",
    "    y_pred = model.forward(X_train)\n",
    "    \n",
    "    # calculate loss\n",
    "    loss = criterion(y_pred, y_train) # no need to OHE because cross entropy loss\n",
    "    \n",
    "    losses.append(loss)\n",
    "    \n",
    "    if i % 10 == 0:\n",
    "        print(f'epoch {i} and loss is: {loss}')\n",
    "        \n",
    "    # Backpropagation\n",
    "    \n",
    "    optimizer.zero_grad()\n",
    "    loss.backward()\n",
    "    optimizer.step()"
   ]
  },
  {
   "cell_type": "code",
   "execution_count": 28,
   "metadata": {},
   "outputs": [
    {
     "data": {
      "image/png": "[encoded data removed]",
      "text/plain": [
       "<Figure size 432x288 with 1 Axes>"
      ]
     },
     "metadata": {
      "needs_background": "light"
     },
     "output_type": "display_data"
    }
   ],
   "source": [
    "plt.plot(range(epochs), losses)\n",
    "plt.ylabel('loss')\n",
    "plt.xlabel('epoch');"
   ]
  },
  {
   "cell_type": "code",
   "execution_count": 29,
   "metadata": {},
   "outputs": [],
   "source": [
    "with torch.no_grad():\n",
    "    y_eval = model.forward(X_test)\n",
    "    loss = criterion(y_eval, y_test)"
   ]
  },
  {
   "cell_type": "code",
   "execution_count": 30,
   "metadata": {},
   "outputs": [
    {
     "data": {
      "text/plain": [
       "tensor(0.0581)"
      ]
     },
     "execution_count": 30,
     "metadata": {},
     "output_type": "execute_result"
    }
   ],
   "source": [
    "loss"
   ]
  },
  {
   "cell_type": "code",
   "execution_count": 35,
   "metadata": {},
   "outputs": [
    {
     "name": "stdout",
     "output_type": "stream",
     "text": [
      "1) tensor([-2.1245,  4.8073, -0.8623]) 1\n",
      "2) tensor([-1.7976,  5.3110, -1.5445]) 1\n",
      "3) tensor([  6.3540,   0.8432, -10.0531]) 0\n",
      "4) tensor([-3.9114,  4.5969,  1.1698]) 1\n",
      "5) tensor([-7.4707,  3.2028,  5.7865]) 2\n",
      "6) tensor([-10.4965,   1.6465,   9.6306]) 2\n",
      "7) tensor([  6.3199,   0.9912, -10.1520]) 0\n",
      "8) tensor([  7.0467,   0.7053, -10.9127]) 0\n",
      "9) tensor([-7.2053,  3.3485,  5.3575]) 2\n",
      "10) tensor([-9.3950,  2.5767,  8.1044]) 2\n",
      "11) tensor([-9.8795,  2.3483,  8.7148]) 2\n",
      "12) tensor([ 6.2747,  0.6650, -9.7604]) 0\n",
      "13) tensor([-9.3131,  2.1888,  8.1954]) 2\n",
      "14) tensor([-3.7796,  4.5061,  1.0759]) 1\n",
      "15) tensor([-7.8646,  3.0127,  6.2310]) 2\n",
      "16) tensor([-1.8859,  5.1583, -1.3341]) 1\n",
      "17) tensor([-5.6999,  3.5039,  3.6704]) 2\n",
      "18) tensor([  7.1788,   0.7363, -11.1340]) 0\n",
      "19) tensor([-3.2937,  4.7942,  0.3480]) 1\n",
      "20) tensor([-7.7657,  3.7639,  5.7106]) 2\n",
      "21) tensor([  6.6498,   0.7883, -10.4241]) 0\n",
      "22) tensor([  7.4356,   0.8912, -11.6589]) 0\n",
      "23) tensor([-9.7573,  2.1751,  8.6661]) 2\n",
      "24) tensor([  6.5769,   0.7415, -10.2723]) 0\n",
      "25) tensor([-7.4137,  2.8727,  5.9455]) 2\n",
      "26) tensor([-6.1542,  3.4040,  4.2307]) 2\n",
      "27) tensor([-3.1627,  4.7471,  0.2709]) 1\n",
      "28) tensor([-1.5438,  4.9041, -1.5553]) 1\n",
      "29) tensor([-7.4326,  3.1110,  5.7358]) 2\n",
      "30) tensor([-6.7030,  3.1194,  4.9605]) 2\n",
      "we got 30 number correct!\n"
     ]
    }
   ],
   "source": [
    "correct = 0\n",
    "\n",
    "with torch.no_grad():\n",
    "    for i, data in enumerate(X_test):\n",
    "        y_val = model.forward(data)\n",
    "        print(f'{i+1}) {str(y_val)} {y_test[i]}')\n",
    "        \n",
    "        if y_val.argmax().item() == y_test[i]:\n",
    "            correct +=1\n",
    "print(f'we got {correct} number correct!')"
   ]
  },
  {
   "cell_type": "code",
   "execution_count": 36,
   "metadata": {},
   "outputs": [
    {
     "data": {
      "text/plain": [
       "OrderedDict([('fc1.weight',\n",
       "              tensor([[ 0.1212, -0.4386, -0.4619, -0.0438],\n",
       "                      [-0.3870,  0.0793,  0.1481, -0.4771],\n",
       "                      [ 0.3719,  0.0894,  0.5771, -0.0468],\n",
       "                      [ 0.7636,  0.6492, -0.4409, -1.3608],\n",
       "                      [ 0.3509, -0.6458,  0.8176,  0.9495],\n",
       "                      [ 0.4723,  0.9446, -0.7489, -1.1534],\n",
       "                      [ 0.1646, -0.1114, -0.4213, -0.3553],\n",
       "                      [-0.3191,  0.1440, -0.3496,  0.2280]])),\n",
       "             ('fc1.bias',\n",
       "              tensor([ 0.1859, -0.2029,  0.6705,  0.7744, -0.1637,  0.7040, -0.3122,  0.3781])),\n",
       "             ('fc2.weight',\n",
       "              tensor([[-0.2174,  0.0821,  0.1038, -0.3532, -0.4183,  0.1002, -0.3494, -0.2639],\n",
       "                      [ 0.1729, -0.1185,  0.8347, -0.0941,  0.5682, -0.6716,  0.0699, -0.3265],\n",
       "                      [-0.3545, -0.2716,  0.1349, -0.5668,  0.6432, -0.7774,  0.3048, -0.2101],\n",
       "                      [-0.0737, -0.0607,  0.1771, -0.0418, -0.1324, -0.1184, -0.3002, -0.1128],\n",
       "                      [ 0.1267, -0.1912,  0.1175, -0.7310,  0.8055, -0.3096, -0.2034,  0.0114],\n",
       "                      [-0.0197,  0.0627, -0.2298, -0.2206, -0.0519, -0.2718,  0.0394, -0.1808],\n",
       "                      [-0.2572, -0.0174,  0.3191,  0.0762,  0.7926, -0.5777, -0.1105, -0.0624],\n",
       "                      [-0.1299, -0.3429,  0.6268,  0.5162, -0.1859,  0.9157, -0.3523,  0.3125],\n",
       "                      [-0.3375, -0.2082,  0.1227, -0.1603, -0.1770, -0.3074,  0.1080,  0.2850]])),\n",
       "             ('fc2.bias',\n",
       "              tensor([ 0.0181,  0.5101, -0.6753, -0.4435, -0.5684, -0.0359,  0.0161,  0.4786,\n",
       "                      -0.0287])),\n",
       "             ('out.weight',\n",
       "              tensor([[-0.1395, -0.5269, -0.1569, -0.0374, -0.7366,  0.2267, -0.5421,  0.6344,\n",
       "                        0.2985],\n",
       "                      [ 0.1001,  0.5085, -0.9521, -0.1346, -0.5926,  0.2718,  0.3772,  0.0906,\n",
       "                        0.2062],\n",
       "                      [-0.1918,  0.2498,  0.6317, -0.0373,  0.6954, -0.3219,  0.7715, -1.0043,\n",
       "                       -0.0886]])),\n",
       "             ('out.bias', tensor([ 0.5718, -0.2767, -0.6040]))])"
      ]
     },
     "execution_count": 36,
     "metadata": {},
     "output_type": "execute_result"
    }
   ],
   "source": [
    "model.state_dict()"
   ]
  },
  {
   "cell_type": "code",
   "execution_count": 39,
   "metadata": {},
   "outputs": [],
   "source": [
    "# save file\n",
    "torch.save(model.state_dict(), 'alex_my_iris_model.pt')"
   ]
  },
  {
   "cell_type": "code",
   "execution_count": 42,
   "metadata": {},
   "outputs": [
    {
     "data": {
      "text/plain": [
       "IncompatibleKeys(missing_keys=[], unexpected_keys=[])"
      ]
     },
     "execution_count": 42,
     "metadata": {},
     "output_type": "execute_result"
    }
   ],
   "source": [
    "new_model = Model()\n",
    "new_model.load_state_dict(torch.load('alex_my_iris_model.pt'))"
   ]
  },
  {
   "cell_type": "code",
   "execution_count": 43,
   "metadata": {},
   "outputs": [
    {
     "data": {
      "text/plain": [
       "Model(\n",
       "  (fc1): Linear(in_features=4, out_features=8, bias=True)\n",
       "  (fc2): Linear(in_features=8, out_features=9, bias=True)\n",
       "  (out): Linear(in_features=9, out_features=3, bias=True)\n",
       ")"
      ]
     },
     "execution_count": 43,
     "metadata": {},
     "output_type": "execute_result"
    }
   ],
   "source": [
    "new_model.eval()"
   ]
  },
  {
   "cell_type": "code",
   "execution_count": 44,
   "metadata": {},
   "outputs": [],
   "source": [
    "mystery_iris = torch.tensor([5.6, 3.7, 2.2, 0.5])"
   ]
  },
  {
   "cell_type": "code",
   "execution_count": 46,
   "metadata": {},
   "outputs": [
    {
     "name": "stdout",
     "output_type": "stream",
     "text": [
      "tensor([  5.9520,   1.5591, -10.0041])\n",
      "tensor(0)\n"
     ]
    }
   ],
   "source": [
    "with torch.no_grad():\n",
    "    print(new_model(mystery_iris))\n",
    "    print(new_model(mystery_iris).argmax())"
   ]
  },
  {
   "cell_type": "code",
   "execution_count": null,
   "metadata": {},
   "outputs": [],
   "source": []
  }
 ],
 "metadata": {
  "kernelspec": {
   "display_name": "Python 3",
   "language": "python",
   "name": "python3"
  },
  "language_info": {
   "codemirror_mode": {
    "name": "ipython",
    "version": 3
   },
   "file_extension": ".py",
   "mimetype": "text/x-python",
   "name": "python",
   "nbconvert_exporter": "python",
   "pygments_lexer": "ipython3",
   "version": "3.7.7"
  }
 },
 "nbformat": 4,
 "nbformat_minor": 4
}
