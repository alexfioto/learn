{
 "cells": [
  {
   "cell_type": "markdown",
   "metadata": {},
   "source": [
    "# The Maxiumum and Minimum Difference -- Challenge Version"
   ]
  },
  {
   "cell_type": "code",
   "execution_count": 89,
   "metadata": {},
   "outputs": [],
   "source": [
    "# Success\n",
    "def max_and_min(arr1, arr2):\n",
    "    import math\n",
    "\n",
    "    arr1 = sorted(list(set(arr1)))\n",
    "    arr2 = sorted(list(set(arr2)))\n",
    "    \n",
    "    maximum = max([abs(max(arr1) - min(arr2)), abs((max(arr2) - min(arr1)))])\n",
    "    minimum = math.inf\n",
    "    \n",
    "    i, j = (0, 0)\n",
    "    \n",
    "    while (i < len(arr1) and j < len(arr2)):\n",
    "        diff = abs(arr1[i] - arr2[j])\n",
    "        if diff < minimum:\n",
    "            minimum = diff\n",
    "        \n",
    "        if arr1[i] < arr2[j]:\n",
    "            i += 1\n",
    "        else:\n",
    "            j += 1\n",
    "\n",
    "    return (maximum, minimum)\n",
    "    \n"
   ]
  },
  {
   "cell_type": "code",
   "execution_count": 90,
   "metadata": {},
   "outputs": [
    {
     "data": {
      "text/plain": [
       "(17, 2)"
      ]
     },
     "execution_count": 90,
     "metadata": {},
     "output_type": "execute_result"
    }
   ],
   "source": [
    "max_and_min([3,10,5],[20,7,15,8])"
   ]
  },
  {
   "cell_type": "code",
   "execution_count": 91,
   "metadata": {},
   "outputs": [],
   "source": [
    "ar1 = sorted([-870,91,-141,-739,707,-803,-195,-963,99,861])\n",
    "ar2 = sorted([796,-468,889,58,-765,-901,-311,-399,-764,-181,841,-670,-589])\n"
   ]
  },
  {
   "cell_type": "code",
   "execution_count": 92,
   "metadata": {},
   "outputs": [
    {
     "data": {
      "text/plain": [
       "(1852, 14)"
      ]
     },
     "execution_count": 92,
     "metadata": {},
     "output_type": "execute_result"
    }
   ],
   "source": [
    "max_and_min(ar1, ar2)"
   ]
  },
  {
   "cell_type": "code",
   "execution_count": null,
   "metadata": {},
   "outputs": [],
   "source": [
    "# Too long\n",
    "def max_and_min(arr1, arr2):\n",
    "    output = []\n",
    "    for i in arr1:\n",
    "        for j in arr2:\n",
    "            output.append(abs(j-i))\n",
    "    return(max(output), min(output))"
   ]
  },
  {
   "cell_type": "code",
   "execution_count": 88,
   "metadata": {},
   "outputs": [],
   "source": [
    "# still too long\n",
    "def max_and_min(arr1, arr2):\n",
    "\n",
    "    arr1 = list(set(arr1))\n",
    "    arr2 = list(set(arr2))\n",
    "    \n",
    "    maximum = max([abs(max(arr1) - min(arr2)), abs((max(arr2) - min(arr1)))])\n",
    "    \n",
    "    minimum = maximum\n",
    "    \n",
    "    for value in arr1:\n",
    "        absolute_difference_function = lambda list_value : abs(list_value - value)\n",
    "        diff = abs(value -  min(arr2, key=absolute_difference_function))\n",
    "        if diff < minimum:\n",
    "            minimum = diff\n",
    "\n",
    "    return (maximum, minimum)"
   ]
  }
 ],
 "metadata": {
  "kernelspec": {
   "display_name": "Python 3",
   "language": "python",
   "name": "python3"
  },
  "language_info": {
   "codemirror_mode": {
    "name": "ipython",
    "version": 3
   },
   "file_extension": ".py",
   "mimetype": "text/x-python",
   "name": "python",
   "nbconvert_exporter": "python",
   "pygments_lexer": "ipython3",
   "version": "3.7.7"
  }
 },
 "nbformat": 4,
 "nbformat_minor": 4
}
