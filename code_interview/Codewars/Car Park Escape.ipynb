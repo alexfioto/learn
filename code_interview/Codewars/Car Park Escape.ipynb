{
 "cells": [
  {
   "cell_type": "markdown",
   "metadata": {},
   "source": [
    "# Car Park Escape"
   ]
  },
  {
   "cell_type": "code",
   "execution_count": 1,
   "metadata": {},
   "outputs": [],
   "source": [
    "carpark = [[1, 0, 0, 0, 2],\n",
    "           [0, 0, 0, 0, 0]]"
   ]
  },
  {
   "cell_type": "markdown",
   "metadata": {},
   "source": [
    "Working Out\n",
    "- You start in the most far right position on level 1\n",
    "- You have to move Left 4 places to reach the staircase => \"L4\"\n",
    "- You then go down one flight of stairs => \"D1\"\n",
    "- To escape you have to move Right 4 places => \"R4\""
   ]
  },
  {
   "cell_type": "code",
   "execution_count": 2,
   "metadata": {},
   "outputs": [],
   "source": [
    "result = [\"L4\", \"D1\", \"R4\"]"
   ]
  },
  {
   "cell_type": "code",
   "execution_count": 53,
   "metadata": {},
   "outputs": [],
   "source": [
    "carpark = [[2, 0, 0, 1, 0],\n",
    "           [0, 0, 0, 1, 0],\n",
    "           [0, 0, 0, 0, 0]]\n",
    "result = [\"R3\", \"D2\", \"R1\"]"
   ]
  },
  {
   "cell_type": "code",
   "execution_count": null,
   "metadata": {},
   "outputs": [],
   "source": []
  },
  {
   "cell_type": "code",
   "execution_count": 204,
   "metadata": {},
   "outputs": [],
   "source": [
    "carpark = [[0, 0, 0, 1, 0],\n",
    "           [0, 2, 0, 1, 0],\n",
    "           [0, 0, 0, 0, 0]]\n",
    "result = [\"R3\", \"D2\", \"R1\"]"
   ]
  },
  {
   "cell_type": "code",
   "execution_count": 193,
   "metadata": {},
   "outputs": [],
   "source": [
    "carpark = [[1, 0, 0, 0, 2],\n",
    "           [0, 0, 0, 0, 0]]"
   ]
  },
  {
   "cell_type": "code",
   "execution_count": 212,
   "metadata": {},
   "outputs": [],
   "source": [
    "def escape(carpark):\n",
    "    \n",
    "    for level in carpark:\n",
    "        if 2 in level:\n",
    "            person_idx = level.index(2)\n",
    "            start_level = carpark.index(level)\n",
    "    \n",
    "    stair_idx = None\n",
    "    result = []\n",
    "    levels = 1\n",
    "    for level in range(start_level, len(carpark)):\n",
    "        print(f'-----------\\nLEVEL {level}')\n",
    "        move = ''\n",
    "        ground_floor = True\n",
    "        direction = None\n",
    "        for space in range(len(carpark[0])):\n",
    "            if carpark[level][space] == 1:\n",
    "                ground_floor = False\n",
    "                print(f'Ground Floor: {ground_floor}')\n",
    "                stair_idx = space\n",
    "                print(f'Stair Index {stair_idx}')\n",
    "                print(f'Person Index {person_idx}')\n",
    "                \n",
    "    \n",
    "        \n",
    "        if not ground_floor:\n",
    "            \n",
    "            direction = person_idx - stair_idx\n",
    "            \n",
    "            \n",
    "            if direction == 0:\n",
    "                levels += 1\n",
    "                print(f'Looks like another stairwell. Let\\'s go down another level')\n",
    "                result.pop()\n",
    "                result.append(f'D{levels}')\n",
    "                \n",
    "                \n",
    "            elif direction > 0:\n",
    "                \n",
    "                levels = 1   \n",
    "                result.append(f'L{abs(direction)}')\n",
    "                print(f'We just moved Left {abs(direction)} Spaces')\n",
    "                result.append('D1')\n",
    "            else:\n",
    "                levels = 1   \n",
    "                result.append(f'R{abs(direction)}')\n",
    "                print(f'We just moved Right {abs(direction)} Spaces')\n",
    "                result.append('D1')\n",
    "        \n",
    "            person_idx = stair_idx\n",
    "     \n",
    "        else:\n",
    "\n",
    "                \n",
    "            print(f'Ground Floor: {ground_floor}')\n",
    "            direction = len(carpark[level]) - person_idx - 1\n",
    "            result.append(f'R{direction}')\n",
    "            print(f'Let\\'s go right {direction} and get hell out of this place. WE HAVE ESCAPED!')\n",
    "            \n",
    "            \n",
    "    if result[-1] == 'R0':\n",
    "        print(f'That stair case just led us right to the exit. WE HAVE ESCAPED!')\n",
    "        result.pop()\n",
    "    return result"
   ]
  },
  {
   "cell_type": "code",
   "execution_count": 213,
   "metadata": {},
   "outputs": [
    {
     "name": "stdout",
     "output_type": "stream",
     "text": [
      "-----------\n",
      "LEVEL 1\n",
      "Ground Floor: False\n",
      "Stair Index 3\n",
      "Person Index 1\n",
      "We just moved Right 2 Spaces\n",
      "-----------\n",
      "LEVEL 2\n",
      "Ground Floor: True\n",
      "Let's go right 1 spaces and get hell out of this place. WE HAVE ESCAPED!\n"
     ]
    },
    {
     "data": {
      "text/plain": [
       "['R2', 'D1', 'R1']"
      ]
     },
     "execution_count": 213,
     "metadata": {},
     "output_type": "execute_result"
    }
   ],
   "source": [
    "escape(carpark)"
   ]
  },
  {
   "cell_type": "code",
   "execution_count": null,
   "metadata": {},
   "outputs": [],
   "source": []
  },
  {
   "cell_type": "code",
   "execution_count": null,
   "metadata": {},
   "outputs": [],
   "source": []
  }
 ],
 "metadata": {
  "kernelspec": {
   "display_name": "Python 3",
   "language": "python",
   "name": "python3"
  },
  "language_info": {
   "codemirror_mode": {
    "name": "ipython",
    "version": 3
   },
   "file_extension": ".py",
   "mimetype": "text/x-python",
   "name": "python",
   "nbconvert_exporter": "python",
   "pygments_lexer": "ipython3",
   "version": "3.7.7"
  }
 },
 "nbformat": 4,
 "nbformat_minor": 4
}
