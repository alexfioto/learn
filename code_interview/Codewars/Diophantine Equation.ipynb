{
 "cells": [
  {
   "cell_type": "markdown",
   "metadata": {},
   "source": [
    "# Diophantine Equation"
   ]
  },
  {
   "cell_type": "markdown",
   "metadata": {},
   "source": [
    "x2 - 4 * y2 = (x - 2*y) * (x + 2*y)"
   ]
  },
  {
   "cell_type": "code",
   "execution_count": 37,
   "metadata": {},
   "outputs": [],
   "source": [
    "# Naive approach\n",
    "def sol_equa(n):\n",
    "    solns = []\n",
    "    def equa(x, y):\n",
    "        if (x ** 2 - 4 * y ** 2) == n:\n",
    "            return [x, y]\n",
    "    for i in range(int(n/2)+ 1):\n",
    "        for j in range(int(n/2) +1):\n",
    "            if equa(i, j):\n",
    "                solns.append(equa(i, j))\n",
    "    return solns\n",
    "                "
   ]
  },
  {
   "cell_type": "code",
   "execution_count": 77,
   "metadata": {},
   "outputs": [],
   "source": [
    "# My solution\n",
    "\n",
    "def sol_equa(n):\n",
    "    solns = []\n",
    "    sqrt = n ** 0.5\n",
    "    \n",
    "    for a in range(1, int(n ** .5)):\n",
    "        b = n / a\n",
    "        if b % 1 == 0:\n",
    "            x = (a+b)/2\n",
    "            y = (b-a)/4\n",
    "            if (x%1 == 0) and (y%1 == 0):\n",
    "                solns.append([int(x), int(y)])\n",
    "    if sqrt % 1 == 0:\n",
    "        solns.append([int(sqrt), 0])\n",
    "    return solns"
   ]
  },
  {
   "cell_type": "code",
   "execution_count": 69,
   "metadata": {},
   "outputs": [
    {
     "ename": "SyntaxError",
     "evalue": "invalid syntax (<ipython-input-69-1cb594ea236e>, line 1)",
     "output_type": "error",
     "traceback": [
      "\u001b[0;36m  File \u001b[0;32m\"<ipython-input-69-1cb594ea236e>\"\u001b[0;36m, line \u001b[0;32m1\u001b[0m\n\u001b[0;31m    solEqua <- function(n) {\u001b[0m\n\u001b[0m                           ^\u001b[0m\n\u001b[0;31mSyntaxError\u001b[0m\u001b[0;31m:\u001b[0m invalid syntax\n"
     ]
    }
   ],
   "source": [
    "# Toby's solution\n",
    "solEqua <- function(n) {\n",
    "  total = c()\n",
    "  for (a in 1:floor(sqrt(n))) {\n",
    "    b = n / a\n",
    "    if (b %% 1 == 0) {\n",
    "      x = (a+b)/2\n",
    "      y = (b-a)/4\n",
    "      if (x %% 1 == 0 && y %% 1 == 0) total = c(total,paste0(\"(\",x,\", \",y,\")\"))\n",
    "    }\n",
    "  }\n",
    "  paste0(\"[\",paste0(total,collapse=\", \"),\"]\")\n",
    "}"
   ]
  },
  {
   "cell_type": "code",
   "execution_count": 76,
   "metadata": {},
   "outputs": [
    {
     "data": {
      "text/plain": [
       "[[45003, 22501], [9003, 4499], [981, 467], [309, 37]]"
      ]
     },
     "execution_count": 76,
     "metadata": {},
     "output_type": "execute_result"
    }
   ],
   "source": [
    "sol_equa(90005)"
   ]
  },
  {
   "cell_type": "code",
   "execution_count": null,
   "metadata": {},
   "outputs": [],
   "source": [
    "# Clever Solution\n",
    "import math\n",
    "def sol_equa(n):\n",
    "    res = []\n",
    "    for i in range(1, int(math.sqrt(n)) + 1):\n",
    "        if n % i == 0:\n",
    "            j = n // i\n",
    "            if (i + j) % 2 == 0 and (j - i) % 4 == 0:\n",
    "                x = (i + j) // 2\n",
    "                y = (j - i) // 4\n",
    "                res.append([x, y])\n",
    "            \n",
    "    return res"
   ]
  }
 ],
 "metadata": {
  "kernelspec": {
   "display_name": "Python 3",
   "language": "python",
   "name": "python3"
  },
  "language_info": {
   "codemirror_mode": {
    "name": "ipython",
    "version": 3
   },
   "file_extension": ".py",
   "mimetype": "text/x-python",
   "name": "python",
   "nbconvert_exporter": "python",
   "pygments_lexer": "ipython3",
   "version": "3.7.7"
  }
 },
 "nbformat": 4,
 "nbformat_minor": 4
}
