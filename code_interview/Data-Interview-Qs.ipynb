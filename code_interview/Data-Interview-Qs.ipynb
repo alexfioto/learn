{
 "cells": [
  {
   "cell_type": "code",
   "execution_count": 2,
   "metadata": {},
   "outputs": [
    {
     "data": {
      "application/javascript": [
       "document.title='Public Github'\n"
      ],
      "text/plain": [
       "<IPython.core.display.Javascript object>"
      ]
     },
     "metadata": {},
     "output_type": "display_data"
    }
   ],
   "source": [
    "%%javascript\n",
    "document.title='Public Github'"
   ]
  },
  {
   "cell_type": "markdown",
   "metadata": {},
   "source": [
    "# Best Selling Products"
   ]
  },
  {
   "cell_type": "markdown",
   "metadata": {},
   "source": [
    "Suppose you’re an analyst for an e-commerce store. You’re trying to identify the top selling products in Q4 2017 by region, and you have 2 tables that you can query:\n",
    "\n",
    "Table: all_products\n",
    "\n",
    "|**Column Name**|**Data Type**|**Description**|\n",
    "|---|---|---|\n",
    "|product_id|integer|id of the product|\n",
    "|product_name|string|name of the product|\n",
    "|sku|integer|universal stock keeping unit number|\n",
    "|distributor_id|integer|id for distributor|\n",
    "\n",
    "Table: orders\n",
    "\n",
    "|**Column Name**|**Data Type**|**Description**|\n",
    "|---|---|---|\n",
    "|date|string|format is \"YYYY-MM-DD\"|\n",
    "|user_id|integer|id of purchaser|\n",
    "|order_id|integer|id of order number|\n",
    "|product_id|integer|id of product|\n",
    "|no_units|integer|number of units sold in the order|\n",
    "|price|integer|price per item|\n",
    "|shipping_id|integer|id of shipment|\n",
    "|region|string|region being shipped to|\n",
    "\n",
    "Using the tables above, write a SQL query to find the top 5 selling products (in terms of total units sold) by region in Q4 of 2017. Include both the distributor id as well as the name of the product in your results.\n",
    "\n"
   ]
  },
  {
   "cell_type": "markdown",
   "metadata": {},
   "source": [
    "\n",
    "```SQL\n",
    "SELECT ap.distributor_id, ap.product_name\n",
    "FROM orders as o\n",
    "LEFT JOIN all_products as ap\n",
    "    ON o.product_id = ap.product_id\n",
    "WHERE o.date BETWEEN '2017-10-01' AND '2017-12-31'\n",
    "GROUPBY o.region\n",
    "ORDER BY SUM(o.no_units) DESC\n",
    "LIMIT 5\n",
    "```"
   ]
  },
  {
   "cell_type": "markdown",
   "metadata": {},
   "source": [
    "# Telephone Digits to Letters"
   ]
  },
  {
   "cell_type": "markdown",
   "metadata": {},
   "source": [
    "Suppose you're given a portion of a phone number. Each digit corresponds to letters (as shown below). Using python, write code to return all possible combinations the given number could represent.\n",
    "\n",
    "Telephone digits, for reference:"
   ]
  },
  {
   "cell_type": "markdown",
   "metadata": {},
   "source": [
    "![](assets/telephone_digits.png)"
   ]
  },
  {
   "cell_type": "code",
   "execution_count": 7,
   "metadata": {},
   "outputs": [],
   "source": [
    "# For example:\n",
    "\n",
    "# Input: \"24\"\n",
    "\n",
    "# Output: \n",
    "\n",
    "# ['a', 'g']\n",
    "\n",
    "# ['a', 'h']\n",
    "\n",
    "# ['a', 'i']\n",
    "\n",
    "# ['b', 'g']\n",
    "\n",
    "# ['b', 'h']\n",
    "\n",
    "# ['b', 'i']\n",
    "\n",
    "# ['c', 'g']\n",
    "\n",
    "# ['c', 'h']\n",
    "\n",
    "# ['c', 'i']"
   ]
  },
  {
   "cell_type": "code",
   "execution_count": 33,
   "metadata": {},
   "outputs": [],
   "source": [
    "def digits_to_letters(digits):\n",
    "    combos = []\n",
    "    dtl_dict = {'2': 'abc', '3':'def', '4':'ghi', '5': 'jkl', '6':'mno', '7':'pqrs', '8': 'tuv', '9': 'wxyz'}\n",
    "    length = 1\n",
    "    for digit in digits:\n",
    "        length *= len(dtl_dict.get(digit))\n",
    "    for digit in digits:\n",
    "        if not combos:\n",
    "            for letter in dtl_dict.get(digit):\n",
    "                combos.append([letter])\n",
    "        else:\n",
    "            for combo in combos:\n",
    "                \n",
    " \n",
    "    return combos\n",
    "            \n",
    "            "
   ]
  },
  {
   "cell_type": "code",
   "execution_count": 34,
   "metadata": {},
   "outputs": [
    {
     "ename": "KeyboardInterrupt",
     "evalue": "",
     "output_type": "error",
     "traceback": [
      "\u001b[0;31m---------------------------------------------------------------------------\u001b[0m",
      "\u001b[0;31mKeyboardInterrupt\u001b[0m                         Traceback (most recent call last)",
      "\u001b[0;32m<ipython-input-34-261ef185cccb>\u001b[0m in \u001b[0;36m<module>\u001b[0;34m\u001b[0m\n\u001b[0;32m----> 1\u001b[0;31m \u001b[0mdigits_to_letters\u001b[0m\u001b[0;34m(\u001b[0m\u001b[0;34m'24'\u001b[0m\u001b[0;34m)\u001b[0m\u001b[0;34m\u001b[0m\u001b[0;34m\u001b[0m\u001b[0m\n\u001b[0m",
      "\u001b[0;32m<ipython-input-33-68fca951e69e>\u001b[0m in \u001b[0;36mdigits_to_letters\u001b[0;34m(digits)\u001b[0m\n\u001b[1;32m     11\u001b[0m         \u001b[0;32melse\u001b[0m\u001b[0;34m:\u001b[0m\u001b[0;34m\u001b[0m\u001b[0;34m\u001b[0m\u001b[0m\n\u001b[1;32m     12\u001b[0m             \u001b[0;32mfor\u001b[0m \u001b[0mcombo\u001b[0m \u001b[0;32min\u001b[0m \u001b[0mcombos\u001b[0m\u001b[0;34m:\u001b[0m\u001b[0;34m\u001b[0m\u001b[0;34m\u001b[0m\u001b[0m\n\u001b[0;32m---> 13\u001b[0;31m                 \u001b[0mcombos\u001b[0m\u001b[0;34m.\u001b[0m\u001b[0mappend\u001b[0m\u001b[0;34m(\u001b[0m\u001b[0mcombo\u001b[0m\u001b[0;34m)\u001b[0m\u001b[0;34m\u001b[0m\u001b[0;34m\u001b[0m\u001b[0m\n\u001b[0m\u001b[1;32m     14\u001b[0m \u001b[0;34m\u001b[0m\u001b[0m\n\u001b[1;32m     15\u001b[0m     \u001b[0;32mreturn\u001b[0m \u001b[0mcombos\u001b[0m\u001b[0;34m\u001b[0m\u001b[0;34m\u001b[0m\u001b[0m\n",
      "\u001b[0;31mKeyboardInterrupt\u001b[0m: "
     ]
    }
   ],
   "source": [
    "digits_to_letters('24')"
   ]
  },
  {
   "cell_type": "code",
   "execution_count": 9,
   "metadata": {},
   "outputs": [
    {
     "data": {
      "text/plain": [
       "[['a'], ['a'], ['a']]"
      ]
     },
     "execution_count": 9,
     "metadata": {},
     "output_type": "execute_result"
    }
   ],
   "source": [
    "[['a']] *3"
   ]
  },
  {
   "cell_type": "code",
   "execution_count": 11,
   "metadata": {},
   "outputs": [
    {
     "name": "stdout",
     "output_type": "stream",
     "text": [
      "0\n",
      "1\n"
     ]
    }
   ],
   "source": [
    "digits = '24'\n",
    "for i in range(len(digits)):\n",
    "    print(i)\n",
    "    "
   ]
  },
  {
   "cell_type": "code",
   "execution_count": 12,
   "metadata": {},
   "outputs": [],
   "source": [
    "dtl_dict = {'2': 'abc', '3':'def', '4':'ghi', '5': 'jkl', '6':'mno', '7':'pqrs', '8': 'tuv', '9': 'wxyz'}\n",
    "length = 1\n",
    "for digit in digits:\n",
    "    length *= len(dtl_dict.get(digit))"
   ]
  },
  {
   "cell_type": "code",
   "execution_count": 13,
   "metadata": {},
   "outputs": [
    {
     "data": {
      "text/plain": [
       "9"
      ]
     },
     "execution_count": 13,
     "metadata": {},
     "output_type": "execute_result"
    }
   ],
   "source": [
    "length"
   ]
  },
  {
   "cell_type": "code",
   "execution_count": null,
   "metadata": {},
   "outputs": [],
   "source": []
  }
 ],
 "metadata": {
  "kernelspec": {
   "display_name": "Python 3",
   "language": "python",
   "name": "python3"
  },
  "language_info": {
   "codemirror_mode": {
    "name": "ipython",
    "version": 3
   },
   "file_extension": ".py",
   "mimetype": "text/x-python",
   "name": "python",
   "nbconvert_exporter": "python",
   "pygments_lexer": "ipython3",
   "version": "3.7.7"
  }
 },
 "nbformat": 4,
 "nbformat_minor": 4
}
