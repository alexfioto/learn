{
 "cells": [
  {
   "cell_type": "markdown",
   "metadata": {},
   "source": [
    "# Hamming Code"
   ]
  },
  {
   "cell_type": "markdown",
   "metadata": {},
   "source": [
    "https://www.codewars.com/kata/5ef9ca8b76be6d001d5e1c3e/train/python"
   ]
  },
  {
   "cell_type": "code",
   "execution_count": 135,
   "metadata": {},
   "outputs": [],
   "source": [
    "import binascii \n",
    "from statistics import mode"
   ]
  },
  {
   "cell_type": "code",
   "execution_count": 105,
   "metadata": {},
   "outputs": [],
   "source": [
    "from statistics import mode\n",
    "def encode(string):\n",
    "    x = [bin(ord(letter)).replace('b', '') for letter in string]\n",
    "    bits = []\n",
    "    for value in x:\n",
    "        code = ''\n",
    "        for digit in value:\n",
    "            code += digit * 3\n",
    "        bits.append(code)\n",
    "    return ''.join(bits)\n",
    "\n",
    "def decode(bits):\n",
    "    x = ''.join([mode(bits[i-3:i]) for i in range(1, len(bits)+ 1) if i%3 ==0])\n",
    "    return  ''.join([chr(int(x[i:i+8], 2)) for i in range(0, 24, 8)])"
   ]
  },
  {
   "cell_type": "code",
   "execution_count": 131,
   "metadata": {},
   "outputs": [
    {
     "data": {
      "text/plain": [
       "'0b100100'"
      ]
     },
     "execution_count": 131,
     "metadata": {},
     "output_type": "execute_result"
    }
   ],
   "source": [
    "bin(ord('$'))"
   ]
  },
  {
   "cell_type": "code",
   "execution_count": 106,
   "metadata": {},
   "outputs": [
    {
     "data": {
      "text/plain": [
       "'000111111000111000000000000111111000000111000111000111111111111000000111'"
      ]
     },
     "execution_count": 106,
     "metadata": {},
     "output_type": "execute_result"
    }
   ],
   "source": [
    "bit = encode('hey')\n",
    "bit"
   ]
  },
  {
   "cell_type": "code",
   "execution_count": 107,
   "metadata": {},
   "outputs": [
    {
     "data": {
      "text/plain": [
       "'hey'"
      ]
     },
     "execution_count": 107,
     "metadata": {},
     "output_type": "execute_result"
    }
   ],
   "source": [
    "decode(bit)"
   ]
  },
  {
   "cell_type": "code",
   "execution_count": 104,
   "metadata": {},
   "outputs": [],
   "source": [
    "x = ''.join([bit[i] for i in range(len(bit)) if i % 3 == 0])"
   ]
  },
  {
   "cell_type": "code",
   "execution_count": 66,
   "metadata": {},
   "outputs": [
    {
     "name": "stdout",
     "output_type": "stream",
     "text": [
      "24\n"
     ]
    },
    {
     "data": {
      "text/plain": [
       "'011010000110010101111001'"
      ]
     },
     "execution_count": 66,
     "metadata": {},
     "output_type": "execute_result"
    }
   ],
   "source": [
    "x = ''.join([mode(bit[i-3:i]) for i in range(1, len(bit)+ 1) if i%3 ==0])\n",
    "print(len(x))\n",
    "x"
   ]
  },
  {
   "cell_type": "code",
   "execution_count": 79,
   "metadata": {},
   "outputs": [
    {
     "name": "stdout",
     "output_type": "stream",
     "text": [
      "01101000\n",
      "01100101\n",
      "01111001\n"
     ]
    }
   ],
   "source": [
    "for i in list(range(0, 24, 8)):\n",
    "    print(x[i: i+8])"
   ]
  },
  {
   "cell_type": "code",
   "execution_count": 137,
   "metadata": {},
   "outputs": [
    {
     "ename": "Error",
     "evalue": "Incorrect padding",
     "output_type": "error",
     "traceback": [
      "\u001b[0;31m---------------------------------------------------------------------------\u001b[0m",
      "\u001b[0;31mError\u001b[0m                                     Traceback (most recent call last)",
      "\u001b[0;32m<ipython-input-137-8907427950cc>\u001b[0m in \u001b[0;36m<module>\u001b[0;34m\u001b[0m\n\u001b[0;32m----> 1\u001b[0;31m \u001b[0mbinascii\u001b[0m\u001b[0;34m.\u001b[0m\u001b[0ma2b_base64\u001b[0m\u001b[0;34m(\u001b[0m\u001b[0;34m'hey'\u001b[0m\u001b[0;34m)\u001b[0m\u001b[0;34m\u001b[0m\u001b[0;34m\u001b[0m\u001b[0m\n\u001b[0m",
      "\u001b[0;31mError\u001b[0m: Incorrect padding"
     ]
    }
   ],
   "source": [
    "binascii.a2b_base64('hey')"
   ]
  },
  {
   "cell_type": "code",
   "execution_count": 153,
   "metadata": {},
   "outputs": [
    {
     "name": "stdout",
     "output_type": "stream",
     "text": [
      "\u0000\u0000\u0000\u0000\u0000\u0000\u0000\u0000\u0000\u0000\u0000\u0000\u0000\u0000\u0000\u0000\u0000\u0000\u0000\u0000abc\n"
     ]
    }
   ],
   "source": [
    "binary_int = int(\"11000010110001001100011\", 2)\n",
    "byte_number = binary_int.bit_length()\n",
    "\n",
    "binary_array = binary_int.to_bytes(byte_number, \"big\")\n",
    "ascii_text = binary_array.decode()\n",
    "\n",
    "print(ascii_text)"
   ]
  },
  {
   "cell_type": "code",
   "execution_count": 155,
   "metadata": {},
   "outputs": [
    {
     "name": "stdout",
     "output_type": "stream",
     "text": [
      "0b11000010110001001100011\n"
     ]
    }
   ],
   "source": [
    "byte_array = \"abc\".encode()\n",
    "\n",
    "binary_int = int.from_bytes(byte_array, \"big\")\n",
    "binary_string = bin(binary_int)\n",
    "\n",
    "print(binary_string)"
   ]
  },
  {
   "cell_type": "code",
   "execution_count": 160,
   "metadata": {},
   "outputs": [
    {
     "data": {
      "text/plain": [
       "21"
      ]
     },
     "execution_count": 160,
     "metadata": {},
     "output_type": "execute_result"
    }
   ],
   "source": [
    "res = ''.join(format(i, 'b') for i in bytearray('abc', encoding ='utf-8')) \n",
    "len(res)"
   ]
  },
  {
   "cell_type": "code",
   "execution_count": null,
   "metadata": {},
   "outputs": [],
   "source": []
  }
 ],
 "metadata": {
  "kernelspec": {
   "display_name": "Python 3",
   "language": "python",
   "name": "python3"
  },
  "language_info": {
   "codemirror_mode": {
    "name": "ipython",
    "version": 3
   },
   "file_extension": ".py",
   "mimetype": "text/x-python",
   "name": "python",
   "nbconvert_exporter": "python",
   "pygments_lexer": "ipython3",
   "version": "3.7.7"
  }
 },
 "nbformat": 4,
 "nbformat_minor": 4
}
