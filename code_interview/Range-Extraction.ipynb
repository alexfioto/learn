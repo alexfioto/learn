{
 "cells": [
  {
   "cell_type": "markdown",
   "metadata": {},
   "source": [
    "# Range Extraction"
   ]
  },
  {
   "cell_type": "markdown",
   "metadata": {},
   "source": [
    "```solution([-6, -3, -2, -1, 0, 1, 3, 4, 5, 7, 8, 9, 10, 11, 14, 15, 17, 18, 19, 20])```\n",
    "\n",
    "\n",
    "```# returns \"-6,-3-1,3-5,7-11,14,15,17-20\"```"
   ]
  },
  {
   "cell_type": "code",
   "execution_count": 3,
   "metadata": {},
   "outputs": [],
   "source": [
    "arr = [-6, -3, -2, -1, 0, 1, 3, 4, 5, 7, 8, 9, 10, 11, 14, 15, 17, 18, 19, 20]"
   ]
  },
  {
   "cell_type": "code",
   "execution_count": 56,
   "metadata": {},
   "outputs": [],
   "source": [
    "def solution(arr):\n",
    "    string_output = ''\n",
    "    idx = 2\n",
    "    list_idx = 0\n",
    "    span_list = list(range(arr[0], arr[-1] + 1))\n",
    "    span_dict = dict(zip(range(arr[0], arr[-1]), range(len(list(range(arr[0], arr[-1]))))))\n",
    "    for num in arr:\n",
    "        print(idx)\n",
    "        while idx <= len(arr) - 1:\n",
    "            span = None\n",
    "            start_span=None\n",
    "            if arr[idx] - span_list[list_idx] == 2:\n",
    "                print('consecutive!')\n",
    "\n",
    "                if not span:\n",
    "                    start_span = span_list[list_idx]\n",
    "                    span = f'{start_span}-{arr[idx]}'\n",
    "                else:\n",
    "                    span = f'{start_span}-{arr[idx]}'\n",
    "\n",
    "                idx += 1\n",
    "                list_idx = span_dict.get(num)\n",
    "            else:\n",
    "                string_output += str(num) + ', '\n",
    "                span = None\n",
    "                idx += 1\n",
    "                list_idx = span_dict.get(num)\n",
    "            \n",
    "        \n",
    "    return string_output"
   ]
  },
  {
   "cell_type": "code",
   "execution_count": 108,
   "metadata": {},
   "outputs": [],
   "source": [
    "def solution(arr):\n",
    "    string_output = ''\n",
    "    span = []\n",
    "    for i in range(1, len(arr)):\n",
    "        \n",
    "        if arr[i] - arr[i-1] == 1:\n",
    "            span.append(arr[i-1]) \n",
    "            span.append(arr[i])\n",
    "        \n",
    "        \n",
    "        else:\n",
    "            if len(span) >= 3:\n",
    "                string_output += f'{span[0]}-{span[-1]},'\n",
    "                span = []\n",
    "            \n",
    "            else:\n",
    "                if span:\n",
    "                    string_output += str(span[0]) + ','\n",
    "                    string_output += str(span[-1]) + ','\n",
    "                    span = []\n",
    "                else:\n",
    "                    string_output += str(arr[i-1]) + ','\n",
    "    if len(span) >= 3:\n",
    "        string_output += f'{span[0]}-{span[-1]}'\n",
    "        span = []\n",
    "    else:\n",
    "        print(span)\n",
    "        if span:\n",
    "            string_output += str(span[0])\n",
    "            string_output += str(span[-1])\n",
    "            span = []\n",
    "        else:\n",
    "            string_output += str(arr[i-1])\n",
    "    \n",
    "    return string_output\n",
    "            \n",
    "            "
   ]
  },
  {
   "cell_type": "code",
   "execution_count": 109,
   "metadata": {},
   "outputs": [],
   "source": [
    "arr = [-6, -3, -2, -1, 0, 1, 3, 4, 5, 7, 8, 9, 10, 11, 14, 15, 17, 18, 19, 20]"
   ]
  },
  {
   "cell_type": "code",
   "execution_count": 107,
   "metadata": {},
   "outputs": [
    {
     "data": {
      "text/plain": [
       "'-6,-3-1,3-5,7-11,14,15,17-20'"
      ]
     },
     "execution_count": 107,
     "metadata": {},
     "output_type": "execute_result"
    }
   ],
   "source": [
    "solution(arr)"
   ]
  },
  {
   "cell_type": "code",
   "execution_count": 94,
   "metadata": {},
   "outputs": [
    {
     "data": {
      "text/plain": [
       "'-6,-3-1,3-5,7-11,14,15,17-20'"
      ]
     },
     "execution_count": 94,
     "metadata": {},
     "output_type": "execute_result"
    }
   ],
   "source": [
    "\"-6,-3-1,3-5,7-11,14,15,17-20\""
   ]
  },
  {
   "cell_type": "code",
   "execution_count": 117,
   "metadata": {},
   "outputs": [
    {
     "ename": "SyntaxError",
     "evalue": "invalid character in identifier (<ipython-input-117-58a1a80f553f>, line 2)",
     "output_type": "error",
     "traceback": [
      "\u001b[0;36m  File \u001b[0;32m\"<ipython-input-117-58a1a80f553f>\"\u001b[0;36m, line \u001b[0;32m2\u001b[0m\n\u001b[0;31m    subtotal = [args[0]]\u001b[0m\n\u001b[0m           ^\u001b[0m\n\u001b[0;31mSyntaxError\u001b[0m\u001b[0;31m:\u001b[0m invalid character in identifier\n"
     ]
    }
   ],
   "source": [
    "def solution(args):\n",
    "    subtotal = [args[0]]\n",
    "    total = []\n",
    "    for i in range(1,len(args)):\n",
    "        if args[i] == args[i-1]+1:\n",
    "            subtotal.append(args[i])\n",
    "        else:\n",
    "            if (len(subtotal) < 3):\n",
    "                total = total + subtotal\n",
    "            else:\n",
    "                total.append(str(subtotal[0])+\"-\"+str(subtotal[len(subtotal)-1]))\n",
    "            subtotal = [args[i]]\n",
    "    if (len(subtotal) < 3):\n",
    "        total = total + subtotal\n",
    "    else:\n",
    "        total.append(str(subtotal[0])+\"-\"+str(subtotal[len(subtotal)-1]))\n",
    "    return \",\".join(map(str,total))"
   ]
  },
  {
   "cell_type": "code",
   "execution_count": 121,
   "metadata": {},
   "outputs": [],
   "source": [
    "def solution(args):\n",
    "    subtotal = [arr[0]]\n",
    "    total = []\n",
    "    for i in range(1, len(arr)):\n",
    "        if arr[i] == arr[i-1] + 1:\n",
    "            subtotal.append(arr[i])\n",
    "        else:\n",
    "            if (len(subtotal) < 3):\n",
    "                total = total + subtotal\n",
    "            else:\n",
    "                total.append(str(subtotal[0])+\"-\"+str(subtotal[-1]))\n",
    "            subtotal = [args[i]]\n",
    "    if (len(subtotal) < 3):\n",
    "        total = total + subtotal\n",
    "    else:\n",
    "        total.append(str(subtotal[0])+\"-\"+str(subtotal[-1]))\n",
    "    \n",
    "    return ','.join(map(str,total))            \n"
   ]
  },
  {
   "cell_type": "code",
   "execution_count": null,
   "metadata": {},
   "outputs": [],
   "source": []
  },
  {
   "cell_type": "code",
   "execution_count": 122,
   "metadata": {},
   "outputs": [
    {
     "data": {
      "text/plain": [
       "'-6,-3-1,3-5,7-11,14,15,17-20'"
      ]
     },
     "execution_count": 122,
     "metadata": {},
     "output_type": "execute_result"
    }
   ],
   "source": [
    "solution(arr)"
   ]
  },
  {
   "cell_type": "code",
   "execution_count": 38,
   "metadata": {},
   "outputs": [
    {
     "data": {
      "text/plain": [
       "[-6,\n",
       " -5,\n",
       " -4,\n",
       " -3,\n",
       " -2,\n",
       " -1,\n",
       " 0,\n",
       " 1,\n",
       " 2,\n",
       " 3,\n",
       " 4,\n",
       " 5,\n",
       " 6,\n",
       " 7,\n",
       " 8,\n",
       " 9,\n",
       " 10,\n",
       " 11,\n",
       " 12,\n",
       " 13,\n",
       " 14,\n",
       " 15,\n",
       " 16,\n",
       " 17,\n",
       " 18,\n",
       " 19,\n",
       " 20]"
      ]
     },
     "execution_count": 38,
     "metadata": {},
     "output_type": "execute_result"
    }
   ],
   "source": [
    "span_list = list(range(arr[0], arr[-1] + 1))\n",
    "span_list"
   ]
  },
  {
   "cell_type": "code",
   "execution_count": 18,
   "metadata": {},
   "outputs": [
    {
     "data": {
      "text/plain": [
       "{-6: 0,\n",
       " -5: 1,\n",
       " -4: 2,\n",
       " -3: 3,\n",
       " -2: 4,\n",
       " -1: 5,\n",
       " 0: 6,\n",
       " 1: 7,\n",
       " 2: 8,\n",
       " 3: 9,\n",
       " 4: 10,\n",
       " 5: 11,\n",
       " 6: 12,\n",
       " 7: 13,\n",
       " 8: 14,\n",
       " 9: 15,\n",
       " 10: 16,\n",
       " 11: 17,\n",
       " 12: 18,\n",
       " 13: 19,\n",
       " 14: 20,\n",
       " 15: 21,\n",
       " 16: 22,\n",
       " 17: 23,\n",
       " 18: 24,\n",
       " 19: 25,\n",
       " 20: 26}"
      ]
     },
     "execution_count": 18,
     "metadata": {},
     "output_type": "execute_result"
    }
   ],
   "source": [
    "span_dict = dict(zip(range(arr[0], arr[-1]+1), range(len(list(range(arr[0], arr[-1] +1))))))\n",
    "span_dict"
   ]
  },
  {
   "cell_type": "code",
   "execution_count": 19,
   "metadata": {},
   "outputs": [
    {
     "name": "stdout",
     "output_type": "stream",
     "text": [
      "0\n",
      "3\n",
      "4\n",
      "5\n",
      "6\n",
      "7\n",
      "9\n",
      "10\n",
      "11\n",
      "13\n",
      "14\n",
      "15\n",
      "16\n",
      "17\n",
      "20\n",
      "21\n",
      "23\n",
      "24\n",
      "25\n",
      "26\n"
     ]
    }
   ],
   "source": [
    "for num in arr:\n",
    "    print(span_dict.get(num))"
   ]
  },
  {
   "cell_type": "code",
   "execution_count": 54,
   "metadata": {},
   "outputs": [
    {
     "data": {
      "text/plain": [
       "19"
      ]
     },
     "execution_count": 54,
     "metadata": {},
     "output_type": "execute_result"
    }
   ],
   "source": [
    "len(arr) -1"
   ]
  },
  {
   "cell_type": "code",
   "execution_count": null,
   "metadata": {},
   "outputs": [],
   "source": []
  }
 ],
 "metadata": {
  "kernelspec": {
   "display_name": "Python 3",
   "language": "python",
   "name": "python3"
  },
  "language_info": {
   "codemirror_mode": {
    "name": "ipython",
    "version": 3
   },
   "file_extension": ".py",
   "mimetype": "text/x-python",
   "name": "python",
   "nbconvert_exporter": "python",
   "pygments_lexer": "ipython3",
   "version": "3.7.7"
  }
 },
 "nbformat": 4,
 "nbformat_minor": 4
}
