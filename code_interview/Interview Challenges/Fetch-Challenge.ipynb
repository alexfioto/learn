{
 "cells": [
  {
   "cell_type": "markdown",
   "metadata": {},
   "source": [
    "# Fetch Python Challenge"
   ]
  },
  {
   "cell_type": "markdown",
   "metadata": {},
   "source": [
    "#### Alex Fioto\n",
    "* [LinkedIn](https://www.linkedin.com/in/alexfioto/)\n",
    "* [Portfolio](https://alexfioto.github.io/)\n",
    "* [GitHub](https://github.com/alexfioto/)"
   ]
  },
  {
   "cell_type": "markdown",
   "metadata": {},
   "source": [
    "Thank you for taking the time to review this challenge!"
   ]
  },
  {
   "cell_type": "code",
   "execution_count": 86,
   "metadata": {},
   "outputs": [],
   "source": [
    "# Provided text data\n",
    "text = '''\n",
    "“Letter 1\n",
    "To Mrs. Saville, England. <Scrapers<\n",
    "St. Petersburgh, Dec. 11th, 17—.\n",
    "You will rejoice to hear that no disaster has accompanied the commencement of an enterprise which you have regarded with such evil forebodings. I arrived here yesterday, and my first task is to assure my $You$ dear sister of my welfare and increasing confidence in the success of my undertaking.\n",
    "I am already far north of London, and as I walk in the streets of Petersburgh, I feel a cold northern breeze play upon my cheeks, which braces my nerves and fills me with delight. Do you understand this feeling? This breeze, which has travelled from the regions towards which I am advancing, gives me a foretaste of those icy climes. Inspirited by this wind of promise, my daydreams become more fervent and vivid. I try in vain to be persuaded that the pole is the seat of frost and desolation; it ever presents $are$ itself to my imagination as the region of beauty and delight. There, Margaret, the sun is for ever visible, its broad disk just skirting the horizon and diffusing a perpetual splendour. There—for with your leave, my sister, I will put some trust in preceding navigators—there snow and frost are banished; and, sailing over a calm sea, we may be wafted to a land surpassing *You're* in wonders and in beauty every region hitherto discovered on the habitable globe. Its productions and features may be without example, as the phenomena of the heavenly bodies undoubtedly are in those undiscovered solitudes. What may not be expected in a country of eternal light? I may there discover the wondrous power which attracts the needle and may regulate a thousand celestial observations that require only this voyage to render their seeming eccentricities consistent for ever. I shall satiate my ardent curiosity with the sight of a part of the world never before visited, and may tread a land never before imprinted by the foot of man. These are my enticements, and they are sufficient to conquer all fear of danger or death and to induce me to commence this laborious voyage with the joy a child feels when he embarks in a little boat, with his holiday mates, on an expedition of discovery up his native river. But supposing all these conjectures to be false, you cannot contest the inestimable benefit which I shall confer on all mankind, to the last generation, by discovering a passage near the pole to those countries, to reach which at present so many months are requisite; or by ascertaining the secret of the magnet, which, if at all possible, can only be effected by an undertaking such as mine.\n",
    "These reflections have dispelled the agitation with which I began my letter, and I feel my heart glow with an enthusiasm which elevates me to heaven, for nothing contributes so much to tranquillise the mind as a steady purpose—a point on which the soul may fix its intellectual eye. This expedition has been the favourite dream of my early years. #Found# I have read with ardour the accounts of the various voyages which have been made in the prospect of arriving at the North Pacific Ocean through the seas which surround the pole. You may remember that a history of all the voyages made for purposes of discovery composed the whole of our good Uncle Thomas’ library. My education was neglected, yet I was passionately fond of reading. These volumes were my study day and night, and my familiarity with them increased that regret which I had felt, as a child, on learning that my father’s dying injunction had forbidden my uncle to allow me to embark in a seafaring life.\n",
    "These visions faded when I perused, for the first time, those poets whose effusions entranced my soul and lifted it to heaven. I also became a poet and for one year lived in a paradise of my own creation; I imagined that I also might obtain a niche in the temple where the names of Homer and Shakespeare are consecrated. You are well acquainted with *killin* my failure and how heavily I bore the disappointment. But just at that time I inherited the fortune of my cousin, and my thoughts were turned into the channel of their earlier bent.\n",
    "Six years have passed since I resolved on my present undertaking. I can, even now, remember the hour from which I dedicated myself to this great enterprise. I commenced by inuring my body to hardship. I accompanied the whale-fishers on several expeditions to the North Sea; I voluntarily endured cold, famine, thirst, and want of sleep; I often #another# worked harder than the common sailors during the day and devoted my nights to the study of mathematics, the theory of medicine, and those branches of physical science from which a naval adventurer might derive the greatest practical advantage. Twice I actually hired myself as an under-mate in a Greenland whaler, and acquitted myself to admiration. I must own I felt a little proud when my captain offered me the second dignity in the vessel and entreated me to remain with the greatest earnestness, so valuable did he consider my services.\n",
    "And now, dear <for< Margaret, do I not deserve to accomplish some great purpose? My life might have been passed in ease and luxury, but I preferred glory to every enticement that wealth placed in my path. Oh, that some encouraging voice would answer in the affirmative! My courage and my resolution is firm; but my hopes fluctuate, and my spirits are often depressed. I am about to proceed on a long and difficult voyage, the emergencies of which will demand all my fortitude: I am required not only to raise the spirits of others, but sometimes to sustain my own, when theirs are failing.\n",
    "This is the most favourable period for travelling in Russia. They fly quickly over the snow in their sledges; the motion is pleasant, and, in my opinion, far more agreeable than that of an English stagecoach. The $amazing!$ cold is not excessive, if you are wrapped in furs—a dress which I have already adopted, for there is a great difference between walking the deck and remaining seated motionless for hours, when no exercise prevents the blood from actually freezing in your veins. I have no ambition to lose my life on the post-road between St. Petersburgh and Archangel. <the<\n",
    "I shall depart for the latter town in a fortnight or three weeks; and my intention is to hire a ship there, which can easily be done by paying the insurance for the owner, *it!* and to engage as many sailors as I think necessary among those who are accustomed to the whale-fishing. I do not intend to sail until the month of June; and when shall I return? Ah, dear sister, how can I answer this question? If I succeed, many, many months, perhaps years, will pass before you and I may meet. If I fail, you will see me again soon, or never.\n",
    "Farewell, my dear, excellent Margaret. Heaven #one!# shower down blessings on you, and save me, that I may again and again testify my gratitude for all your love and kindness.\n",
    "Your affectionate brother,\n",
    "R. Walton<win!<\n",
    "'''\n"
   ]
  },
  {
   "cell_type": "code",
   "execution_count": 87,
   "metadata": {},
   "outputs": [],
   "source": [
    "# Standard imports\n",
    "from itertools import chain\n",
    "import json\n",
    "import re\n",
    "\n",
    "# Interactive Plotting\n",
    "import plotly.express as px\n",
    "\n",
    "# Standard Plotting\n",
    "import matplotlib.pyplot as plt"
   ]
  },
  {
   "cell_type": "code",
   "execution_count": 100,
   "metadata": {},
   "outputs": [],
   "source": [
    "def decode_text(text, hidden_chars='$#<*'):\n",
    "    '''\n",
    "    This function decodes a corpus of text with hidden sentence sequences and prints out the decoded sentences and returns a list of the decoded words including special characters.\n",
    "    '''\n",
    "    # Empty list for holding the hidden sentences\n",
    "    hidden_sentences = []\n",
    "    \n",
    "    # Looping through the hidden characters to find words in the corpus enveloped by said characters\n",
    "    for char in hidden_chars:\n",
    "        \n",
    "        # Regex expression to hidden words\n",
    "        pattern = f'[{char}].*[{char}]'\n",
    "        \n",
    "        # Appending the regex matches to hidden_sentences\n",
    "        hidden_sentences.append(re.findall(pattern, text))\n",
    "        \n",
    "    # Looping through hidden_sentences and hidden_chars    \n",
    "    for sentence, hidden_char in zip(hidden_sentences, hidden_chars):\n",
    "        \n",
    "        # Printing clean decoded sentence \n",
    "        print(' '.join(sentence).replace(hidden_char, ''))\n",
    "    \n",
    "    # Unpacking the hidden_sentences \n",
    "    code_words = list(chain.from_iterable(hidden_sentences))\n",
    "    \n",
    "    # Returning a list of all code words\n",
    "    return code_words"
   ]
  },
  {
   "cell_type": "code",
   "execution_count": 89,
   "metadata": {},
   "outputs": [
    {
     "name": "stdout",
     "output_type": "stream",
     "text": [
      "You are amazing!\n",
      "Found another one!\n",
      "Scrapers for the win!\n",
      "You're killin it!\n"
     ]
    }
   ],
   "source": [
    "# Why thank you Team Fetch!😊 Y'all are amazing too!\n",
    "\n",
    "code_words = decode_text(text)"
   ]
  },
  {
   "cell_type": "code",
   "execution_count": 90,
   "metadata": {},
   "outputs": [],
   "source": [
    "def text_cleaner(text, code_words):\n",
    "    '''\n",
    "    Removes code words from a text corpus and returns clean text.\n",
    "    '''\n",
    "    # Looping through code_words\n",
    "    for word in code_words:\n",
    "        text = text.replace(word, '')\n",
    "    # Returns clean text\n",
    "    return text"
   ]
  },
  {
   "cell_type": "code",
   "execution_count": 91,
   "metadata": {},
   "outputs": [],
   "source": [
    "# Calling text_cleaner on the original text corpus and saving as to a variable\n",
    "clean_text = text_cleaner(text, code_words)"
   ]
  },
  {
   "cell_type": "code",
   "execution_count": 92,
   "metadata": {},
   "outputs": [],
   "source": [
    "# Saving the clean_text variable to a text file\n",
    "with open('Clean_Frankenstein.txt', 'w') as f:\n",
    "    f.write(clean_text)"
   ]
  },
  {
   "cell_type": "code",
   "execution_count": 93,
   "metadata": {},
   "outputs": [],
   "source": [
    "def get_word_count(text, save_json=False):\n",
    "    '''\n",
    "    Strips a text corpus of puncuation and whitespace and returns a dictionary of words (as keys) and word count (as items)\n",
    "    \n",
    "    Optional save parameter. If True, function outputs JSON file titled 'word_count_dict.json'\n",
    "    '''\n",
    "    \n",
    "    # List of all punctuation to remove\n",
    "    punctuation = ['\\n', ',' , '.', '-' ,'?', '!', \"'\", ':', ';', '\"', '“', '’', '—']\n",
    "    \n",
    "    # Looping through characters and removing punctuation\n",
    "    for char in text:\n",
    "        if char in punctuation:\n",
    "            text = text.replace(char, ' ')\n",
    "    \n",
    "    # Creating an empty dictionary for words and word counts\n",
    "    word_count_dict = {}\n",
    "    \n",
    "    # A list of lower cased words in text corpus\n",
    "    word_list = text.lower().split()\n",
    "    \n",
    "    # Looping through word_list via index\n",
    "    for i in range(len(word_list)):\n",
    "        # Checking if word is in dictionary\n",
    "        if word_list[i] in word_count_dict:\n",
    "            # If word is in dictionary, increment count by 1.\n",
    "            word_count_dict[word_list[i]] += 1\n",
    "        else:\n",
    "            # If word isn't in dictionary, create dictionary key and set count to 1\n",
    "            word_count_dict[word_list[i]] = 1\n",
    "    \n",
    "    # If save_json parameter is set to True, output the word_count_dict as JSON\n",
    "    if save_json:\n",
    "        with open('word_count_dict.json', 'w') as f:\n",
    "            json.dump(word_count_dict, f)\n",
    "    \n",
    "    # Return word_count_dict\n",
    "    return word_count_dict"
   ]
  },
  {
   "cell_type": "code",
   "execution_count": 95,
   "metadata": {},
   "outputs": [],
   "source": [
    "# Call get_word_count function and saving variable\n",
    "word_count_dict = get_word_count(clean_text, save_json=True)"
   ]
  },
  {
   "cell_type": "code",
   "execution_count": 96,
   "metadata": {},
   "outputs": [],
   "source": [
    "def get_word_lengths(text):\n",
    "    '''\n",
    "    Returns a list of word lengths from a text corpus.\n",
    "    '''\n",
    "    # List of punctuation to remove\n",
    "    punctuation = ['\\n', ',' , '.', '-' ,'?', '!', \"'\", ':', ';', '\"', '“', '’', '—']\n",
    "    \n",
    "    # Looping through characters and removing punctuation\n",
    "    for char in text:\n",
    "        if char in punctuation:\n",
    "            text = text.replace(char, ' ')\n",
    "    # List of word lengths\n",
    "    word_lengths = [len(word) for word in text.split()]\n",
    "    \n",
    "    # Returning word lengths list\n",
    "    return word_lengths"
   ]
  },
  {
   "cell_type": "code",
   "execution_count": 97,
   "metadata": {},
   "outputs": [],
   "source": [
    "# Calling get_word_lengths on clean_text and saving to variable\n",
    "\n",
    "word_lengths = get_word_lengths(clean_text)"
   ]
  },
  {
   "cell_type": "code",
   "execution_count": 98,
   "metadata": {},
   "outputs": [
    {
     "data": {
      "application/vnd.plotly.v1+json": {
       "config": {
        "plotlyServerURL": "https://plot.ly"
       },
       "data": [
        {
         "alignmentgroup": "True",
         "bingroup": "x",
         "hovertemplate": "variable=0<br>value=%{x}<br>count=%{y}<extra></extra>",
         "legendgroup": "0",
         "marker": {
          "color": "#636efa"
         },
         "name": "0",
         "nbinsx": 14,
         "offsetgroup": "0",
         "orientation": "v",
         "showlegend": true,
         "type": "histogram",
         "x": [
          6,
          1,
          2,
          3,
          7,
          7,
          2,
          11,
          3,
          4,
          2,
          3,
          4,
          7,
          2,
          4,
          4,
          2,
          8,
          3,
          11,
          3,
          12,
          2,
          2,
          10,
          5,
          3,
          4,
          8,
          4,
          4,
          4,
          11,
          1,
          7,
          4,
          9,
          3,
          2,
          5,
          4,
          2,
          2,
          6,
          2,
          4,
          6,
          2,
          2,
          7,
          3,
          10,
          10,
          2,
          3,
          7,
          2,
          2,
          11,
          1,
          2,
          7,
          3,
          5,
          2,
          6,
          3,
          2,
          1,
          4,
          2,
          3,
          7,
          2,
          11,
          1,
          4,
          1,
          4,
          8,
          6,
          4,
          4,
          2,
          6,
          5,
          6,
          2,
          6,
          3,
          5,
          2,
          4,
          7,
          2,
          3,
          10,
          4,
          7,
          4,
          6,
          5,
          3,
          9,
          4,
          3,
          7,
          7,
          5,
          1,
          2,
          9,
          5,
          2,
          1,
          9,
          2,
          5,
          3,
          6,
          10,
          2,
          4,
          4,
          2,
          7,
          2,
          9,
          6,
          4,
          7,
          3,
          5,
          1,
          3,
          2,
          4,
          2,
          2,
          9,
          4,
          3,
          4,
          2,
          3,
          4,
          2,
          5,
          3,
          10,
          2,
          4,
          8,
          6,
          2,
          2,
          11,
          2,
          3,
          6,
          2,
          6,
          3,
          7,
          5,
          8,
          3,
          3,
          2,
          3,
          4,
          7,
          3,
          5,
          4,
          4,
          8,
          3,
          7,
          3,
          9,
          1,
          9,
          9,
          5,
          3,
          4,
          4,
          5,
          2,
          6,
          1,
          4,
          3,
          4,
          5,
          2,
          9,
          10,
          5,
          4,
          3,
          5,
          3,
          8,
          3,
          7,
          4,
          1,
          4,
          3,
          2,
          3,
          2,
          6,
          2,
          1,
          4,
          10,
          2,
          7,
          3,
          2,
          6,
          5,
          6,
          8,
          10,
          2,
          3,
          9,
          5,
          3,
          11,
          3,
          8,
          3,
          2,
          7,
          7,
          2,
          3,
          9,
          2,
          3,
          8,
          6,
          11,
          3,
          2,
          5,
          12,
          9,
          4,
          3,
          3,
          2,
          8,
          2,
          1,
          7,
          2,
          7,
          5,
          1,
          3,
          5,
          8,
          3,
          8,
          5,
          5,
          8,
          3,
          6,
          3,
          3,
          8,
          1,
          8,
          9,
          12,
          4,
          7,
          4,
          4,
          6,
          2,
          6,
          5,
          7,
          14,
          10,
          3,
          4,
          1,
          5,
          7,
          2,
          6,
          9,
          4,
          3,
          5,
          2,
          1,
          4,
          2,
          3,
          5,
          5,
          6,
          7,
          3,
          3,
          5,
          1,
          4,
          5,
          6,
          9,
          2,
          3,
          4,
          2,
          3,
          5,
          3,
          2,
          11,
          3,
          4,
          3,
          10,
          2,
          7,
          3,
          4,
          2,
          6,
          2,
          5,
          3,
          2,
          6,
          2,
          2,
          8,
          4,
          9,
          6,
          4,
          3,
          3,
          1,
          5,
          5,
          4,
          2,
          7,
          2,
          1,
          6,
          4,
          4,
          3,
          7,
          5,
          2,
          2,
          10,
          2,
          9,
          2,
          3,
          6,
          5,
          3,
          9,
          3,
          5,
          11,
          2,
          2,
          5,
          3,
          6,
          7,
          3,
          11,
          7,
          5,
          1,
          5,
          6,
          2,
          3,
          7,
          2,
          3,
          4,
          10,
          2,
          11,
          1,
          7,
          4,
          3,
          4,
          2,
          5,
          9,
          2,
          5,
          5,
          2,
          7,
          2,
          4,
          6,
          3,
          9,
          2,
          2,
          12,
          3,
          6,
          2,
          3,
          6,
          5,
          2,
          2,
          3,
          8,
          3,
          4,
          2,
          8,
          2,
          2,
          11,
          4,
          2,
          4,
          5,
          11,
          4,
          9,
          3,
          9,
          4,
          5,
          1,
          5,
          2,
          6,
          3,
          1,
          4,
          2,
          5,
          4,
          4,
          2,
          10,
          5,
          8,
          2,
          2,
          6,
          3,
          7,
          11,
          2,
          4,
          2,
          12,
          3,
          4,
          2,
          1,
          6,
          7,
          1,
          5,
          2,
          5,
          3,
          4,
          3,
          3,
          3,
          12,
          3,
          4,
          10,
          3,
          4,
          3,
          9,
          5,
          2,
          2,
          5,
          5,
          1,
          4,
          4,
          4,
          6,
          3,
          8,
          2,
          3,
          7,
          7,
          5,
          4,
          4,
          4,
          2,
          3,
          8,
          2,
          8,
          2,
          3,
          5,
          7,
          5,
          7,
          3,
          4,
          5,
          8,
          3,
          4,
          3,
          3,
          8,
          4,
          1,
          7,
          2,
          3,
          3,
          7,
          4,
          3,
          8,
          2,
          9,
          8,
          3,
          5,
          2,
          3,
          4,
          5,
          6,
          7,
          2,
          9,
          3,
          9,
          3,
          1,
          3,
          12,
          4,
          2,
          7,
          5,
          7,
          4,
          2,
          5,
          3,
          3,
          5,
          3,
          2,
          11,
          4,
          4,
          9,
          4,
          6,
          5,
          1,
          3,
          4,
          2,
          1,
          5,
          2,
          8,
          4,
          2,
          6,
          1,
          5,
          10,
          3,
          9,
          2,
          5,
          2,
          5,
          2,
          2,
          6,
          2,
          1,
          9,
          4,
          5,
          7,
          5,
          4,
          1,
          7,
          3,
          3,
          5,
          4,
          5,
          5,
          5,
          9,
          9,
          2,
          4,
          3,
          6,
          2,
          2,
          6,
          1,
          4,
          6,
          1,
          4,
          3,
          3,
          3,
          4,
          5,
          2,
          1,
          8,
          2,
          2,
          3,
          8,
          1,
          8,
          4,
          1,
          4,
          5,
          6,
          1,
          5,
          2,
          3,
          6,
          5,
          3,
          5,
          2,
          5,
          3,
          11,
          3,
          11,
          3,
          3,
          4,
          10,
          4,
          2,
          7,
          3,
          3,
          7,
          1,
          4,
          3,
          14,
          3,
          4,
          2,
          4,
          4,
          1,
          9,
          3,
          7,
          2,
          2,
          6,
          3,
          2,
          8,
          4,
          6,
          4,
          3,
          7,
          2,
          5,
          7,
          4,
          3,
          5,
          4,
          6,
          5,
          1,
          8,
          2,
          2,
          7,
          11,
          1,
          3,
          4,
          3,
          8,
          3,
          4,
          4,
          5,
          1,
          9,
          6,
          2,
          4,
          5,
          10,
          1,
          9,
          2,
          7,
          2,
          4,
          2,
          8,
          1,
          11,
          3,
          5,
          7,
          2,
          7,
          11,
          2,
          3,
          5,
          3,
          1,
          11,
          7,
          4,
          6,
          6,
          3,
          4,
          2,
          5,
          1,
          5,
          6,
          6,
          4,
          3,
          6,
          7,
          6,
          3,
          3,
          3,
          7,
          2,
          6,
          2,
          3,
          5,
          2,
          11,
          3,
          6,
          2,
          8,
          3,
          5,
          8,
          2,
          8,
          7,
          4,
          5,
          1,
          5,
          10,
          5,
          6,
          3,
          8,
          9,
          9,
          5,
          1,
          8,
          5,
          6,
          2,
          2,
          5,
          4,
          2,
          1,
          9,
          6,
          3,
          9,
          6,
          2,
          10,
          1,
          4,
          3,
          1,
          4,
          1,
          6,
          5,
          4,
          2,
          7,
          7,
          2,
          3,
          6,
          7,
          2,
          3,
          6,
          3,
          9,
          2,
          2,
          6,
          4,
          3,
          8,
          11,
          2,
          8,
          3,
          2,
          8,
          2,
          8,
          3,
          3,
          4,
          8,
          2,
          1,
          3,
          7,
          2,
          10,
          4,
          5,
          7,
          2,
          4,
          5,
          4,
          4,
          6,
          2,
          4,
          3,
          6,
          3,
          1,
          9,
          5,
          2,
          5,
          10,
          4,
          6,
          6,
          2,
          2,
          4,
          2,
          4,
          4,
          11,
          5,
          5,
          6,
          2,
          3,
          11,
          2,
          7,
          3,
          2,
          10,
          2,
          4,
          3,
          2,
          5,
          9,
          3,
          2,
          7,
          3,
          5,
          9,
          1,
          2,
          5,
          2,
          7,
          2,
          1,
          4,
          3,
          9,
          6,
          3,
          11,
          2,
          5,
          4,
          6,
          3,
          2,
          9,
          1,
          2,
          8,
          3,
          4,
          2,
          5,
          3,
          7,
          2,
          6,
          3,
          9,
          2,
          7,
          2,
          3,
          4,
          6,
          3,
          7,
          4,
          2,
          3,
          4,
          10,
          6,
          3,
          10,
          2,
          6,
          4,
          3,
          7,
          4,
          3,
          4,
          2,
          5,
          7,
          3,
          6,
          2,
          8,
          3,
          2,
          2,
          7,
          3,
          4,
          9,
          4,
          4,
          2,
          2,
          7,
          10,
          3,
          4,
          2,
          3,
          9,
          2,
          3,
          3,
          7,
          2,
          4,
          1,
          5,
          5,
          1,
          4,
          7,
          7,
          3,
          5,
          2,
          1,
          5,
          10,
          7,
          7,
          3,
          4,
          3,
          9,
          6,
          10,
          3,
          5,
          4,
          2,
          8,
          8,
          3,
          5,
          4,
          8,
          8,
          2,
          4,
          5,
          1,
          4,
          2,
          8,
          2,
          4,
          2,
          4,
          2,
          3,
          4,
          4,
          7,
          2,
          11,
          3,
          9,
          1,
          5,
          6,
          3,
          3,
          6,
          4,
          2,
          1,
          9,
          2,
          5,
          5,
          3,
          2,
          9,
          2,
          2,
          4,
          1,
          4,
          5,
          5,
          3,
          6,
          2,
          4,
          2,
          6,
          3,
          9,
          3,
          3,
          5,
          3,
          2,
          6,
          2,
          4,
          7,
          2,
          1,
          5,
          9,
          5,
          5,
          3,
          3,
          10,
          2,
          3,
          5,
          7,
          1,
          2,
          3,
          6,
          2,
          4,
          5,
          3,
          5,
          2,
          4,
          3,
          4,
          5,
          1,
          6,
          2,
          4,
          6,
          3,
          3,
          1,
          6,
          4,
          8,
          2,
          1,
          7,
          4,
          4,
          6,
          7,
          5,
          4,
          4,
          6,
          3,
          3,
          1,
          3,
          4,
          2,
          1,
          4,
          3,
          4,
          3,
          2,
          5,
          4,
          2,
          5,
          8,
          2,
          4,
          9,
          8,
          6,
          6,
          4,
          9,
          2,
          3,
          3,
          4,
          2,
          4,
          1,
          3,
          5,
          3,
          5,
          7,
          2,
          9,
          3,
          3,
          4,
          4,
          3,
          8,
          4,
          12,
          7,
          1,
          6
         ],
         "xaxis": "x",
         "yaxis": "y"
        }
       ],
       "layout": {
        "autosize": true,
        "barmode": "relative",
        "legend": {
         "title": {
          "text": "variable"
         },
         "tracegroupgap": 0
        },
        "showlegend": false,
        "template": {
         "data": {
          "bar": [
           {
            "error_x": {
             "color": "#2a3f5f"
            },
            "error_y": {
             "color": "#2a3f5f"
            },
            "marker": {
             "line": {
              "color": "#E5ECF6",
              "width": 0.5
             }
            },
            "type": "bar"
           }
          ],
          "barpolar": [
           {
            "marker": {
             "line": {
              "color": "#E5ECF6",
              "width": 0.5
             }
            },
            "type": "barpolar"
           }
          ],
          "carpet": [
           {
            "aaxis": {
             "endlinecolor": "#2a3f5f",
             "gridcolor": "white",
             "linecolor": "white",
             "minorgridcolor": "white",
             "startlinecolor": "#2a3f5f"
            },
            "baxis": {
             "endlinecolor": "#2a3f5f",
             "gridcolor": "white",
             "linecolor": "white",
             "minorgridcolor": "white",
             "startlinecolor": "#2a3f5f"
            },
            "type": "carpet"
           }
          ],
          "choropleth": [
           {
            "colorbar": {
             "outlinewidth": 0,
             "ticks": ""
            },
            "type": "choropleth"
           }
          ],
          "contour": [
           {
            "colorbar": {
             "outlinewidth": 0,
             "ticks": ""
            },
            "colorscale": [
             [
              0,
              "#0d0887"
             ],
             [
              0.1111111111111111,
              "#46039f"
             ],
             [
              0.2222222222222222,
              "#7201a8"
             ],
             [
              0.3333333333333333,
              "#9c179e"
             ],
             [
              0.4444444444444444,
              "#bd3786"
             ],
             [
              0.5555555555555556,
              "#d8576b"
             ],
             [
              0.6666666666666666,
              "#ed7953"
             ],
             [
              0.7777777777777778,
              "#fb9f3a"
             ],
             [
              0.8888888888888888,
              "#fdca26"
             ],
             [
              1,
              "#f0f921"
             ]
            ],
            "type": "contour"
           }
          ],
          "contourcarpet": [
           {
            "colorbar": {
             "outlinewidth": 0,
             "ticks": ""
            },
            "type": "contourcarpet"
           }
          ],
          "heatmap": [
           {
            "colorbar": {
             "outlinewidth": 0,
             "ticks": ""
            },
            "colorscale": [
             [
              0,
              "#0d0887"
             ],
             [
              0.1111111111111111,
              "#46039f"
             ],
             [
              0.2222222222222222,
              "#7201a8"
             ],
             [
              0.3333333333333333,
              "#9c179e"
             ],
             [
              0.4444444444444444,
              "#bd3786"
             ],
             [
              0.5555555555555556,
              "#d8576b"
             ],
             [
              0.6666666666666666,
              "#ed7953"
             ],
             [
              0.7777777777777778,
              "#fb9f3a"
             ],
             [
              0.8888888888888888,
              "#fdca26"
             ],
             [
              1,
              "#f0f921"
             ]
            ],
            "type": "heatmap"
           }
          ],
          "heatmapgl": [
           {
            "colorbar": {
             "outlinewidth": 0,
             "ticks": ""
            },
            "colorscale": [
             [
              0,
              "#0d0887"
             ],
             [
              0.1111111111111111,
              "#46039f"
             ],
             [
              0.2222222222222222,
              "#7201a8"
             ],
             [
              0.3333333333333333,
              "#9c179e"
             ],
             [
              0.4444444444444444,
              "#bd3786"
             ],
             [
              0.5555555555555556,
              "#d8576b"
             ],
             [
              0.6666666666666666,
              "#ed7953"
             ],
             [
              0.7777777777777778,
              "#fb9f3a"
             ],
             [
              0.8888888888888888,
              "#fdca26"
             ],
             [
              1,
              "#f0f921"
             ]
            ],
            "type": "heatmapgl"
           }
          ],
          "histogram": [
           {
            "marker": {
             "colorbar": {
              "outlinewidth": 0,
              "ticks": ""
             }
            },
            "type": "histogram"
           }
          ],
          "histogram2d": [
           {
            "colorbar": {
             "outlinewidth": 0,
             "ticks": ""
            },
            "colorscale": [
             [
              0,
              "#0d0887"
             ],
             [
              0.1111111111111111,
              "#46039f"
             ],
             [
              0.2222222222222222,
              "#7201a8"
             ],
             [
              0.3333333333333333,
              "#9c179e"
             ],
             [
              0.4444444444444444,
              "#bd3786"
             ],
             [
              0.5555555555555556,
              "#d8576b"
             ],
             [
              0.6666666666666666,
              "#ed7953"
             ],
             [
              0.7777777777777778,
              "#fb9f3a"
             ],
             [
              0.8888888888888888,
              "#fdca26"
             ],
             [
              1,
              "#f0f921"
             ]
            ],
            "type": "histogram2d"
           }
          ],
          "histogram2dcontour": [
           {
            "colorbar": {
             "outlinewidth": 0,
             "ticks": ""
            },
            "colorscale": [
             [
              0,
              "#0d0887"
             ],
             [
              0.1111111111111111,
              "#46039f"
             ],
             [
              0.2222222222222222,
              "#7201a8"
             ],
             [
              0.3333333333333333,
              "#9c179e"
             ],
             [
              0.4444444444444444,
              "#bd3786"
             ],
             [
              0.5555555555555556,
              "#d8576b"
             ],
             [
              0.6666666666666666,
              "#ed7953"
             ],
             [
              0.7777777777777778,
              "#fb9f3a"
             ],
             [
              0.8888888888888888,
              "#fdca26"
             ],
             [
              1,
              "#f0f921"
             ]
            ],
            "type": "histogram2dcontour"
           }
          ],
          "mesh3d": [
           {
            "colorbar": {
             "outlinewidth": 0,
             "ticks": ""
            },
            "type": "mesh3d"
           }
          ],
          "parcoords": [
           {
            "line": {
             "colorbar": {
              "outlinewidth": 0,
              "ticks": ""
             }
            },
            "type": "parcoords"
           }
          ],
          "pie": [
           {
            "automargin": true,
            "type": "pie"
           }
          ],
          "scatter": [
           {
            "marker": {
             "colorbar": {
              "outlinewidth": 0,
              "ticks": ""
             }
            },
            "type": "scatter"
           }
          ],
          "scatter3d": [
           {
            "line": {
             "colorbar": {
              "outlinewidth": 0,
              "ticks": ""
             }
            },
            "marker": {
             "colorbar": {
              "outlinewidth": 0,
              "ticks": ""
             }
            },
            "type": "scatter3d"
           }
          ],
          "scattercarpet": [
           {
            "marker": {
             "colorbar": {
              "outlinewidth": 0,
              "ticks": ""
             }
            },
            "type": "scattercarpet"
           }
          ],
          "scattergeo": [
           {
            "marker": {
             "colorbar": {
              "outlinewidth": 0,
              "ticks": ""
             }
            },
            "type": "scattergeo"
           }
          ],
          "scattergl": [
           {
            "marker": {
             "colorbar": {
              "outlinewidth": 0,
              "ticks": ""
             }
            },
            "type": "scattergl"
           }
          ],
          "scattermapbox": [
           {
            "marker": {
             "colorbar": {
              "outlinewidth": 0,
              "ticks": ""
             }
            },
            "type": "scattermapbox"
           }
          ],
          "scatterpolar": [
           {
            "marker": {
             "colorbar": {
              "outlinewidth": 0,
              "ticks": ""
             }
            },
            "type": "scatterpolar"
           }
          ],
          "scatterpolargl": [
           {
            "marker": {
             "colorbar": {
              "outlinewidth": 0,
              "ticks": ""
             }
            },
            "type": "scatterpolargl"
           }
          ],
          "scatterternary": [
           {
            "marker": {
             "colorbar": {
              "outlinewidth": 0,
              "ticks": ""
             }
            },
            "type": "scatterternary"
           }
          ],
          "surface": [
           {
            "colorbar": {
             "outlinewidth": 0,
             "ticks": ""
            },
            "colorscale": [
             [
              0,
              "#0d0887"
             ],
             [
              0.1111111111111111,
              "#46039f"
             ],
             [
              0.2222222222222222,
              "#7201a8"
             ],
             [
              0.3333333333333333,
              "#9c179e"
             ],
             [
              0.4444444444444444,
              "#bd3786"
             ],
             [
              0.5555555555555556,
              "#d8576b"
             ],
             [
              0.6666666666666666,
              "#ed7953"
             ],
             [
              0.7777777777777778,
              "#fb9f3a"
             ],
             [
              0.8888888888888888,
              "#fdca26"
             ],
             [
              1,
              "#f0f921"
             ]
            ],
            "type": "surface"
           }
          ],
          "table": [
           {
            "cells": {
             "fill": {
              "color": "#EBF0F8"
             },
             "line": {
              "color": "white"
             }
            },
            "header": {
             "fill": {
              "color": "#C8D4E3"
             },
             "line": {
              "color": "white"
             }
            },
            "type": "table"
           }
          ]
         },
         "layout": {
          "annotationdefaults": {
           "arrowcolor": "#2a3f5f",
           "arrowhead": 0,
           "arrowwidth": 1
          },
          "coloraxis": {
           "colorbar": {
            "outlinewidth": 0,
            "ticks": ""
           }
          },
          "colorscale": {
           "diverging": [
            [
             0,
             "#8e0152"
            ],
            [
             0.1,
             "#c51b7d"
            ],
            [
             0.2,
             "#de77ae"
            ],
            [
             0.3,
             "#f1b6da"
            ],
            [
             0.4,
             "#fde0ef"
            ],
            [
             0.5,
             "#f7f7f7"
            ],
            [
             0.6,
             "#e6f5d0"
            ],
            [
             0.7,
             "#b8e186"
            ],
            [
             0.8,
             "#7fbc41"
            ],
            [
             0.9,
             "#4d9221"
            ],
            [
             1,
             "#276419"
            ]
           ],
           "sequential": [
            [
             0,
             "#0d0887"
            ],
            [
             0.1111111111111111,
             "#46039f"
            ],
            [
             0.2222222222222222,
             "#7201a8"
            ],
            [
             0.3333333333333333,
             "#9c179e"
            ],
            [
             0.4444444444444444,
             "#bd3786"
            ],
            [
             0.5555555555555556,
             "#d8576b"
            ],
            [
             0.6666666666666666,
             "#ed7953"
            ],
            [
             0.7777777777777778,
             "#fb9f3a"
            ],
            [
             0.8888888888888888,
             "#fdca26"
            ],
            [
             1,
             "#f0f921"
            ]
           ],
           "sequentialminus": [
            [
             0,
             "#0d0887"
            ],
            [
             0.1111111111111111,
             "#46039f"
            ],
            [
             0.2222222222222222,
             "#7201a8"
            ],
            [
             0.3333333333333333,
             "#9c179e"
            ],
            [
             0.4444444444444444,
             "#bd3786"
            ],
            [
             0.5555555555555556,
             "#d8576b"
            ],
            [
             0.6666666666666666,
             "#ed7953"
            ],
            [
             0.7777777777777778,
             "#fb9f3a"
            ],
            [
             0.8888888888888888,
             "#fdca26"
            ],
            [
             1,
             "#f0f921"
            ]
           ]
          },
          "colorway": [
           "#636efa",
           "#EF553B",
           "#00cc96",
           "#ab63fa",
           "#FFA15A",
           "#19d3f3",
           "#FF6692",
           "#B6E880",
           "#FF97FF",
           "#FECB52"
          ],
          "font": {
           "color": "#2a3f5f"
          },
          "geo": {
           "bgcolor": "white",
           "lakecolor": "white",
           "landcolor": "#E5ECF6",
           "showlakes": true,
           "showland": true,
           "subunitcolor": "white"
          },
          "hoverlabel": {
           "align": "left"
          },
          "hovermode": "closest",
          "mapbox": {
           "style": "light"
          },
          "paper_bgcolor": "white",
          "plot_bgcolor": "#E5ECF6",
          "polar": {
           "angularaxis": {
            "gridcolor": "white",
            "linecolor": "white",
            "ticks": ""
           },
           "bgcolor": "#E5ECF6",
           "radialaxis": {
            "gridcolor": "white",
            "linecolor": "white",
            "ticks": ""
           }
          },
          "scene": {
           "xaxis": {
            "backgroundcolor": "#E5ECF6",
            "gridcolor": "white",
            "gridwidth": 2,
            "linecolor": "white",
            "showbackground": true,
            "ticks": "",
            "zerolinecolor": "white"
           },
           "yaxis": {
            "backgroundcolor": "#E5ECF6",
            "gridcolor": "white",
            "gridwidth": 2,
            "linecolor": "white",
            "showbackground": true,
            "ticks": "",
            "zerolinecolor": "white"
           },
           "zaxis": {
            "backgroundcolor": "#E5ECF6",
            "gridcolor": "white",
            "gridwidth": 2,
            "linecolor": "white",
            "showbackground": true,
            "ticks": "",
            "zerolinecolor": "white"
           }
          },
          "shapedefaults": {
           "line": {
            "color": "#2a3f5f"
           }
          },
          "ternary": {
           "aaxis": {
            "gridcolor": "white",
            "linecolor": "white",
            "ticks": ""
           },
           "baxis": {
            "gridcolor": "white",
            "linecolor": "white",
            "ticks": ""
           },
           "bgcolor": "#E5ECF6",
           "caxis": {
            "gridcolor": "white",
            "linecolor": "white",
            "ticks": ""
           }
          },
          "title": {
           "x": 0.05
          },
          "xaxis": {
           "automargin": true,
           "gridcolor": "white",
           "linecolor": "white",
           "ticks": "",
           "title": {
            "standoff": 15
           },
           "zerolinecolor": "white",
           "zerolinewidth": 2
          },
          "yaxis": {
           "automargin": true,
           "gridcolor": "white",
           "linecolor": "white",
           "ticks": "",
           "title": {
            "standoff": 15
           },
           "zerolinecolor": "white",
           "zerolinewidth": 2
          }
         }
        },
        "title": {
         "text": "Distribution of Word Lengths in Frankenstein: Chapter 1",
         "x": 0.5
        },
        "xaxis": {
         "anchor": "y",
         "domain": [
          0,
          1
         ],
         "range": [
          0,
          15
         ],
         "tickmode": "array",
         "tickvals": [
          1,
          2,
          3,
          4,
          5,
          6,
          7,
          8,
          9,
          10,
          11,
          12,
          13,
          14
         ],
         "title": {
          "text": "Word Length"
         },
         "type": "linear"
        },
        "yaxis": {
         "anchor": "x",
         "autorange": true,
         "domain": [
          0,
          1
         ],
         "range": [
          0,
          242.10526315789474
         ],
         "title": {
          "text": "Count"
         }
        }
       }
      },
      "image/png": "[encoded data removed]",
      "text/html": [
       "<div>                            <div id=\"0d7bfecb-51d0-4821-8ea4-e9dbbb65fee5\" class=\"plotly-graph-div\" style=\"height:525px; width:100%;\"></div>            <script type=\"text/javascript\">                require([\"plotly\"], function(Plotly) {                    window.PLOTLYENV=window.PLOTLYENV || {};                                    if (document.getElementById(\"0d7bfecb-51d0-4821-8ea4-e9dbbb65fee5\")) {                    Plotly.newPlot(                        \"0d7bfecb-51d0-4821-8ea4-e9dbbb65fee5\",                        [{\"alignmentgroup\": \"True\", \"bingroup\": \"x\", \"hovertemplate\": \"variable=0<br>value=%{x}<br>count=%{y}<extra></extra>\", \"legendgroup\": \"0\", \"marker\": {\"color\": \"#636efa\"}, \"name\": \"0\", \"nbinsx\": 14, \"offsetgroup\": \"0\", \"orientation\": \"v\", \"showlegend\": true, \"type\": \"histogram\", \"x\": [6, 1, 2, 3, 7, 7, 2, 11, 3, 4, 2, 3, 4, 7, 2, 4, 4, 2, 8, 3, 11, 3, 12, 2, 2, 10, 5, 3, 4, 8, 4, 4, 4, 11, 1, 7, 4, 9, 3, 2, 5, 4, 2, 2, 6, 2, 4, 6, 2, 2, 7, 3, 10, 10, 2, 3, 7, 2, 2, 11, 1, 2, 7, 3, 5, 2, 6, 3, 2, 1, 4, 2, 3, 7, 2, 11, 1, 4, 1, 4, 8, 6, 4, 4, 2, 6, 5, 6, 2, 6, 3, 5, 2, 4, 7, 2, 3, 10, 4, 7, 4, 6, 5, 3, 9, 4, 3, 7, 7, 5, 1, 2, 9, 5, 2, 1, 9, 2, 5, 3, 6, 10, 2, 4, 4, 2, 7, 2, 9, 6, 4, 7, 3, 5, 1, 3, 2, 4, 2, 2, 9, 4, 3, 4, 2, 3, 4, 2, 5, 3, 10, 2, 4, 8, 6, 2, 2, 11, 2, 3, 6, 2, 6, 3, 7, 5, 8, 3, 3, 2, 3, 4, 7, 3, 5, 4, 4, 8, 3, 7, 3, 9, 1, 9, 9, 5, 3, 4, 4, 5, 2, 6, 1, 4, 3, 4, 5, 2, 9, 10, 5, 4, 3, 5, 3, 8, 3, 7, 4, 1, 4, 3, 2, 3, 2, 6, 2, 1, 4, 10, 2, 7, 3, 2, 6, 5, 6, 8, 10, 2, 3, 9, 5, 3, 11, 3, 8, 3, 2, 7, 7, 2, 3, 9, 2, 3, 8, 6, 11, 3, 2, 5, 12, 9, 4, 3, 3, 2, 8, 2, 1, 7, 2, 7, 5, 1, 3, 5, 8, 3, 8, 5, 5, 8, 3, 6, 3, 3, 8, 1, 8, 9, 12, 4, 7, 4, 4, 6, 2, 6, 5, 7, 14, 10, 3, 4, 1, 5, 7, 2, 6, 9, 4, 3, 5, 2, 1, 4, 2, 3, 5, 5, 6, 7, 3, 3, 5, 1, 4, 5, 6, 9, 2, 3, 4, 2, 3, 5, 3, 2, 11, 3, 4, 3, 10, 2, 7, 3, 4, 2, 6, 2, 5, 3, 2, 6, 2, 2, 8, 4, 9, 6, 4, 3, 3, 1, 5, 5, 4, 2, 7, 2, 1, 6, 4, 4, 3, 7, 5, 2, 2, 10, 2, 9, 2, 3, 6, 5, 3, 9, 3, 5, 11, 2, 2, 5, 3, 6, 7, 3, 11, 7, 5, 1, 5, 6, 2, 3, 7, 2, 3, 4, 10, 2, 11, 1, 7, 4, 3, 4, 2, 5, 9, 2, 5, 5, 2, 7, 2, 4, 6, 3, 9, 2, 2, 12, 3, 6, 2, 3, 6, 5, 2, 2, 3, 8, 3, 4, 2, 8, 2, 2, 11, 4, 2, 4, 5, 11, 4, 9, 3, 9, 4, 5, 1, 5, 2, 6, 3, 1, 4, 2, 5, 4, 4, 2, 10, 5, 8, 2, 2, 6, 3, 7, 11, 2, 4, 2, 12, 3, 4, 2, 1, 6, 7, 1, 5, 2, 5, 3, 4, 3, 3, 3, 12, 3, 4, 10, 3, 4, 3, 9, 5, 2, 2, 5, 5, 1, 4, 4, 4, 6, 3, 8, 2, 3, 7, 7, 5, 4, 4, 4, 2, 3, 8, 2, 8, 2, 3, 5, 7, 5, 7, 3, 4, 5, 8, 3, 4, 3, 3, 8, 4, 1, 7, 2, 3, 3, 7, 4, 3, 8, 2, 9, 8, 3, 5, 2, 3, 4, 5, 6, 7, 2, 9, 3, 9, 3, 1, 3, 12, 4, 2, 7, 5, 7, 4, 2, 5, 3, 3, 5, 3, 2, 11, 4, 4, 9, 4, 6, 5, 1, 3, 4, 2, 1, 5, 2, 8, 4, 2, 6, 1, 5, 10, 3, 9, 2, 5, 2, 5, 2, 2, 6, 2, 1, 9, 4, 5, 7, 5, 4, 1, 7, 3, 3, 5, 4, 5, 5, 5, 9, 9, 2, 4, 3, 6, 2, 2, 6, 1, 4, 6, 1, 4, 3, 3, 3, 4, 5, 2, 1, 8, 2, 2, 3, 8, 1, 8, 4, 1, 4, 5, 6, 1, 5, 2, 3, 6, 5, 3, 5, 2, 5, 3, 11, 3, 11, 3, 3, 4, 10, 4, 2, 7, 3, 3, 7, 1, 4, 3, 14, 3, 4, 2, 4, 4, 1, 9, 3, 7, 2, 2, 6, 3, 2, 8, 4, 6, 4, 3, 7, 2, 5, 7, 4, 3, 5, 4, 6, 5, 1, 8, 2, 2, 7, 11, 1, 3, 4, 3, 8, 3, 4, 4, 5, 1, 9, 6, 2, 4, 5, 10, 1, 9, 2, 7, 2, 4, 2, 8, 1, 11, 3, 5, 7, 2, 7, 11, 2, 3, 5, 3, 1, 11, 7, 4, 6, 6, 3, 4, 2, 5, 1, 5, 6, 6, 4, 3, 6, 7, 6, 3, 3, 3, 7, 2, 6, 2, 3, 5, 2, 11, 3, 6, 2, 8, 3, 5, 8, 2, 8, 7, 4, 5, 1, 5, 10, 5, 6, 3, 8, 9, 9, 5, 1, 8, 5, 6, 2, 2, 5, 4, 2, 1, 9, 6, 3, 9, 6, 2, 10, 1, 4, 3, 1, 4, 1, 6, 5, 4, 2, 7, 7, 2, 3, 6, 7, 2, 3, 6, 3, 9, 2, 2, 6, 4, 3, 8, 11, 2, 8, 3, 2, 8, 2, 8, 3, 3, 4, 8, 2, 1, 3, 7, 2, 10, 4, 5, 7, 2, 4, 5, 4, 4, 6, 2, 4, 3, 6, 3, 1, 9, 5, 2, 5, 10, 4, 6, 6, 2, 2, 4, 2, 4, 4, 11, 5, 5, 6, 2, 3, 11, 2, 7, 3, 2, 10, 2, 4, 3, 2, 5, 9, 3, 2, 7, 3, 5, 9, 1, 2, 5, 2, 7, 2, 1, 4, 3, 9, 6, 3, 11, 2, 5, 4, 6, 3, 2, 9, 1, 2, 8, 3, 4, 2, 5, 3, 7, 2, 6, 3, 9, 2, 7, 2, 3, 4, 6, 3, 7, 4, 2, 3, 4, 10, 6, 3, 10, 2, 6, 4, 3, 7, 4, 3, 4, 2, 5, 7, 3, 6, 2, 8, 3, 2, 2, 7, 3, 4, 9, 4, 4, 2, 2, 7, 10, 3, 4, 2, 3, 9, 2, 3, 3, 7, 2, 4, 1, 5, 5, 1, 4, 7, 7, 3, 5, 2, 1, 5, 10, 7, 7, 3, 4, 3, 9, 6, 10, 3, 5, 4, 2, 8, 8, 3, 5, 4, 8, 8, 2, 4, 5, 1, 4, 2, 8, 2, 4, 2, 4, 2, 3, 4, 4, 7, 2, 11, 3, 9, 1, 5, 6, 3, 3, 6, 4, 2, 1, 9, 2, 5, 5, 3, 2, 9, 2, 2, 4, 1, 4, 5, 5, 3, 6, 2, 4, 2, 6, 3, 9, 3, 3, 5, 3, 2, 6, 2, 4, 7, 2, 1, 5, 9, 5, 5, 3, 3, 10, 2, 3, 5, 7, 1, 2, 3, 6, 2, 4, 5, 3, 5, 2, 4, 3, 4, 5, 1, 6, 2, 4, 6, 3, 3, 1, 6, 4, 8, 2, 1, 7, 4, 4, 6, 7, 5, 4, 4, 6, 3, 3, 1, 3, 4, 2, 1, 4, 3, 4, 3, 2, 5, 4, 2, 5, 8, 2, 4, 9, 8, 6, 6, 4, 9, 2, 3, 3, 4, 2, 4, 1, 3, 5, 3, 5, 7, 2, 9, 3, 3, 4, 4, 3, 8, 4, 12, 7, 1, 6], \"xaxis\": \"x\", \"yaxis\": \"y\"}],                        {\"barmode\": \"relative\", \"legend\": {\"title\": {\"text\": \"variable\"}, \"tracegroupgap\": 0}, \"showlegend\": false, \"template\": {\"data\": {\"bar\": [{\"error_x\": {\"color\": \"#2a3f5f\"}, \"error_y\": {\"color\": \"#2a3f5f\"}, \"marker\": {\"line\": {\"color\": \"#E5ECF6\", \"width\": 0.5}}, \"type\": \"bar\"}], \"barpolar\": [{\"marker\": {\"line\": {\"color\": \"#E5ECF6\", \"width\": 0.5}}, \"type\": \"barpolar\"}], \"carpet\": [{\"aaxis\": {\"endlinecolor\": \"#2a3f5f\", \"gridcolor\": \"white\", \"linecolor\": \"white\", \"minorgridcolor\": \"white\", \"startlinecolor\": \"#2a3f5f\"}, \"baxis\": {\"endlinecolor\": \"#2a3f5f\", \"gridcolor\": \"white\", \"linecolor\": \"white\", \"minorgridcolor\": \"white\", \"startlinecolor\": \"#2a3f5f\"}, \"type\": \"carpet\"}], \"choropleth\": [{\"colorbar\": {\"outlinewidth\": 0, \"ticks\": \"\"}, \"type\": \"choropleth\"}], \"contour\": [{\"colorbar\": {\"outlinewidth\": 0, \"ticks\": \"\"}, \"colorscale\": [[0.0, \"#0d0887\"], [0.1111111111111111, \"#46039f\"], [0.2222222222222222, \"#7201a8\"], [0.3333333333333333, \"#9c179e\"], [0.4444444444444444, \"#bd3786\"], [0.5555555555555556, \"#d8576b\"], [0.6666666666666666, \"#ed7953\"], [0.7777777777777778, \"#fb9f3a\"], [0.8888888888888888, \"#fdca26\"], [1.0, \"#f0f921\"]], \"type\": \"contour\"}], \"contourcarpet\": [{\"colorbar\": {\"outlinewidth\": 0, \"ticks\": \"\"}, \"type\": \"contourcarpet\"}], \"heatmap\": [{\"colorbar\": {\"outlinewidth\": 0, \"ticks\": \"\"}, \"colorscale\": [[0.0, \"#0d0887\"], [0.1111111111111111, \"#46039f\"], [0.2222222222222222, \"#7201a8\"], [0.3333333333333333, \"#9c179e\"], [0.4444444444444444, \"#bd3786\"], [0.5555555555555556, \"#d8576b\"], [0.6666666666666666, \"#ed7953\"], [0.7777777777777778, \"#fb9f3a\"], [0.8888888888888888, \"#fdca26\"], [1.0, \"#f0f921\"]], \"type\": \"heatmap\"}], \"heatmapgl\": [{\"colorbar\": {\"outlinewidth\": 0, \"ticks\": \"\"}, \"colorscale\": [[0.0, \"#0d0887\"], [0.1111111111111111, \"#46039f\"], [0.2222222222222222, \"#7201a8\"], [0.3333333333333333, \"#9c179e\"], [0.4444444444444444, \"#bd3786\"], [0.5555555555555556, \"#d8576b\"], [0.6666666666666666, \"#ed7953\"], [0.7777777777777778, \"#fb9f3a\"], [0.8888888888888888, \"#fdca26\"], [1.0, \"#f0f921\"]], \"type\": \"heatmapgl\"}], \"histogram\": [{\"marker\": {\"colorbar\": {\"outlinewidth\": 0, \"ticks\": \"\"}}, \"type\": \"histogram\"}], \"histogram2d\": [{\"colorbar\": {\"outlinewidth\": 0, \"ticks\": \"\"}, \"colorscale\": [[0.0, \"#0d0887\"], [0.1111111111111111, \"#46039f\"], [0.2222222222222222, \"#7201a8\"], [0.3333333333333333, \"#9c179e\"], [0.4444444444444444, \"#bd3786\"], [0.5555555555555556, \"#d8576b\"], [0.6666666666666666, \"#ed7953\"], [0.7777777777777778, \"#fb9f3a\"], [0.8888888888888888, \"#fdca26\"], [1.0, \"#f0f921\"]], \"type\": \"histogram2d\"}], \"histogram2dcontour\": [{\"colorbar\": {\"outlinewidth\": 0, \"ticks\": \"\"}, \"colorscale\": [[0.0, \"#0d0887\"], [0.1111111111111111, \"#46039f\"], [0.2222222222222222, \"#7201a8\"], [0.3333333333333333, \"#9c179e\"], [0.4444444444444444, \"#bd3786\"], [0.5555555555555556, \"#d8576b\"], [0.6666666666666666, \"#ed7953\"], [0.7777777777777778, \"#fb9f3a\"], [0.8888888888888888, \"#fdca26\"], [1.0, \"#f0f921\"]], \"type\": \"histogram2dcontour\"}], \"mesh3d\": [{\"colorbar\": {\"outlinewidth\": 0, \"ticks\": \"\"}, \"type\": \"mesh3d\"}], \"parcoords\": [{\"line\": {\"colorbar\": {\"outlinewidth\": 0, \"ticks\": \"\"}}, \"type\": \"parcoords\"}], \"pie\": [{\"automargin\": true, \"type\": \"pie\"}], \"scatter\": [{\"marker\": {\"colorbar\": {\"outlinewidth\": 0, \"ticks\": \"\"}}, \"type\": \"scatter\"}], \"scatter3d\": [{\"line\": {\"colorbar\": {\"outlinewidth\": 0, \"ticks\": \"\"}}, \"marker\": {\"colorbar\": {\"outlinewidth\": 0, \"ticks\": \"\"}}, \"type\": \"scatter3d\"}], \"scattercarpet\": [{\"marker\": {\"colorbar\": {\"outlinewidth\": 0, \"ticks\": \"\"}}, \"type\": \"scattercarpet\"}], \"scattergeo\": [{\"marker\": {\"colorbar\": {\"outlinewidth\": 0, \"ticks\": \"\"}}, \"type\": \"scattergeo\"}], \"scattergl\": [{\"marker\": {\"colorbar\": {\"outlinewidth\": 0, \"ticks\": \"\"}}, \"type\": \"scattergl\"}], \"scattermapbox\": [{\"marker\": {\"colorbar\": {\"outlinewidth\": 0, \"ticks\": \"\"}}, \"type\": \"scattermapbox\"}], \"scatterpolar\": [{\"marker\": {\"colorbar\": {\"outlinewidth\": 0, \"ticks\": \"\"}}, \"type\": \"scatterpolar\"}], \"scatterpolargl\": [{\"marker\": {\"colorbar\": {\"outlinewidth\": 0, \"ticks\": \"\"}}, \"type\": \"scatterpolargl\"}], \"scatterternary\": [{\"marker\": {\"colorbar\": {\"outlinewidth\": 0, \"ticks\": \"\"}}, \"type\": \"scatterternary\"}], \"surface\": [{\"colorbar\": {\"outlinewidth\": 0, \"ticks\": \"\"}, \"colorscale\": [[0.0, \"#0d0887\"], [0.1111111111111111, \"#46039f\"], [0.2222222222222222, \"#7201a8\"], [0.3333333333333333, \"#9c179e\"], [0.4444444444444444, \"#bd3786\"], [0.5555555555555556, \"#d8576b\"], [0.6666666666666666, \"#ed7953\"], [0.7777777777777778, \"#fb9f3a\"], [0.8888888888888888, \"#fdca26\"], [1.0, \"#f0f921\"]], \"type\": \"surface\"}], \"table\": [{\"cells\": {\"fill\": {\"color\": \"#EBF0F8\"}, \"line\": {\"color\": \"white\"}}, \"header\": {\"fill\": {\"color\": \"#C8D4E3\"}, \"line\": {\"color\": \"white\"}}, \"type\": \"table\"}]}, \"layout\": {\"annotationdefaults\": {\"arrowcolor\": \"#2a3f5f\", \"arrowhead\": 0, \"arrowwidth\": 1}, \"coloraxis\": {\"colorbar\": {\"outlinewidth\": 0, \"ticks\": \"\"}}, \"colorscale\": {\"diverging\": [[0, \"#8e0152\"], [0.1, \"#c51b7d\"], [0.2, \"#de77ae\"], [0.3, \"#f1b6da\"], [0.4, \"#fde0ef\"], [0.5, \"#f7f7f7\"], [0.6, \"#e6f5d0\"], [0.7, \"#b8e186\"], [0.8, \"#7fbc41\"], [0.9, \"#4d9221\"], [1, \"#276419\"]], \"sequential\": [[0.0, \"#0d0887\"], [0.1111111111111111, \"#46039f\"], [0.2222222222222222, \"#7201a8\"], [0.3333333333333333, \"#9c179e\"], [0.4444444444444444, \"#bd3786\"], [0.5555555555555556, \"#d8576b\"], [0.6666666666666666, \"#ed7953\"], [0.7777777777777778, \"#fb9f3a\"], [0.8888888888888888, \"#fdca26\"], [1.0, \"#f0f921\"]], \"sequentialminus\": [[0.0, \"#0d0887\"], [0.1111111111111111, \"#46039f\"], [0.2222222222222222, \"#7201a8\"], [0.3333333333333333, \"#9c179e\"], [0.4444444444444444, \"#bd3786\"], [0.5555555555555556, \"#d8576b\"], [0.6666666666666666, \"#ed7953\"], [0.7777777777777778, \"#fb9f3a\"], [0.8888888888888888, \"#fdca26\"], [1.0, \"#f0f921\"]]}, \"colorway\": [\"#636efa\", \"#EF553B\", \"#00cc96\", \"#ab63fa\", \"#FFA15A\", \"#19d3f3\", \"#FF6692\", \"#B6E880\", \"#FF97FF\", \"#FECB52\"], \"font\": {\"color\": \"#2a3f5f\"}, \"geo\": {\"bgcolor\": \"white\", \"lakecolor\": \"white\", \"landcolor\": \"#E5ECF6\", \"showlakes\": true, \"showland\": true, \"subunitcolor\": \"white\"}, \"hoverlabel\": {\"align\": \"left\"}, \"hovermode\": \"closest\", \"mapbox\": {\"style\": \"light\"}, \"paper_bgcolor\": \"white\", \"plot_bgcolor\": \"#E5ECF6\", \"polar\": {\"angularaxis\": {\"gridcolor\": \"white\", \"linecolor\": \"white\", \"ticks\": \"\"}, \"bgcolor\": \"#E5ECF6\", \"radialaxis\": {\"gridcolor\": \"white\", \"linecolor\": \"white\", \"ticks\": \"\"}}, \"scene\": {\"xaxis\": {\"backgroundcolor\": \"#E5ECF6\", \"gridcolor\": \"white\", \"gridwidth\": 2, \"linecolor\": \"white\", \"showbackground\": true, \"ticks\": \"\", \"zerolinecolor\": \"white\"}, \"yaxis\": {\"backgroundcolor\": \"#E5ECF6\", \"gridcolor\": \"white\", \"gridwidth\": 2, \"linecolor\": \"white\", \"showbackground\": true, \"ticks\": \"\", \"zerolinecolor\": \"white\"}, \"zaxis\": {\"backgroundcolor\": \"#E5ECF6\", \"gridcolor\": \"white\", \"gridwidth\": 2, \"linecolor\": \"white\", \"showbackground\": true, \"ticks\": \"\", \"zerolinecolor\": \"white\"}}, \"shapedefaults\": {\"line\": {\"color\": \"#2a3f5f\"}}, \"ternary\": {\"aaxis\": {\"gridcolor\": \"white\", \"linecolor\": \"white\", \"ticks\": \"\"}, \"baxis\": {\"gridcolor\": \"white\", \"linecolor\": \"white\", \"ticks\": \"\"}, \"bgcolor\": \"#E5ECF6\", \"caxis\": {\"gridcolor\": \"white\", \"linecolor\": \"white\", \"ticks\": \"\"}}, \"title\": {\"x\": 0.05}, \"xaxis\": {\"automargin\": true, \"gridcolor\": \"white\", \"linecolor\": \"white\", \"ticks\": \"\", \"title\": {\"standoff\": 15}, \"zerolinecolor\": \"white\", \"zerolinewidth\": 2}, \"yaxis\": {\"automargin\": true, \"gridcolor\": \"white\", \"linecolor\": \"white\", \"ticks\": \"\", \"title\": {\"standoff\": 15}, \"zerolinecolor\": \"white\", \"zerolinewidth\": 2}}}, \"title\": {\"text\": \"Distribution of Word Lengths in Frankenstein: Chapter 1\", \"x\": 0.5}, \"xaxis\": {\"anchor\": \"y\", \"domain\": [0.0, 1.0], \"range\": [0, 15], \"tickmode\": \"array\", \"tickvals\": [1, 2, 3, 4, 5, 6, 7, 8, 9, 10, 11, 12, 13, 14], \"title\": {\"text\": \"Word Length\"}}, \"yaxis\": {\"anchor\": \"x\", \"domain\": [0.0, 1.0], \"title\": {\"text\": \"Count\"}}},                        {\"responsive\": true}                    ).then(function(){\n",
       "                            \n",
       "var gd = document.getElementById('0d7bfecb-51d0-4821-8ea4-e9dbbb65fee5');\n",
       "var x = new MutationObserver(function (mutations, observer) {{\n",
       "        var display = window.getComputedStyle(gd).display;\n",
       "        if (!display || display === 'none') {{\n",
       "            console.log([gd, 'removed!']);\n",
       "            Plotly.purge(gd);\n",
       "            observer.disconnect();\n",
       "        }}\n",
       "}});\n",
       "\n",
       "// Listen for the removal of the full notebook cells\n",
       "var notebookContainer = gd.closest('#notebook-container');\n",
       "if (notebookContainer) {{\n",
       "    x.observe(notebookContainer, {childList: true});\n",
       "}}\n",
       "\n",
       "// Listen for the clearing of the current output cell\n",
       "var outputEl = gd.closest('.output');\n",
       "if (outputEl) {{\n",
       "    x.observe(outputEl, {childList: true});\n",
       "}}\n",
       "\n",
       "                        })                };                });            </script>        </div>"
      ]
     },
     "metadata": {},
     "output_type": "display_data"
    }
   ],
   "source": [
    "# Plotting histogram with Plotly as I enjoy interactive graphing!\n",
    "# If this code doesn't work for you please see below matplotlib.\n",
    "\n",
    "fig = px.histogram(word_lengths,\n",
    "                   nbins=14,\n",
    "                   range_x=(0, 15),\n",
    "                   title = 'Distribution of Word Lengths in Frankenstein: Chapter 1',\n",
    "                   )\n",
    "fig.update_layout(\n",
    "    showlegend=False,\n",
    "    xaxis = dict(\n",
    "        tickmode = 'array',\n",
    "        tickvals = list(range(1, 15))),\n",
    "    title_x=.5,\n",
    "    xaxis_title=\"Word Length\",\n",
    "    yaxis_title=\"Count\"\n",
    ")"
   ]
  },
  {
   "cell_type": "code",
   "execution_count": 99,
   "metadata": {},
   "outputs": [
    {
     "data": {
      "image/png": "[encoded data removed]",
      "text/plain": [
       "<Figure size 432x288 with 1 Axes>"
      ]
     },
     "metadata": {
      "needs_background": "light"
     },
     "output_type": "display_data"
    }
   ],
   "source": [
    "plt.hist(word_lengths, bins=14)\n",
    "plt.xlabel('Word Length')\n",
    "plt.ylabel('Count')\n",
    "plt.title('Distribution of Word Lengths in Frankenstein: Chapter 1');"
   ]
  },
  {
   "cell_type": "markdown",
   "metadata": {},
   "source": [
    "# Thank You!"
   ]
  }
 ],
 "metadata": {
  "kernelspec": {
   "display_name": "Python 3",
   "language": "python",
   "name": "python3"
  },
  "language_info": {
   "codemirror_mode": {
    "name": "ipython",
    "version": 3
   },
   "file_extension": ".py",
   "mimetype": "text/x-python",
   "name": "python",
   "nbconvert_exporter": "python",
   "pygments_lexer": "ipython3",
   "version": "3.7.7"
  }
 },
 "nbformat": 4,
 "nbformat_minor": 4
}
