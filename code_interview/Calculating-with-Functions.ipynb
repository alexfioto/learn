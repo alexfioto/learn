{
 "cells": [
  {
   "cell_type": "markdown",
   "metadata": {},
   "source": [
    "# Calculating with Functions"
   ]
  },
  {
   "cell_type": "code",
   "execution_count": null,
   "metadata": {},
   "outputs": [],
   "source": [
    "# My Solution\n",
    "\n",
    "def zero(x=None):\n",
    "    if type(x) is str:\n",
    "        if x[0] == '0':\n",
    "            return 0 + int(x[1])\n",
    "        elif x[0] == '1':\n",
    "            return 0 - int(x[1])\n",
    "        elif x[0] == '2':\n",
    "            return 0 * int(x[1])\n",
    "        else:\n",
    "            return 0 // int(x[1])\n",
    "    else:\n",
    "        return '0'\n",
    "            \n",
    "    #your code here\n",
    "def one(x=None):\n",
    "    if type(x) is str:\n",
    "        if x[0] == '0':\n",
    "            return 1 + int(x[1])\n",
    "        elif x[0] == '1':\n",
    "            return 1 - int(x[1])\n",
    "        elif x[0] == '2':\n",
    "            return 1* int(x[1])\n",
    "        else:\n",
    "            return 1 // int(x[1])\n",
    "    else:\n",
    "        return '1'\n",
    "    \n",
    "def two(x=None):\n",
    "    if type(x) is str:\n",
    "        if x[0] == '0':\n",
    "            return 2 + int(x[1])\n",
    "        elif x[0] == '1':\n",
    "            return 2 - int(x[1])\n",
    "        elif x[0] == '2':\n",
    "            return 2 * int(x[1])\n",
    "        else:\n",
    "            return 2 // int(x[1])\n",
    "    else:\n",
    "        return '2'\n",
    "    \n",
    "def three(x=None):\n",
    "    if type(x) is str:\n",
    "        if x[0] == '0':\n",
    "            return 3 + int(x[1])\n",
    "        elif x[0] == '1':\n",
    "            return 3 - int(x[1])\n",
    "        elif x[0] == '2':\n",
    "            return 3* int(x[1])\n",
    "        else:\n",
    "            return 3 // int(x[1])\n",
    "    else:\n",
    "        return '3'\n",
    "    \n",
    "    \n",
    "def four(x=None):\n",
    "    if type(x) is str:\n",
    "        if x[0] == '0':\n",
    "            return 4 + int(x[1])\n",
    "        elif x[0] == '1':\n",
    "            return 4 - int(x[1])\n",
    "        elif x[0] == '2':\n",
    "            return 4* int(x[1])\n",
    "        else:\n",
    "            return 4 // int(x[1])\n",
    "    else:\n",
    "        return '4'\n",
    "    \n",
    "def five(x=None):\n",
    "    if type(x) is str:\n",
    "        if x[0] == '0':\n",
    "            return 5 + int(x[1])\n",
    "        elif x[0] == '1':\n",
    "            return 5 - int(x[1])\n",
    "        elif x[0] == '2':\n",
    "            return 5* int(x[1])\n",
    "        else:\n",
    "            return 5 // int(x[1])\n",
    "    else:\n",
    "        return '5'\n",
    "    \n",
    "def six(x=None):\n",
    "    if type(x) is str:\n",
    "        if x[0] == '0':\n",
    "            return 6 + int(x[1])\n",
    "        elif x[0] == '1':\n",
    "            return 6 - int(x[1])\n",
    "        elif x[0] == '2':\n",
    "            return 6* int(x[1])\n",
    "        else:\n",
    "            return 6 // int(x[1])\n",
    "    else:\n",
    "        return '6'\n",
    "    \n",
    "def seven(x=None):\n",
    "    if type(x) is str:\n",
    "        if x[0] == '0':\n",
    "            return 7 + int(x[1])\n",
    "        elif x[0] == '1':\n",
    "            return 7 - int(x[1])\n",
    "        elif x[0] == '2':\n",
    "            return 7* int(x[1])\n",
    "        else:\n",
    "            return 7 // int(x[1])\n",
    "    else:\n",
    "        return '7'\n",
    "\n",
    "def eight(x=None):\n",
    "    if type(x) is str:\n",
    "        if x[0] == '0':\n",
    "            return 8 + int(x[1])\n",
    "        elif x[0] == '1':\n",
    "            return 8 - int(x[1])\n",
    "        elif x[0] == '2':\n",
    "            return 8* int(x[1])\n",
    "        else:\n",
    "            return 8 // int(x[1])\n",
    "    else:\n",
    "        return '8'\n",
    "    \n",
    "def nine(x=None):\n",
    "    if type(x) is str:\n",
    "        if x[0] == '0':\n",
    "            return 9 + int(x[1])\n",
    "        elif x[0] == '1':\n",
    "            return 9 - int(x[1])\n",
    "        elif x[0] == '2':\n",
    "            return 9* int(x[1])\n",
    "        else:\n",
    "            return 9 // int(x[1])\n",
    "    else:\n",
    "        return '9'\n",
    "\n",
    "def plus(x):\n",
    "    return '0'+x\n",
    "def minus(x):\n",
    "    return '1'+x\n",
    "def times(x):\n",
    "    return '2'+x\n",
    "def divided_by(x):\n",
    "    return '3'+x"
   ]
  },
  {
   "cell_type": "code",
   "execution_count": null,
   "metadata": {},
   "outputs": [],
   "source": [
    "# Better Solution\n",
    "\n",
    "def zero(f = None): return 0 if not f else f(0)\n",
    "def one(f = None): return 1 if not f else f(1)\n",
    "def two(f = None): return 2 if not f else f(2)\n",
    "def three(f = None): return 3 if not f else f(3)\n",
    "def four(f = None): return 4 if not f else f(4)\n",
    "def five(f = None): return 5 if not f else f(5)\n",
    "def six(f = None): return 6 if not f else f(6)\n",
    "def seven(f = None): return 7 if not f else f(7)\n",
    "def eight(f = None): return 8 if not f else f(8)\n",
    "def nine(f = None): return 9 if not f else f(9)\n",
    "\n",
    "def plus(y): return lambda x: x+y\n",
    "def minus(y): return lambda x: x-y\n",
    "def times(y): return lambda  x: x*y\n",
    "def divided_by(y): return lambda  x: x/y\n"
   ]
  },
  {
   "cell_type": "code",
   "execution_count": null,
   "metadata": {},
   "outputs": [],
   "source": [
    "# Interesting\n",
    "\n",
    "id_ = lambda x: x\n",
    "number = lambda x: lambda f=id_: f(x)\n",
    "zero, one, two, three, four, five, six, seven, eight, nine = map(number, range(10))\n",
    "plus = lambda x: lambda y: y + x\n",
    "minus = lambda x: lambda y: y - x\n",
    "times = lambda x: lambda y: y * x\n",
    "divided_by = lambda x: lambda y: y / x"
   ]
  },
  {
   "cell_type": "code",
   "execution_count": 1,
   "metadata": {},
   "outputs": [],
   "source": [
    "# More susinct way of mine\n",
    "def zero(arg=\"\"):  return eval(\"0\" + arg)\n",
    "def one(arg=\"\"):   return eval(\"1\" + arg)\n",
    "def two(arg=\"\"):   return eval(\"2\" + arg)\n",
    "def three(arg=\"\"): return eval(\"3\" + arg)\n",
    "def four(arg=\"\"):  return eval(\"4\" + arg)\n",
    "def five(arg=\"\"):  return eval(\"5\" + arg)\n",
    "def six(arg=\"\"):   return eval(\"6\" + arg)\n",
    "def seven(arg=\"\"): return eval(\"7\" + arg)\n",
    "def eight(arg=\"\"): return eval(\"8\" + arg)\n",
    "def nine(arg=\"\"):  return eval(\"9\" + arg)\n",
    "\n",
    "def plus(n):       return \"+%s\" % n\n",
    "def minus(n):      return \"-%s\" % n\n",
    "def times(n):      return \"*%s\" % n\n",
    "def divided_by(n): return \"/%s\" % n"
   ]
  },
  {
   "cell_type": "code",
   "execution_count": 3,
   "metadata": {},
   "outputs": [
    {
     "data": {
      "text/plain": [
       "'+0'"
      ]
     },
     "execution_count": 3,
     "metadata": {},
     "output_type": "execute_result"
    }
   ],
   "source": [
    "plus(zero())"
   ]
  },
  {
   "cell_type": "code",
   "execution_count": 5,
   "metadata": {},
   "outputs": [
    {
     "data": {
      "text/plain": [
       "105"
      ]
     },
     "execution_count": 5,
     "metadata": {},
     "output_type": "execute_result"
    }
   ],
   "source": [
    "eval('100+5')"
   ]
  },
  {
   "cell_type": "code",
   "execution_count": null,
   "metadata": {},
   "outputs": [],
   "source": []
  }
 ],
 "metadata": {
  "kernelspec": {
   "display_name": "Python 3",
   "language": "python",
   "name": "python3"
  },
  "language_info": {
   "codemirror_mode": {
    "name": "ipython",
    "version": 3
   },
   "file_extension": ".py",
   "mimetype": "text/x-python",
   "name": "python",
   "nbconvert_exporter": "python",
   "pygments_lexer": "ipython3",
   "version": "3.7.7"
  }
 },
 "nbformat": 4,
 "nbformat_minor": 4
}
