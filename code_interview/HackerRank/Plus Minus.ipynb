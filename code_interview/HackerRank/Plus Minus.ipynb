{
 "cells": [
  {
   "cell_type": "code",
   "execution_count": 10,
   "metadata": {},
   "outputs": [],
   "source": [
    "def plusMinus(arr):\n",
    "    pos = 0\n",
    "    zero = 0\n",
    "    neg = 0\n",
    "    \n",
    "    for num in arr:\n",
    "        if num > 0:\n",
    "            pos+= 1\n",
    "        elif num < 0 :\n",
    "            neg += 1\n",
    "        else:\n",
    "            zero += 1\n",
    "    pos_ratio = round(pos / len(arr), 6)\n",
    "    neg_ratio = round(neg / len(arr), 6)\n",
    "    zero_ratio = round(zero / len(arr), 6)\n",
    "    print(f'{pos_ratio:.6f}\\n{neg_ratio:.6f}\\n{zero_ratio:.6f}')"
   ]
  },
  {
   "cell_type": "code",
   "execution_count": 11,
   "metadata": {},
   "outputs": [
    {
     "name": "stdout",
     "output_type": "stream",
     "text": [
      "0.400000\n",
      "0.400000\n",
      "0.200000\n"
     ]
    }
   ],
   "source": [
    "plusMinus([1,1,0,-1,-1])"
   ]
  },
  {
   "cell_type": "code",
   "execution_count": null,
   "metadata": {},
   "outputs": [],
   "source": []
  }
 ],
 "metadata": {
  "kernelspec": {
   "display_name": "Python 3",
   "language": "python",
   "name": "python3"
  },
  "language_info": {
   "codemirror_mode": {
    "name": "ipython",
    "version": 3
   },
   "file_extension": ".py",
   "mimetype": "text/x-python",
   "name": "python",
   "nbconvert_exporter": "python",
   "pygments_lexer": "ipython3",
   "version": "3.7.7"
  }
 },
 "nbformat": 4,
 "nbformat_minor": 4
}
