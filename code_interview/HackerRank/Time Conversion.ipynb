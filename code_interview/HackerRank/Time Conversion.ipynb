{
 "cells": [
  {
   "cell_type": "code",
   "execution_count": 43,
   "metadata": {},
   "outputs": [],
   "source": [
    "def timeConversion(s):\n",
    "    hour, minutes, secs = s.split(':')\n",
    "    ampm = secs[2:]\n",
    "    secs = secs[:2]\n",
    "    if ampm == 'PM':\n",
    "        if hour == '12':\n",
    "            return ':'.join([hour, minutes, secs])\n",
    "        else:\n",
    "            return ':'.join([str(int(hour) + 12), minutes, secs])\n",
    "        \n",
    "    else: # if ampm == 'AM'\n",
    "        if hour == '12':\n",
    "            return ':'.join(['00', minutes, secs])\n",
    "        else:\n",
    "            return ':'.join([hour, minutes, secs])\n",
    "            \n",
    "    \n",
    "    return secs"
   ]
  },
  {
   "cell_type": "code",
   "execution_count": 44,
   "metadata": {},
   "outputs": [
    {
     "data": {
      "text/plain": [
       "'01:01:00'"
      ]
     },
     "execution_count": 44,
     "metadata": {},
     "output_type": "execute_result"
    }
   ],
   "source": [
    "timeConversion('01:01:00AM')"
   ]
  },
  {
   "cell_type": "code",
   "execution_count": null,
   "metadata": {},
   "outputs": [],
   "source": []
  }
 ],
 "metadata": {
  "kernelspec": {
   "display_name": "Python 3",
   "language": "python",
   "name": "python3"
  },
  "language_info": {
   "codemirror_mode": {
    "name": "ipython",
    "version": 3
   },
   "file_extension": ".py",
   "mimetype": "text/x-python",
   "name": "python",
   "nbconvert_exporter": "python",
   "pygments_lexer": "ipython3",
   "version": "3.7.7"
  }
 },
 "nbformat": 4,
 "nbformat_minor": 4
}
