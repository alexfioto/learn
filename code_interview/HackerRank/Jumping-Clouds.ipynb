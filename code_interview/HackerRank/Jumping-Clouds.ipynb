{
 "cells": [
  {
   "cell_type": "markdown",
   "metadata": {},
   "source": [
    "Hacker Rank"
   ]
  },
  {
   "cell_type": "code",
   "execution_count": 18,
   "metadata": {},
   "outputs": [],
   "source": [
    "def jumpingOnClouds(c):\n",
    "    \n",
    "    jumps = 0\n",
    "    i=0\n",
    "    \n",
    "    while i != len(c) - 1:\n",
    "        cc = c[i]\n",
    "        \n",
    "        if i == len(c) - 2:\n",
    "            jumps +=1\n",
    "            return jumps\n",
    "        \n",
    "        if c[i + 2] == 0:\n",
    "            i += 2\n",
    "            jumps +=1\n",
    "        else:\n",
    "            i += 1\n",
    "            jumps +=1\n",
    "        if i + 1 == len(c):\n",
    "            break\n",
    "    return jumps\n",
    "    "
   ]
  },
  {
   "cell_type": "code",
   "execution_count": 20,
   "metadata": {},
   "outputs": [
    {
     "data": {
      "text/plain": [
       "3"
      ]
     },
     "execution_count": 20,
     "metadata": {},
     "output_type": "execute_result"
    }
   ],
   "source": [
    "c = [0, 0, 0, 0, 1, 0]\n",
    "c2 = [0, 0, 0, 1, 0, 0]\n",
    "jumpingOnClouds(c)"
   ]
  },
  {
   "cell_type": "code",
   "execution_count": null,
   "metadata": {},
   "outputs": [],
   "source": []
  }
 ],
 "metadata": {
  "kernelspec": {
   "display_name": "Python 3",
   "language": "python",
   "name": "python3"
  },
  "language_info": {
   "codemirror_mode": {
    "name": "ipython",
    "version": 3
   },
   "file_extension": ".py",
   "mimetype": "text/x-python",
   "name": "python",
   "nbconvert_exporter": "python",
   "pygments_lexer": "ipython3",
   "version": "3.7.7"
  }
 },
 "nbformat": 4,
 "nbformat_minor": 4
}
