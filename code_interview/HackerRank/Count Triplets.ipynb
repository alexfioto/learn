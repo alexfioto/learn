{
 "cells": [
  {
   "cell_type": "markdown",
   "metadata": {},
   "source": [
    "Count Triplets"
   ]
  },
  {
   "cell_type": "code",
   "execution_count": 52,
   "metadata": {},
   "outputs": [],
   "source": [
    "def countTriplets(arr, r):\n",
    "    counter=0\n",
    "    for i in range(len(arr)):\n",
    "        num1 = arr[i]\n",
    "        num2 = arr[i] * r\n",
    "        num3 = num2 * r\n",
    "        d = {num1: 1, num2: 0, num3: 0}\n",
    "        for j in range(i + 1, len(arr)):\n",
    "            if arr[j] > num3:\n",
    "                break\n",
    "            if arr[j] == num1:\n",
    "                d[num1] += 1\n",
    "            elif arr[j] == num2:\n",
    "                d[num2] += 1\n",
    "            elif arr[j] ==num3:\n",
    "                d[num3] += 1\n",
    "        triplets = 0\n",
    "        for key, value in d.items():\n",
    "            no_triplets = False\n",
    "            if value == 0:\n",
    "                no_triplets = True\n",
    "            triplets += value\n",
    "        if not no_triplets:\n",
    "            counter += triplets-2\n",
    "        print(d, triplets-2)\n",
    "            \n",
    "            \n",
    "                \n",
    "    return counter"
   ]
  },
  {
   "cell_type": "code",
   "execution_count": 53,
   "metadata": {},
   "outputs": [
    {
     "name": "stdout",
     "output_type": "stream",
     "text": [
      "{1: 1, 3: 1, 9: 2} 2\n",
      "{3: 1, 9: 2, 27: 1} 2\n",
      "{9: 2, 27: 1, 81: 1} 2\n",
      "{9: 1, 27: 1, 81: 1} 1\n",
      "{27: 1, 81: 1, 243: 0} 0\n",
      "{81: 1, 243: 0, 729: 0} -1\n"
     ]
    },
    {
     "data": {
      "text/plain": [
       "7"
      ]
     },
     "execution_count": 53,
     "metadata": {},
     "output_type": "execute_result"
    }
   ],
   "source": [
    "countTriplets([1, 3, 9, 9, 27, 81], 3)"
   ]
  },
  {
   "cell_type": "code",
   "execution_count": 63,
   "metadata": {},
   "outputs": [],
   "source": [
    "def countTriplets(arr, r):\n",
    "    counter=0\n",
    "    d = {}\n",
    "    unique_arr = list(set(arr))\n",
    "    for i in range(len(arr)):\n",
    "        if arr[i] not in d:\n",
    "            d[arr[i]] = 1\n",
    "        else:\n",
    "            d[arr[i]] += 1\n",
    "    \n",
    "    for i in range(len(unique_arr)):\n",
    "        num1 = arr[i]\n",
    "        num2 = arr[i] * r\n",
    "        num3 = num2 * r\n",
    "        triplets = d[num1]\n",
    "        test = -1\n",
    "        for j in range(i + 1, len(unique_arr)):\n",
    "            if unique_arr[j] == num2:\n",
    "                triplets += d[num2]\n",
    "                test+=1\n",
    "            elif unique_arr[j] == num3:\n",
    "                triplets += d[num3]\n",
    "                test+=1\n",
    "            if test > 0:\n",
    "                counter += triplets -2\n",
    "                break\n",
    "    return counter\n",
    "        \n",
    "    "
   ]
  },
  {
   "cell_type": "code",
   "execution_count": 81,
   "metadata": {},
   "outputs": [
    {
     "data": {
      "text/plain": [
       "6"
      ]
     },
     "execution_count": 81,
     "metadata": {},
     "output_type": "execute_result"
    }
   ],
   "source": [
    "countTriplets([1, 3, 9, 9, 27, 81], 3)"
   ]
  },
  {
   "cell_type": "code",
   "execution_count": 82,
   "metadata": {},
   "outputs": [
    {
     "data": {
      "text/plain": [
       "4"
      ]
     },
     "execution_count": 82,
     "metadata": {},
     "output_type": "execute_result"
    }
   ],
   "source": [
    "countTriplets([1, 5, 5, 25, 125], 5)"
   ]
  },
  {
   "cell_type": "code",
   "execution_count": 68,
   "metadata": {},
   "outputs": [],
   "source": [
    "from collections import defaultdict\n",
    "v2 = defaultdict(int)"
   ]
  },
  {
   "cell_type": "code",
   "execution_count": 69,
   "metadata": {},
   "outputs": [
    {
     "data": {
      "text/plain": [
       "defaultdict(int, {})"
      ]
     },
     "execution_count": 69,
     "metadata": {},
     "output_type": "execute_result"
    }
   ],
   "source": [
    "v2"
   ]
  },
  {
   "cell_type": "code",
   "execution_count": 79,
   "metadata": {},
   "outputs": [
    {
     "name": "stdout",
     "output_type": "stream",
     "text": [
      "k:1\n",
      "count: 0 \n",
      "v2: defaultdict(<class 'int'>, {1: 0, 3: 1}) \n",
      "v3: defaultdict(<class 'int'>, {1: 0, 3: 0})\n",
      "\n",
      "\n",
      "k:3\n",
      "count: 0 \n",
      "v2: defaultdict(<class 'int'>, {1: 0, 3: 1, 9: 1}) \n",
      "v3: defaultdict(<class 'int'>, {1: 0, 3: 0, 9: 1})\n",
      "\n",
      "\n",
      "k:9\n",
      "count: 1 \n",
      "v2: defaultdict(<class 'int'>, {1: 0, 3: 1, 9: 1, 27: 1}) \n",
      "v3: defaultdict(<class 'int'>, {1: 0, 3: 0, 9: 1, 27: 1})\n",
      "\n",
      "\n",
      "k:9\n",
      "count: 2 \n",
      "v2: defaultdict(<class 'int'>, {1: 0, 3: 1, 9: 1, 27: 2}) \n",
      "v3: defaultdict(<class 'int'>, {1: 0, 3: 0, 9: 1, 27: 2})\n",
      "\n",
      "\n",
      "k:27\n",
      "count: 4 \n",
      "v2: defaultdict(<class 'int'>, {1: 0, 3: 1, 9: 1, 27: 2, 81: 1}) \n",
      "v3: defaultdict(<class 'int'>, {1: 0, 3: 0, 9: 1, 27: 2, 81: 2})\n",
      "\n",
      "\n",
      "k:81\n",
      "count: 6 \n",
      "v2: defaultdict(<class 'int'>, {1: 0, 3: 1, 9: 1, 27: 2, 81: 1, 243: 1}) \n",
      "v3: defaultdict(<class 'int'>, {1: 0, 3: 0, 9: 1, 27: 2, 81: 2, 243: 1})\n",
      "\n",
      "\n"
     ]
    }
   ],
   "source": [
    "\n",
    "arr = [1,3,9,9,27,81]\n",
    "r = 3\n",
    "v2 = defaultdict(int)\n",
    "v3 = defaultdict(int)\n",
    "count = 0\n",
    "for k in arr:\n",
    "    count += v3[k]\n",
    "    v3[k*r] += v2[k]\n",
    "    v2[k*r] += 1\n",
    "    print(f'k:{k}\\ncount: {count} \\nv2: {v2} \\nv3: {v3}\\n\\n')\n"
   ]
  },
  {
   "cell_type": "code",
   "execution_count": 80,
   "metadata": {},
   "outputs": [],
   "source": [
    "def countTriplets(arr, r):\n",
    "    from collections import defaultdict\n",
    "    count = 0\n",
    "    v2 = defaultdict(int)\n",
    "    v3 = defaultdict(int)\n",
    "    \n",
    "    for k in arr:\n",
    "        count += v3[k]\n",
    "        v3[k*r] += v2[k]\n",
    "        v2[k*r] += 1\n",
    "    return count\n"
   ]
  },
  {
   "cell_type": "code",
   "execution_count": null,
   "metadata": {},
   "outputs": [],
   "source": []
  }
 ],
 "metadata": {
  "kernelspec": {
   "display_name": "Python 3",
   "language": "python",
   "name": "python3"
  },
  "language_info": {
   "codemirror_mode": {
    "name": "ipython",
    "version": 3
   },
   "file_extension": ".py",
   "mimetype": "text/x-python",
   "name": "python",
   "nbconvert_exporter": "python",
   "pygments_lexer": "ipython3",
   "version": "3.7.7"
  }
 },
 "nbformat": 4,
 "nbformat_minor": 4
}
