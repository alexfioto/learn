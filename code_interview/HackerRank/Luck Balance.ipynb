{
 "cells": [
  {
   "cell_type": "code",
   "execution_count": 26,
   "metadata": {},
   "outputs": [],
   "source": [
    "def luckBalance(k, contests):\n",
    "    important_luck = []\n",
    "    total_luck = 0\n",
    "    for contest in contests:\n",
    "        if contest[1]:\n",
    "            important_luck.append(contest[0])\n",
    "        else:\n",
    "            total_luck += contest[0]\n",
    "    il = sorted(important_luck, reverse=True)\n",
    "    for i in range(len(il)):\n",
    "        if i <= k-1:\n",
    "            total_luck += il[i]\n",
    "        else:\n",
    "            total_luck -= il[i]\n",
    "\n",
    "    return total_luck\n",
    "            \n",
    "            "
   ]
  },
  {
   "cell_type": "code",
   "execution_count": 27,
   "metadata": {},
   "outputs": [],
   "source": [
    "k = 3\n",
    "contests = [[5, 1], [2, 1], [1, 1], [8, 1], [10, 0], [5, 0]]"
   ]
  },
  {
   "cell_type": "code",
   "execution_count": 28,
   "metadata": {},
   "outputs": [
    {
     "data": {
      "text/plain": [
       "29"
      ]
     },
     "execution_count": 28,
     "metadata": {},
     "output_type": "execute_result"
    }
   ],
   "source": [
    "luckBalance(k, contests)"
   ]
  },
  {
   "cell_type": "code",
   "execution_count": null,
   "metadata": {},
   "outputs": [],
   "source": []
  },
  {
   "cell_type": "code",
   "execution_count": null,
   "metadata": {},
   "outputs": [],
   "source": []
  }
 ],
 "metadata": {
  "kernelspec": {
   "display_name": "Python 3",
   "language": "python",
   "name": "python3"
  },
  "language_info": {
   "codemirror_mode": {
    "name": "ipython",
    "version": 3
   },
   "file_extension": ".py",
   "mimetype": "text/x-python",
   "name": "python",
   "nbconvert_exporter": "python",
   "pygments_lexer": "ipython3",
   "version": "3.7.7"
  }
 },
 "nbformat": 4,
 "nbformat_minor": 4
}
