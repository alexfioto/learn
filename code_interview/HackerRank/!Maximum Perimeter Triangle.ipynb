{
 "cells": [
  {
   "cell_type": "code",
   "execution_count": 13,
   "metadata": {},
   "outputs": [],
   "source": [
    "def maximumPerimeterTriangle(sticks):\n",
    "    output = None\n",
    "    longest_perimeter = 0\n",
    "    if len(sticks) == 3:\n",
    "        if ((sticks[0] + sticks[1]) > sticks[3]):\n",
    "            return sticks\n",
    "        else:\n",
    "            return -1\n",
    "    for i in range(len(sticks)-2):\n",
    "        if ((sticks[i] + sticks[i+1]) > sticks[i+2]):\n",
    "            if sum(sticks[i:i+3]) > longest_perimeter:\n",
    "                output = sticks[i:i+3]\n",
    "                longest_perimeter = sum(sticks[i:i+3])\n",
    "            elif sum(sticks[i:i+3]) == longest_perimeter:\n",
    "                if sticks[i] > output[0]:\n",
    "                    output = sticks[i:i+3]\n",
    "                else:\n",
    "                    pass\n",
    "    if output:\n",
    "        return(output)\n",
    "    else:\n",
    "        return -1\n",
    "\n",
    "            \n",
    "            "
   ]
  },
  {
   "cell_type": "code",
   "execution_count": 14,
   "metadata": {},
   "outputs": [
    {
     "name": "stdout",
     "output_type": "stream",
     "text": [
      "[3, 4, 5]\n"
     ]
    }
   ],
   "source": [
    "maximumPerimeterTriangle([1,2,3,4,5,10])"
   ]
  },
  {
   "cell_type": "code",
   "execution_count": null,
   "metadata": {},
   "outputs": [],
   "source": []
  }
 ],
 "metadata": {
  "kernelspec": {
   "display_name": "Python 3",
   "language": "python",
   "name": "python3"
  },
  "language_info": {
   "codemirror_mode": {
    "name": "ipython",
    "version": 3
   },
   "file_extension": ".py",
   "mimetype": "text/x-python",
   "name": "python",
   "nbconvert_exporter": "python",
   "pygments_lexer": "ipython3",
   "version": "3.7.7"
  }
 },
 "nbformat": 4,
 "nbformat_minor": 4
}
