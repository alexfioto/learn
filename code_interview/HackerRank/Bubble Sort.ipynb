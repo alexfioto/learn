{
 "cells": [
  {
   "cell_type": "markdown",
   "metadata": {},
   "source": [
    "https://www.hackerrank.com/challenges/ctci-bubble-sort/problem?h_l=interview&playlist_slugs%5B%5D=interview-preparation-kit&playlist_slugs%5B%5D=sorting"
   ]
  },
  {
   "cell_type": "code",
   "execution_count": 26,
   "metadata": {},
   "outputs": [],
   "source": [
    "def countSwaps(a):\n",
    "    swaps = 0\n",
    "    isSorted = False\n",
    "    lastElement = len(a) - 1\n",
    "    while not isSorted:\n",
    "        isSorted = True\n",
    "        for i in range(lastElement):\n",
    "            if a[i] > a[i+1]:\n",
    "                a[i], a[i+1] = a[i+1], a[i]\n",
    "                isSorted = False\n",
    "                swaps += 1\n",
    "        lastElement -= 1\n",
    "    print(f'Array is sorted in {swaps} swaps.\\nFirst Element: {a[0]}\\nLast Element: {a[-1]}')\n",
    "        \n",
    "            "
   ]
  },
  {
   "cell_type": "code",
   "execution_count": 27,
   "metadata": {},
   "outputs": [
    {
     "name": "stdout",
     "output_type": "stream",
     "text": [
      "Array is sorted in 5 swaps.\n",
      "First Element: 1\n",
      "Last Element: 4\n"
     ]
    }
   ],
   "source": [
    "countSwaps([4,2,3,1])"
   ]
  },
  {
   "cell_type": "code",
   "execution_count": 17,
   "metadata": {},
   "outputs": [
    {
     "data": {
      "text/plain": [
       "[0, 1, 2]"
      ]
     },
     "execution_count": 17,
     "metadata": {},
     "output_type": "execute_result"
    }
   ],
   "source": [
    "list(range(3))"
   ]
  },
  {
   "cell_type": "code",
   "execution_count": null,
   "metadata": {},
   "outputs": [],
   "source": []
  }
 ],
 "metadata": {
  "kernelspec": {
   "display_name": "Python 3",
   "language": "python",
   "name": "python3"
  },
  "language_info": {
   "codemirror_mode": {
    "name": "ipython",
    "version": 3
   },
   "file_extension": ".py",
   "mimetype": "text/x-python",
   "name": "python",
   "nbconvert_exporter": "python",
   "pygments_lexer": "ipython3",
   "version": "3.7.7"
  }
 },
 "nbformat": 4,
 "nbformat_minor": 4
}
