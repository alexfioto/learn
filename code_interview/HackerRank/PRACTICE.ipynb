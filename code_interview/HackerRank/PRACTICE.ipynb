{
 "cells": [
  {
   "cell_type": "code",
   "execution_count": 20,
   "metadata": {},
   "outputs": [],
   "source": [
    "def dayOfProgrammer(year):\n",
    "    # if julian\n",
    "    if 1700 <= year < 1918:\n",
    "        #test for leap year (year is divisible by 4)\n",
    "        if year % 4 == 0:\n",
    "            #if leap year return september 13 and year\n",
    "            return f'12.09.{year}'\n",
    "            # else return september 12 and year\n",
    "        else:\n",
    "            return f'13.09.{year}'\n",
    "    # else (if gregorian)\n",
    "    if 2700 >= year >= 1918:\n",
    "        # test for leap year (two conditions)\n",
    "        if year%400 == 0:\n",
    "        #if leap year return september 13 and year\n",
    "            return f'12.09.{year}'\n",
    "        elif (year%4 == 0) and (year%100 != 0):\n",
    "            # else return september 12 and year\n",
    "            return f'12.09.{year}'\n",
    "        else:\n",
    "            return f'13.09.{year}'"
   ]
  },
  {
   "cell_type": "code",
   "execution_count": 21,
   "metadata": {},
   "outputs": [
    {
     "name": "stdout",
     "output_type": "stream",
     "text": [
      "2017\n"
     ]
    },
    {
     "data": {
      "text/plain": [
       "'13.09.2017'"
      ]
     },
     "execution_count": 21,
     "metadata": {},
     "output_type": "execute_result"
    }
   ],
   "source": [
    "dayOfProgrammer(2017)"
   ]
  },
  {
   "cell_type": "code",
   "execution_count": 25,
   "metadata": {},
   "outputs": [],
   "source": [
    "def magicSquare(s):\n",
    "    d = {}\n",
    "    for i in range(len(s)):\n",
    "        for j in range(len(s)):\n",
    "            if s[i][j] not in d:\n",
    "                d[s[i][j]] = 1\n",
    "            else:\n",
    "                d[s[i][j]] += 1\n",
    "    return d"
   ]
  },
  {
   "cell_type": "code",
   "execution_count": 26,
   "metadata": {},
   "outputs": [
    {
     "data": {
      "text/plain": [
       "{5: 2, 3: 1, 4: 2, 1: 1, 8: 1, 6: 1, 2: 1}"
      ]
     },
     "execution_count": 26,
     "metadata": {},
     "output_type": "execute_result"
    }
   ],
   "source": [
    "magicSquare( [[5, 3, 4], [1, 5, 8], [6, 4, 2]])"
   ]
  },
  {
   "cell_type": "code",
   "execution_count": 27,
   "metadata": {},
   "outputs": [],
   "source": [
    "import string"
   ]
  },
  {
   "cell_type": "code",
   "execution_count": 30,
   "metadata": {},
   "outputs": [
    {
     "data": {
      "text/plain": [
       "['a',\n",
       " 'b',\n",
       " 'c',\n",
       " 'd',\n",
       " 'e',\n",
       " 'f',\n",
       " 'g',\n",
       " 'h',\n",
       " 'i',\n",
       " 'j',\n",
       " 'k',\n",
       " 'l',\n",
       " 'm',\n",
       " 'n',\n",
       " 'o',\n",
       " 'p',\n",
       " 'q',\n",
       " 'r',\n",
       " 's',\n",
       " 't',\n",
       " 'u',\n",
       " 'v',\n",
       " 'w',\n",
       " 'x',\n",
       " 'y',\n",
       " 'z']"
      ]
     },
     "execution_count": 30,
     "metadata": {},
     "output_type": "execute_result"
    }
   ],
   "source": [
    "list(string.ascii_lowercase)"
   ]
  },
  {
   "cell_type": "code",
   "execution_count": 31,
   "metadata": {},
   "outputs": [
    {
     "data": {
      "text/plain": [
       "0"
      ]
     },
     "execution_count": 31,
     "metadata": {},
     "output_type": "execute_result"
    }
   ],
   "source": []
  },
  {
   "cell_type": "code",
   "execution_count": 35,
   "metadata": {},
   "outputs": [],
   "source": [
    "def utopianTree(n):\n",
    "    \n",
    "    for i in range(n):\n",
    "        if i % 2 == 0:\n",
    "            n *= 2\n",
    "        else: # odd number\n",
    "            n += 1\n",
    "        #return a integer\n",
    "    return n"
   ]
  },
  {
   "cell_type": "code",
   "execution_count": 36,
   "metadata": {},
   "outputs": [
    {
     "data": {
      "text/plain": [
       "0"
      ]
     },
     "execution_count": 36,
     "metadata": {},
     "output_type": "execute_result"
    }
   ],
   "source": [
    "utopianTree(0)"
   ]
  },
  {
   "cell_type": "code",
   "execution_count": 49,
   "metadata": {},
   "outputs": [],
   "source": [
    "def viralAdvertising(n):\n",
    "    cumulative = 2\n",
    "    liked = 2\n",
    "    \n",
    "    for i in range(n-1):\n",
    "        shared = liked * 3\n",
    "        liked = shared // 2\n",
    "        cumulative += liked\n",
    "    return cumulative"
   ]
  },
  {
   "cell_type": "code",
   "execution_count": 51,
   "metadata": {},
   "outputs": [
    {
     "data": {
      "text/plain": [
       "9"
      ]
     },
     "execution_count": 51,
     "metadata": {},
     "output_type": "execute_result"
    }
   ],
   "source": [
    "viralAdvertising(3)"
   ]
  },
  {
   "cell_type": "code",
   "execution_count": 12,
   "metadata": {},
   "outputs": [],
   "source": [
    "from collections import Counter\n",
    "c = Counter([1,1,1,2,2,2,3,3,3,4,4,4,4,4,4,4,5,5,5,5,5,5,5,5,5,5,5])"
   ]
  },
  {
   "cell_type": "code",
   "execution_count": 13,
   "metadata": {},
   "outputs": [
    {
     "data": {
      "text/plain": [
       "Counter({1: 3, 2: 3, 3: 3, 4: 7, 5: 11})"
      ]
     },
     "execution_count": 13,
     "metadata": {},
     "output_type": "execute_result"
    }
   ],
   "source": [
    "c"
   ]
  },
  {
   "cell_type": "code",
   "execution_count": 20,
   "metadata": {},
   "outputs": [
    {
     "name": "stdout",
     "output_type": "stream",
     "text": [
      "3\n",
      "3\n",
      "3\n",
      "7\n",
      "11\n"
     ]
    }
   ],
   "source": [
    "for i in range(len(c)):\n",
    "    print(c[list(c.keys())[i]])"
   ]
  },
  {
   "cell_type": "code",
   "execution_count": 18,
   "metadata": {},
   "outputs": [
    {
     "data": {
      "text/plain": [
       "[1, 2, 3, 4, 5]"
      ]
     },
     "execution_count": 18,
     "metadata": {},
     "output_type": "execute_result"
    }
   ],
   "source": [
    "list(c.keys())"
   ]
  },
  {
   "cell_type": "code",
   "execution_count": 23,
   "metadata": {},
   "outputs": [
    {
     "data": {
      "text/plain": [
       "11"
      ]
     },
     "execution_count": 23,
     "metadata": {},
     "output_type": "execute_result"
    }
   ],
   "source": [
    "max(c.values())"
   ]
  },
  {
   "cell_type": "code",
   "execution_count": 31,
   "metadata": {},
   "outputs": [],
   "source": [
    "c = Counter([5,5,5,5,3,3,5,7,89,5,4])"
   ]
  },
  {
   "cell_type": "code",
   "execution_count": 33,
   "metadata": {},
   "outputs": [
    {
     "data": {
      "text/plain": [
       "[3, 4, 5, 7, 89]"
      ]
     },
     "execution_count": 33,
     "metadata": {},
     "output_type": "execute_result"
    }
   ],
   "source": [
    "sorted(list(c.keys()))"
   ]
  },
  {
   "cell_type": "code",
   "execution_count": 34,
   "metadata": {},
   "outputs": [],
   "source": [
    "import numpy as np"
   ]
  },
  {
   "cell_type": "code",
   "execution_count": 47,
   "metadata": {},
   "outputs": [],
   "source": [
    "test = '4 97 5 97 97 4 97 4 97 97 97 97 4 4 5 5 97 5 97 99 4 97 5 97 97 97 5 5 97 4 5 97 97 5 97 4 97 5 4 4 97 5 5 5 4 97 97 4 97 5 4 4 97 97 97 5 5 97 4 97 97 5 4 97 97 4 97 97 97 5 4 4 97 4 4 97 5 97 97 97 97 4 97 5 97 5 4 97 4 5 97 97 5 97 5 97 5 97 97 97'"
   ]
  },
  {
   "cell_type": "code",
   "execution_count": 57,
   "metadata": {},
   "outputs": [],
   "source": [
    "a = test.split(' ')\n",
    "a = [int(n) for n in a]"
   ]
  },
  {
   "cell_type": "code",
   "execution_count": null,
   "metadata": {},
   "outputs": [],
   "source": []
  },
  {
   "cell_type": "code",
   "execution_count": 61,
   "metadata": {},
   "outputs": [],
   "source": [
    "def pickingNumbers(a):\n",
    "    from collections import Counter\n",
    "    c = Counter(a)\n",
    "    sorted_keys = sorted(list(c.keys()))\n",
    "    longest_arr = 0\n",
    "    for i in range(len(sorted_keys)-1):\n",
    "        key_abs = abs(sorted_keys[i] - sorted_keys[i+1]) == 1\n",
    "        length = c[sorted_keys[i]] + c[sorted_keys[i+1]]\n",
    "        if key_abs and length > longest_arr:\n",
    "            longest_arr = length\n",
    "    if max(c.values()) > longest_arr:\n",
    "        return max(c.values())\n",
    "    else:\n",
    "        return longest_arr\n",
    "    "
   ]
  },
  {
   "cell_type": "code",
   "execution_count": 62,
   "metadata": {},
   "outputs": [
    {
     "data": {
      "text/plain": [
       "50"
      ]
     },
     "execution_count": 62,
     "metadata": {},
     "output_type": "execute_result"
    }
   ],
   "source": [
    "pickingNumbers(a)"
   ]
  },
  {
   "cell_type": "code",
   "execution_count": 63,
   "metadata": {},
   "outputs": [
    {
     "data": {
      "text/plain": [
       "Counter({4: 24, 97: 50, 5: 25, 99: 1})"
      ]
     },
     "execution_count": 63,
     "metadata": {},
     "output_type": "execute_result"
    }
   ],
   "source": [
    "Counter(a)"
   ]
  },
  {
   "cell_type": "code",
   "execution_count": 112,
   "metadata": {},
   "outputs": [],
   "source": [
    "n=352926151 \n",
    "m=380324688 \n",
    "s=94730870\n",
    "def saveThePrisoner(n, m, s):\n",
    "    '''\n",
    "    123\n",
    "    '''\n",
    "    if m > n:\n",
    "        m = m%n\n",
    "    i = m + s-1\n",
    "    if i > n:\n",
    "        return i-n\n",
    "    elif i == 0:\n",
    "        return n\n",
    "    else:\n",
    "        return i\n"
   ]
  },
  {
   "cell_type": "code",
   "execution_count": 113,
   "metadata": {},
   "outputs": [
    {
     "data": {
      "text/plain": [
       "999998"
      ]
     },
     "execution_count": 113,
     "metadata": {},
     "output_type": "execute_result"
    }
   ],
   "source": [
    "saveThePrisoner(999999, 999999, 999999)"
   ]
  },
  {
   "cell_type": "code",
   "execution_count": 98,
   "metadata": {},
   "outputs": [],
   "source": [
    "test = '''3 394274638 3\n",
    "7 615562705 2\n",
    "2 739424390 2\n",
    "654809340 204894365 472730208\n",
    "12 430895283 10\n",
    "820162082 641616307 588599124\n",
    "11 872829055 1\n",
    "8 863472675 5\n",
    "6 737005495 6\n",
    "13 140874526 1\n",
    "5 838370030 1\n",
    "7987995 944258007 3704096\n",
    "20 452477339 2\n",
    "16 316486845 3\n",
    "7 371704047 4\n",
    "10 847309774 1\n",
    "19 326960619 13\n",
    "10 995691642 9\n",
    "7 116507988 3\n",
    "8 94123457 3\n",
    "5 559772387 5\n",
    "8 68776125 2\n",
    "2 950135853 2\n",
    "10 871101260 5\n",
    "7 202574414 2\n",
    "18 179098809 5\n",
    "2 241943014 1\n",
    "796 906236986 70\n",
    "10 351834097 7\n",
    "17 807384911 17\n",
    "8 315277218 2\n",
    "1 809644535 1\n",
    "10 817801950 3\n",
    "5 440531117 5\n",
    "20 880268919 8\n",
    "6 293435347 2\n",
    "18 19114015 3\n",
    "4 735038152 3\n",
    "622 756206857 245\n",
    "7 482235723 6\n",
    "1 332585626 1\n",
    "3 917360179 1\n",
    "7 382333528 5\n",
    "3 910271929 2\n",
    "2 559295142 1\n",
    "6 852399876 4\n",
    "5 507841274 3\n",
    "8 703690620 7\n",
    "2 731894216 1\n",
    "15 315371646 13\n",
    "12 450649452 4\n",
    "7 100332753 7\n",
    "9 304145150 8\n",
    "7 80202029 5\n",
    "1 269193929 1\n",
    "18 950000152 5\n",
    "45900 625548176 41768\n",
    "9 980493422 6\n",
    "2 59893403 2\n",
    "10 397424389 1\n",
    "20 659990005 9\n",
    "8 962771014 1\n",
    "1 582734799 1\n",
    "1 962681512 1\n",
    "1 176253776 1\n",
    "7 778510859 2\n",
    "9 182827716 2\n",
    "5 846583622 2\n",
    "18 570581961 6\n",
    "17 446480767 11\n",
    "10 483724534 6\n",
    "3 11307206 1\n",
    "7 584440269 1\n",
    "14 697311573 8\n",
    "4 999357627 1\n",
    "17 199341423 9\n",
    "7 457329882 2\n",
    "6 640291708 3\n",
    "10 879791830 8\n",
    "3 269794978 3\n",
    "3 70223500 3\n",
    "8 29789831 5\n",
    "1 982193421 1\n",
    "5 614503262 5\n",
    "2 511908640 2\n",
    "8 256981399 7\n",
    "5 230221644 4\n",
    "6 131578521 3\n",
    "7 421457224 1\n",
    "1 528381267 1\n",
    "4 296324763 1\n",
    "13 413984801 9\n",
    "15 24726509 13\n",
    "3 258277558 3\n",
    "15 837095618 13\n",
    "1 17894198 1\n",
    "93327 722377177 12125\n",
    "3830347 568814045 3368104\n",
    "12 10766669 6\n",
    "8 117991680 2'''"
   ]
  },
  {
   "cell_type": "code",
   "execution_count": 99,
   "metadata": {},
   "outputs": [],
   "source": [
    "ans = '''\n",
    "3\n",
    "3\n",
    "1\n",
    "22815232\n",
    "12\n",
    "410053348\n",
    "10\n",
    "7\n",
    "6\n",
    "13\n",
    "5\n",
    "5378692\n",
    "20\n",
    "15\n",
    "4\n",
    "4\n",
    "5\n",
    "10\n",
    "4\n",
    "3\n",
    "1\n",
    "6\n",
    "2\n",
    "4\n",
    "1\n",
    "1\n",
    "2\n",
    "607\n",
    "3\n",
    "17\n",
    "3\n",
    "1\n",
    "2\n",
    "1\n",
    "6\n",
    "2\n",
    "15\n",
    "2\n",
    "27\n",
    "2\n",
    "1\n",
    "1\n",
    "7\n",
    "2\n",
    "2\n",
    "3\n",
    "1\n",
    "2\n",
    "2\n",
    "3\n",
    "3\n",
    "2\n",
    "3\n",
    "2\n",
    "1\n",
    "8\n",
    "18843\n",
    "1\n",
    "2\n",
    "9\n",
    "13\n",
    "6\n",
    "1\n",
    "1\n",
    "1\n",
    "1\n",
    "7\n",
    "3\n",
    "2\n",
    "2\n",
    "9\n",
    "2\n",
    "7\n",
    "14\n",
    "3\n",
    "9\n",
    "3\n",
    "6\n",
    "7\n",
    "3\n",
    "3\n",
    "3\n",
    "1\n",
    "1\n",
    "1\n",
    "5\n",
    "2\n",
    "5\n",
    "6\n",
    "1\n",
    "3\n",
    "4\n",
    "11\n",
    "3\n",
    "5\n",
    "1\n",
    "38321\n",
    "1460445\n",
    "10\n",
    "1\n",
    "'''\n",
    "ans = ans.split('\\n')\n",
    "ans = ans[1:-1]\n",
    "ans = [int(i) for i in ans]"
   ]
  },
  {
   "cell_type": "code",
   "execution_count": 101,
   "metadata": {},
   "outputs": [
    {
     "data": {
      "text/plain": [
       "'3 394274638 3'"
      ]
     },
     "execution_count": 101,
     "metadata": {},
     "output_type": "execute_result"
    }
   ],
   "source": [
    "test_cases= test.split('\\n')\n",
    "test_cases[0]"
   ]
  },
  {
   "cell_type": "code",
   "execution_count": 114,
   "metadata": {},
   "outputs": [],
   "source": [
    "failures = []\n",
    "for i in range(len(test_cases)):\n",
    "    n,m,s = test_cases[i].split(' ')\n",
    "    p = saveThePrisoner(int(n), int(m), int(s))\n",
    "    if p != ans[i]:\n",
    "        failures.append(f'Index {i} failed because the function returned {p} while the answer was {ans[i]}')\n",
    "    \n",
    "    \n",
    "    "
   ]
  },
  {
   "cell_type": "code",
   "execution_count": 115,
   "metadata": {},
   "outputs": [
    {
     "data": {
      "text/plain": [
       "[]"
      ]
     },
     "execution_count": 115,
     "metadata": {},
     "output_type": "execute_result"
    }
   ],
   "source": [
    "failures"
   ]
  },
  {
   "cell_type": "code",
   "execution_count": 17,
   "metadata": {},
   "outputs": [
    {
     "name": "stdin",
     "output_type": "stream",
     "text": [
      " 2\n",
      " 1 2\n"
     ]
    }
   ],
   "source": [
    "n = int(input())\n",
    "integer_list = map(int, input().split())"
   ]
  },
  {
   "cell_type": "code",
   "execution_count": 9,
   "metadata": {},
   "outputs": [
    {
     "name": "stdout",
     "output_type": "stream",
     "text": [
      "1\n",
      "2\n"
     ]
    }
   ],
   "source": [
    "for i in integer_list:\n",
    "    print(i)"
   ]
  },
  {
   "cell_type": "code",
   "execution_count": 18,
   "metadata": {},
   "outputs": [
    {
     "data": {
      "text/plain": [
       "3713081631934410656"
      ]
     },
     "execution_count": 18,
     "metadata": {},
     "output_type": "execute_result"
    }
   ],
   "source": [
    "hash(tuple(integer_list))"
   ]
  },
  {
   "cell_type": "code",
   "execution_count": 15,
   "metadata": {},
   "outputs": [
    {
     "data": {
      "text/plain": [
       "3713081631934410656"
      ]
     },
     "execution_count": 15,
     "metadata": {},
     "output_type": "execute_result"
    }
   ],
   "source": [
    "hash(output)"
   ]
  },
  {
   "cell_type": "code",
   "execution_count": 20,
   "metadata": {},
   "outputs": [],
   "source": [
    "lst = [['89', '90', '78', '93', '80'], ['90', '91', '85', '88', '86'], ['91', '92', '83', '89', '90.5']]\n"
   ]
  },
  {
   "cell_type": "code",
   "execution_count": 23,
   "metadata": {},
   "outputs": [
    {
     "data": {
      "text/plain": [
       "[('89', '90', '91'),\n",
       " ('90', '91', '92'),\n",
       " ('78', '85', '83'),\n",
       " ('93', '88', '89'),\n",
       " ('80', '86', '90.5')]"
      ]
     },
     "execution_count": 23,
     "metadata": {},
     "output_type": "execute_result"
    }
   ],
   "source": [
    "list(zip(lst[0], lst[1], lst[2]))"
   ]
  },
  {
   "cell_type": "code",
   "execution_count": 5,
   "metadata": {},
   "outputs": [
    {
     "data": {
      "text/plain": [
       "-1"
      ]
     },
     "execution_count": 5,
     "metadata": {},
     "output_type": "execute_result"
    }
   ],
   "source": [
    "string = 'ccccc'\n",
    "string.find('')"
   ]
  },
  {
   "cell_type": "code",
   "execution_count": null,
   "metadata": {},
   "outputs": [],
   "source": []
  }
 ],
 "metadata": {
  "kernelspec": {
   "display_name": "Python 3",
   "language": "python",
   "name": "python3"
  },
  "language_info": {
   "codemirror_mode": {
    "name": "ipython",
    "version": 3
   },
   "file_extension": ".py",
   "mimetype": "text/x-python",
   "name": "python",
   "nbconvert_exporter": "python",
   "pygments_lexer": "ipython3",
   "version": "3.7.7"
  }
 },
 "nbformat": 4,
 "nbformat_minor": 4
}
