{
 "cells": [
  {
   "cell_type": "markdown",
   "metadata": {},
   "source": [
    "hacker rank"
   ]
  },
  {
   "cell_type": "code",
   "execution_count": 87,
   "metadata": {},
   "outputs": [],
   "source": [
    "def arrayManipulation(n, queries):\n",
    "    maximum = 0\n",
    "    \n",
    "    calc = [0] * (n + 1)\n",
    "    for query in queries:\n",
    "        maximum += query[2] \n",
    "        \n",
    "    for query in queries:\n",
    "        \n",
    "        for i in range(query[0], query[1] +1):\n",
    "            if (calc[i] + query[2]) == maximum:\n",
    "                return maximum\n",
    "            else:\n",
    "                \n",
    "                calc[i] = calc[i] + query[2]\n",
    "                                            \n",
    "    return max(calc)"
   ]
  },
  {
   "cell_type": "code",
   "execution_count": 65,
   "metadata": {},
   "outputs": [],
   "source": [
    "# numpy not allowed\n",
    "def arrayManipulation(n, queries):\n",
    "    import numpy as np\n",
    "    queries = np.array(queries)\n",
    "    calc = np.array([0] * (n + 1))\n",
    "    for query in queries:\n",
    "        calc[query[0]:query[1]+1] += query[2]\n",
    "                                            \n",
    "    return max(calc)"
   ]
  },
  {
   "cell_type": "code",
   "execution_count": 72,
   "metadata": {},
   "outputs": [],
   "source": [
    "def arrayManipulation(n, queries):\n",
    "    ranges = [list(range(query[0], query[1] +1)) for query in queries]\n",
    "    return ranges"
   ]
  },
  {
   "cell_type": "code",
   "execution_count": 91,
   "metadata": {},
   "outputs": [
    {
     "name": "stdout",
     "output_type": "stream",
     "text": [
      "[3, 0, 0, 7, 0, -2, 0, 0, -7, -1]\n"
     ]
    },
    {
     "data": {
      "text/plain": [
       "10"
      ]
     },
     "execution_count": 91,
     "metadata": {},
     "output_type": "execute_result"
    }
   ],
   "source": [
    "n = 10\n",
    "queries = [[1,5,3],[4,8,7],[6,9,1]]\n",
    "arrayManipulation(n, queries)"
   ]
  },
  {
   "cell_type": "code",
   "execution_count": 93,
   "metadata": {},
   "outputs": [
    {
     "name": "stdout",
     "output_type": "stream",
     "text": [
      "[100, 100, 0, 0, -100]\n"
     ]
    },
    {
     "data": {
      "text/plain": [
       "200"
      ]
     },
     "execution_count": 93,
     "metadata": {},
     "output_type": "execute_result"
    }
   ],
   "source": [
    "n = 5\n",
    "queries = [[1,2,100],[2,5,100],[3,4,100]]\n",
    "arrayManipulation(n, queries)"
   ]
  },
  {
   "cell_type": "code",
   "execution_count": 90,
   "metadata": {},
   "outputs": [],
   "source": [
    "def arrayManipulation(n, queries):\n",
    "    arr = [0]*n\n",
    "    for i in queries:\n",
    "        arr[i[0] - 1] += i[2]\n",
    "        arr[i[1]] -= i[2]\n",
    "    maxval = 0\n",
    "    itt = 0\n",
    "    print(arr)\n",
    "    for q in arr:\n",
    "        itt += q\n",
    "        if itt > maxval:\n",
    "            maxval = itt\n",
    "    return maxval"
   ]
  },
  {
   "cell_type": "code",
   "execution_count": 92,
   "metadata": {},
   "outputs": [],
   "source": [
    "def arrayManipulation(n, queries):\n",
    "    arr = [0]*n\n",
    "    for i in queries:\n",
    "        arr[i[0] - 1] += i[2]\n",
    "        if i[1] != len(arr):\n",
    "            arr[i[1]] -= i[2]\n",
    "    maxval = 0\n",
    "    itt = 0\n",
    "    print(arr)\n",
    "    for q in arr:\n",
    "        itt += q\n",
    "        if itt > maxval:\n",
    "            maxval = itt\n",
    "    return maxval"
   ]
  },
  {
   "cell_type": "code",
   "execution_count": null,
   "metadata": {},
   "outputs": [],
   "source": []
  }
 ],
 "metadata": {
  "kernelspec": {
   "display_name": "Python 3",
   "language": "python",
   "name": "python3"
  },
  "language_info": {
   "codemirror_mode": {
    "name": "ipython",
    "version": 3
   },
   "file_extension": ".py",
   "mimetype": "text/x-python",
   "name": "python",
   "nbconvert_exporter": "python",
   "pygments_lexer": "ipython3",
   "version": "3.7.7"
  }
 },
 "nbformat": 4,
 "nbformat_minor": 4
}
