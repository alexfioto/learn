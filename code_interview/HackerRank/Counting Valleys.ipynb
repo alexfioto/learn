{
 "cells": [
  {
   "cell_type": "markdown",
   "metadata": {},
   "source": [
    "Hacker Rank"
   ]
  },
  {
   "cell_type": "code",
   "execution_count": 1,
   "metadata": {},
   "outputs": [],
   "source": [
    "steps = 8\n",
    "path = 'UDDDUDUU'\n",
    "def countingValleys(steps, path):\n",
    "    \n",
    "    valleys = 0\n",
    "    sea_level = 0\n",
    "    in_a_valley = False\n",
    "    for step in path:\n",
    "        if step == 'U':\n",
    "            sea_level += 1\n",
    "        elif step == \"D\":\n",
    "            sea_level -= 1\n",
    "        \n",
    "        \n",
    "        if sea_level < 0 and not in_a_valley:\n",
    "            valleys += 1\n",
    "            in_a_valley = True\n",
    "        \n",
    "        elif sea_level >= 0 and in_a_valley:\n",
    "            in_a_valley = False\n",
    "    \n",
    "    return valleys\n",
    "        "
   ]
  },
  {
   "cell_type": "code",
   "execution_count": 2,
   "metadata": {},
   "outputs": [
    {
     "data": {
      "text/plain": [
       "1"
      ]
     },
     "execution_count": 2,
     "metadata": {},
     "output_type": "execute_result"
    }
   ],
   "source": [
    "countingValleys(steps, path)"
   ]
  },
  {
   "cell_type": "code",
   "execution_count": null,
   "metadata": {},
   "outputs": [],
   "source": []
  }
 ],
 "metadata": {
  "kernelspec": {
   "display_name": "Python 3",
   "language": "python",
   "name": "python3"
  },
  "language_info": {
   "codemirror_mode": {
    "name": "ipython",
    "version": 3
   },
   "file_extension": ".py",
   "mimetype": "text/x-python",
   "name": "python",
   "nbconvert_exporter": "python",
   "pygments_lexer": "ipython3",
   "version": "3.7.7"
  }
 },
 "nbformat": 4,
 "nbformat_minor": 4
}
