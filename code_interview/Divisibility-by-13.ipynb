{
 "cells": [
  {
   "cell_type": "markdown",
   "metadata": {},
   "source": [
    "# Rule of Divisibility By 13"
   ]
  },
  {
   "cell_type": "markdown",
   "metadata": {},
   "source": [
    "https://www.codewars.com/kata/564057bc348c7200bd0000ff/train/python"
   ]
  },
  {
   "cell_type": "code",
   "execution_count": 94,
   "metadata": {},
   "outputs": [],
   "source": [
    "last_output = ['None']\n",
    "def thirt(n):\n",
    "    n = [int(num) for num in str(n)[::-1]]\n",
    "    seq = [1, 10, 9, 12, 3, 4] \n",
    "    seq = seq * (len(n)//len(seq)) + seq[:(len(n) % len(seq))]\n",
    "    output = sum([n[i] * seq[i] for i in range(len(n))])\n",
    "    if last_output[-1] == output:\n",
    "        return last_output[-1]\n",
    "    else:\n",
    "        last_output.append(output)\n",
    "        return thirt(output)\n",
    "    \n",
    "    "
   ]
  },
  {
   "cell_type": "code",
   "execution_count": 106,
   "metadata": {},
   "outputs": [
    {
     "data": {
      "text/plain": [
       "31"
      ]
     },
     "execution_count": 106,
     "metadata": {},
     "output_type": "execute_result"
    }
   ],
   "source": [
    "thirt(85299258)\n",
    "# Answer 31"
   ]
  },
  {
   "cell_type": "code",
   "execution_count": 51,
   "metadata": {},
   "outputs": [
    {
     "data": {
      "text/plain": [
       "7"
      ]
     },
     "execution_count": 51,
     "metadata": {},
     "output_type": "execute_result"
    }
   ],
   "source": [
    "1 // 1"
   ]
  },
  {
   "cell_type": "code",
   "execution_count": 82,
   "metadata": {},
   "outputs": [],
   "source": [
    "seq = [1, 10, 9, 12, 3, 4]\n",
    "seq = [1, 10, 9, 12, 3, 4] * (8 //len(seq)) + seq[:(8 % len(seq))]\n"
   ]
  },
  {
   "cell_type": "code",
   "execution_count": 83,
   "metadata": {},
   "outputs": [
    {
     "data": {
      "text/plain": [
       "[1, 10, 9, 12, 3, 4, 1, 10]"
      ]
     },
     "execution_count": 83,
     "metadata": {},
     "output_type": "execute_result"
    }
   ],
   "source": [
    "seq"
   ]
  },
  {
   "cell_type": "code",
   "execution_count": 104,
   "metadata": {},
   "outputs": [],
   "source": [
    "## Better Solution\n",
    "\n",
    "def thirt(n):\n",
    "    l = [int(num) for num in str(n)[::-1]]\n",
    "    seq = [1, 10, 9, 12, 3, 4] \n",
    "    seq = seq * (len(l)//len(seq)) + seq[:(len(l) % len(seq))]\n",
    "    output = sum([l[i] * seq[i] for i in range(len(l))])\n",
    "    if n == output:\n",
    "        return output\n",
    "    return thirt(output)"
   ]
  },
  {
   "cell_type": "code",
   "execution_count": 105,
   "metadata": {},
   "outputs": [
    {
     "data": {
      "text/plain": [
       "87"
      ]
     },
     "execution_count": 105,
     "metadata": {},
     "output_type": "execute_result"
    }
   ],
   "source": [
    "thirt(1234567)"
   ]
  },
  {
   "cell_type": "code",
   "execution_count": null,
   "metadata": {},
   "outputs": [],
   "source": []
  }
 ],
 "metadata": {
  "kernelspec": {
   "display_name": "Python 3",
   "language": "python",
   "name": "python3"
  },
  "language_info": {
   "codemirror_mode": {
    "name": "ipython",
    "version": 3
   },
   "file_extension": ".py",
   "mimetype": "text/x-python",
   "name": "python",
   "nbconvert_exporter": "python",
   "pygments_lexer": "ipython3",
   "version": "3.7.7"
  }
 },
 "nbformat": 4,
 "nbformat_minor": 4
}
