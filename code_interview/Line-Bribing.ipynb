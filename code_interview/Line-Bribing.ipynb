{
 "cells": [
  {
   "cell_type": "markdown",
   "metadata": {},
   "source": [
    "Sample Input\n",
    "```\n",
    "2\n",
    "5\n",
    "2 1 5 3 4\n",
    "5\n",
    "2 5 1 3 4\n",
    "```\n",
    "Sample Output\n",
    "```\n",
    "3\n",
    "Too chaotic\n",
    "```"
   ]
  },
  {
   "cell_type": "code",
   "execution_count": 20,
   "metadata": {},
   "outputs": [],
   "source": [
    "import numpy as np"
   ]
  },
  {
   "cell_type": "code",
   "execution_count": 39,
   "metadata": {},
   "outputs": [],
   "source": [
    "a = [2,1,5,3,4]\n",
    "b = [3,2,1]\n",
    "c = [1, 2, 5, 3, 7, 8, 6, 4]"
   ]
  },
  {
   "cell_type": "code",
   "execution_count": 40,
   "metadata": {},
   "outputs": [],
   "source": [
    "def minimumBribes(q):\n",
    "    c = 0\n",
    "    \n",
    "    for i in range(len(q) - 1, 0, -1):\n",
    "        \n",
    "        if q[i] != i+1:\n",
    "            \n",
    "            if q[i-1] == i + 1:\n",
    "                \n",
    "                c += 1\n",
    "                q[i], q[i-1] = q[i-1], q[i]\n",
    "                \n",
    "            elif q[i-2] == i + 1:\n",
    "                \n",
    "                c += 2\n",
    "                q[i-2], q[i-1] = q[i-1], q[i-2]\n",
    "                q[i-1], q[i] = q[i], q[i-1]\n",
    "            else:\n",
    "                print('Too chaotic')\n",
    "                return\n",
    "    print(c)\n",
    "# https://www.youtube.com/watch?v=VT-ChOqUsBM         "
   ]
  },
  {
   "cell_type": "code",
   "execution_count": 35,
   "metadata": {},
   "outputs": [
    {
     "name": "stdout",
     "output_type": "stream",
     "text": [
      "7\n",
      "6\n",
      "5\n",
      "4\n",
      "3\n",
      "2\n",
      "1\n"
     ]
    }
   ],
   "source": [
    "for i in range(len(c) - 1, 0, -1):\n",
    "     print(i)"
   ]
  },
  {
   "cell_type": "code",
   "execution_count": 42,
   "metadata": {},
   "outputs": [
    {
     "name": "stdout",
     "output_type": "stream",
     "text": [
      "0\n"
     ]
    }
   ],
   "source": [
    "minimumBribes(c)"
   ]
  },
  {
   "cell_type": "code",
   "execution_count": null,
   "metadata": {},
   "outputs": [],
   "source": []
  }
 ],
 "metadata": {
  "kernelspec": {
   "display_name": "Python 3",
   "language": "python",
   "name": "python3"
  },
  "language_info": {
   "codemirror_mode": {
    "name": "ipython",
    "version": 3
   },
   "file_extension": ".py",
   "mimetype": "text/x-python",
   "name": "python",
   "nbconvert_exporter": "python",
   "pygments_lexer": "ipython3",
   "version": "3.7.7"
  }
 },
 "nbformat": 4,
 "nbformat_minor": 4
}
