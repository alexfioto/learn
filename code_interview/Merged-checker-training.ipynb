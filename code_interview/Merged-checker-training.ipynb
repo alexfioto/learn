{
 "cells": [
  {
   "cell_type": "markdown",
   "metadata": {},
   "source": [
    "# Merge"
   ]
  },
  {
   "cell_type": "markdown",
   "metadata": {},
   "source": [
    "```\n",
    "'codewars' is a merge from 'cdw' and 'oears':\n",
    "\n",
    "    s:  c o d e w a r s   = codewars\n",
    "part1:  c   d   w         = cdw\n",
    "part2:    o   e   a r s   = oears\n",
    "```"
   ]
  },
  {
   "cell_type": "code",
   "execution_count": 114,
   "metadata": {},
   "outputs": [],
   "source": [
    "def is_merge(s, part1, part2):\n",
    "    output = ''\n",
    "\n",
    "    idx1 = 0\n",
    "    idx2 = 0\n",
    "    \n",
    "    for i in range(len(s)):\n",
    "        if part1[idx1] == s[i]:\n",
    "            output += part1[idx1]\n",
    "            print(f'adding {part1[idx1]}')\n",
    "            if idx1 < len(part1) - 1:\n",
    "                idx1 += 1\n",
    "            print(f'part1 index is now {idx1}')\n",
    "            print(output)\n",
    "        elif part2[idx2] == s[i]:\n",
    "            output += part2[idx2]\n",
    "            print(f'adding {part2[idx2]}')\n",
    "            if idx2 < len(part2) - 1:\n",
    "                idx2 += 1\n",
    "            print(f'part2 index is now {idx2}')\n",
    "            print(output)\n",
    "    if s==output:\n",
    "        return True\n",
    "    else:\n",
    "        return False\n"
   ]
  },
  {
   "cell_type": "code",
   "execution_count": 116,
   "metadata": {},
   "outputs": [
    {
     "name": "stdout",
     "output_type": "stream",
     "text": [
      "adding c\n",
      "part1 index is now 1\n",
      "c\n",
      "adding o\n",
      "part2 index is now 1\n",
      "co\n",
      "adding e\n",
      "part2 index is now 2\n",
      "coe\n",
      "adding w\n",
      "part1 index is now 2\n",
      "coew\n",
      "adding a\n",
      "part2 index is now 3\n",
      "coewa\n",
      "adding s\n",
      "part2 index is now 3\n",
      "coewas\n"
     ]
    },
    {
     "data": {
      "text/plain": [
       "False"
      ]
     },
     "execution_count": 116,
     "metadata": {},
     "output_type": "execute_result"
    }
   ],
   "source": [
    "is_merge('codewars', 'cwdr', 'oeas')"
   ]
  },
  {
   "cell_type": "code",
   "execution_count": 130,
   "metadata": {},
   "outputs": [],
   "source": [
    "def is_merge(s, part1, part2):\n",
    "    test = s\n",
    "    test_list = [letter for letter in s]\n",
    "    try:\n",
    "        \n",
    "        for i in range(len(part1)):\n",
    "            if part1[i] in s:\n",
    "                test_list.remove(part1[i])\n",
    "                print(f'removing {part1[i]}')\n",
    "                print(test_list)\n",
    "        for i in range(len(part2)):\n",
    "            if part2[i] in s:\n",
    "                test_list.remove(part2[i])\n",
    "                print(f'removing {part2[i]}')\n",
    "                print(test_list)\n",
    "    except:\n",
    "        return False\n",
    "    return True\n",
    "        "
   ]
  },
  {
   "cell_type": "code",
   "execution_count": 131,
   "metadata": {},
   "outputs": [
    {
     "name": "stdout",
     "output_type": "stream",
     "text": [
      "removing c\n",
      "['o', 'd', 'e', 'w', 'a', 'r', 's']\n",
      "removing o\n",
      "['d', 'e', 'w', 'a', 'r', 's']\n",
      "removing d\n",
      "['e', 'w', 'a', 'r', 's']\n",
      "removing e\n",
      "['w', 'a', 'r', 's']\n",
      "removing w\n",
      "['a', 'r', 's']\n",
      "removing a\n",
      "['r', 's']\n",
      "removing s\n",
      "['r']\n",
      "removing r\n",
      "[]\n"
     ]
    },
    {
     "data": {
      "text/plain": [
       "True"
      ]
     },
     "execution_count": 131,
     "metadata": {},
     "output_type": "execute_result"
    }
   ],
   "source": [
    "is_merge('codewars', 'code', 'wasr')"
   ]
  },
  {
   "cell_type": "code",
   "execution_count": 57,
   "metadata": {},
   "outputs": [],
   "source": [
    "test = 'codes'+'wars'"
   ]
  },
  {
   "cell_type": "code",
   "execution_count": 78,
   "metadata": {},
   "outputs": [],
   "source": [
    "test_list = [letter for letter in test]"
   ]
  },
  {
   "cell_type": "code",
   "execution_count": 62,
   "metadata": {},
   "outputs": [],
   "source": [
    "test_list.remove('c')"
   ]
  },
  {
   "cell_type": "code",
   "execution_count": 69,
   "metadata": {},
   "outputs": [
    {
     "ename": "ValueError",
     "evalue": "list.remove(x): x not in list",
     "output_type": "error",
     "traceback": [
      "\u001b[0;31m---------------------------------------------------------------------------\u001b[0m",
      "\u001b[0;31mValueError\u001b[0m                                Traceback (most recent call last)",
      "\u001b[0;32m<ipython-input-69-6c27f8517cbc>\u001b[0m in \u001b[0;36m<module>\u001b[0;34m\u001b[0m\n\u001b[0;32m----> 1\u001b[0;31m \u001b[0mtest_list\u001b[0m\u001b[0;34m.\u001b[0m\u001b[0mremove\u001b[0m\u001b[0;34m(\u001b[0m\u001b[0;34m'c'\u001b[0m\u001b[0;34m)\u001b[0m\u001b[0;34m\u001b[0m\u001b[0;34m\u001b[0m\u001b[0m\n\u001b[0m",
      "\u001b[0;31mValueError\u001b[0m: list.remove(x): x not in list"
     ]
    }
   ],
   "source": [
    "test_list.remove('c')"
   ]
  },
  {
   "cell_type": "code",
   "execution_count": 80,
   "metadata": {},
   "outputs": [],
   "source": [
    "test_list.sort()"
   ]
  },
  {
   "cell_type": "code",
   "execution_count": 81,
   "metadata": {},
   "outputs": [
    {
     "data": {
      "text/plain": [
       "['a', 'c', 'd', 'e', 'o', 'r', 's', 's', 'w']"
      ]
     },
     "execution_count": 81,
     "metadata": {},
     "output_type": "execute_result"
    }
   ],
   "source": [
    "test_list"
   ]
  },
  {
   "cell_type": "code",
   "execution_count": 83,
   "metadata": {},
   "outputs": [],
   "source": [
    "test_list2 = [letter.upper() for letter in test_list]"
   ]
  },
  {
   "cell_type": "code",
   "execution_count": 84,
   "metadata": {},
   "outputs": [
    {
     "data": {
      "text/plain": [
       "['A', 'C', 'D', 'E', 'O', 'R', 'S', 'S', 'W']"
      ]
     },
     "execution_count": 84,
     "metadata": {},
     "output_type": "execute_result"
    }
   ],
   "source": [
    "test_list2"
   ]
  },
  {
   "cell_type": "code",
   "execution_count": 85,
   "metadata": {},
   "outputs": [
    {
     "data": {
      "text/plain": [
       "False"
      ]
     },
     "execution_count": 85,
     "metadata": {},
     "output_type": "execute_result"
    }
   ],
   "source": [
    "test_list == test_list2"
   ]
  },
  {
   "cell_type": "code",
   "execution_count": 86,
   "metadata": {},
   "outputs": [],
   "source": [
    "test_list3 = ['A', 'b', 'a', 'B']"
   ]
  },
  {
   "cell_type": "code",
   "execution_count": 87,
   "metadata": {},
   "outputs": [],
   "source": [
    "test_list3.sort()"
   ]
  },
  {
   "cell_type": "code",
   "execution_count": 88,
   "metadata": {},
   "outputs": [
    {
     "data": {
      "text/plain": [
       "['A', 'B', 'a', 'b']"
      ]
     },
     "execution_count": 88,
     "metadata": {},
     "output_type": "execute_result"
    }
   ],
   "source": [
    "test_list3"
   ]
  },
  {
   "cell_type": "code",
   "execution_count": 126,
   "metadata": {},
   "outputs": [],
   "source": [
    "def is_merge(s, part1, part2):\n",
    "    s = [letter for letter in s]\n",
    "    s.sort()\n",
    "    s2 = [letter for letter in part1+part2]\n",
    "    s2.sort()\n",
    "    print(s)\n",
    "    print(s2)\n",
    "    if s == s2:\n",
    "        \n",
    "        test = s\n",
    "        test_list = [letter for letter in s]\n",
    "        try:\n",
    "\n",
    "            for i in range(len(part1)):\n",
    "                if part1[i] in s:\n",
    "                    test_list.remove(part1[i])\n",
    "                    print(f'removing {part1[i]}')\n",
    "                    print(test_list)\n",
    "            for i in range(len(part2)):\n",
    "                if part2[i] in s:\n",
    "                    test_list.remove(part2[i])\n",
    "                    print(f'removing {part2[i]}')\n",
    "                    print(test_list)\n",
    "        except:\n",
    "            return False\n",
    "        return True\n",
    "    else:\n",
    "        return False"
   ]
  },
  {
   "cell_type": "code",
   "execution_count": 127,
   "metadata": {},
   "outputs": [
    {
     "name": "stdout",
     "output_type": "stream",
     "text": [
      "['a', 'c', 'd', 'e', 'o', 'r', 's', 'w']\n",
      "['a', 'c', 'd', 'e', 'o', 'r', 's', 'w']\n",
      "removing c\n",
      "['a', 'd', 'e', 'o', 'r', 's', 'w']\n",
      "removing o\n",
      "['a', 'd', 'e', 'r', 's', 'w']\n",
      "removing d\n",
      "['a', 'e', 'r', 's', 'w']\n",
      "removing e\n",
      "['a', 'r', 's', 'w']\n",
      "removing w\n",
      "['a', 'r', 's']\n",
      "removing a\n",
      "['r', 's']\n",
      "removing s\n",
      "['r']\n",
      "removing r\n",
      "[]\n"
     ]
    },
    {
     "data": {
      "text/plain": [
       "True"
      ]
     },
     "execution_count": 127,
     "metadata": {},
     "output_type": "execute_result"
    }
   ],
   "source": [
    "is_merge('codewars', 'code', 'wasr')"
   ]
  },
  {
   "cell_type": "code",
   "execution_count": null,
   "metadata": {},
   "outputs": [],
   "source": []
  },
  {
   "cell_type": "code",
   "execution_count": 133,
   "metadata": {},
   "outputs": [],
   "source": [
    "def is_merge(s, part1, part2):\n",
    "    if not part1:\n",
    "        return s == part2\n",
    "    if not part2:\n",
    "        return s == part1\n",
    "    if not s:\n",
    "        return part1 + part2 == ''\n",
    "    if s[0] == part1[0] and is_merge(s[1:], part1[1:], part2):\n",
    "        return True\n",
    "    if s[0] == part2[0] and is_merge(s[1:], part1, part2[1:]):\n",
    "        return True\n",
    "    return False"
   ]
  },
  {
   "cell_type": "code",
   "execution_count": 134,
   "metadata": {},
   "outputs": [
    {
     "name": "stdout",
     "output_type": "stream",
     "text": [
      "First Line\n"
     ]
    },
    {
     "data": {
      "text/plain": [
       "False"
      ]
     },
     "execution_count": 134,
     "metadata": {},
     "output_type": "execute_result"
    }
   ],
   "source": [
    "is_merge('codewars', 'code', 'wasr')"
   ]
  },
  {
   "cell_type": "code",
   "execution_count": null,
   "metadata": {},
   "outputs": [],
   "source": [
    "if not part1:\n",
    "    "
   ]
  }
 ],
 "metadata": {
  "kernelspec": {
   "display_name": "Python 3",
   "language": "python",
   "name": "python3"
  },
  "language_info": {
   "codemirror_mode": {
    "name": "ipython",
    "version": 3
   },
   "file_extension": ".py",
   "mimetype": "text/x-python",
   "name": "python",
   "nbconvert_exporter": "python",
   "pygments_lexer": "ipython3",
   "version": "3.8.5"
  }
 },
 "nbformat": 4,
 "nbformat_minor": 4
}
