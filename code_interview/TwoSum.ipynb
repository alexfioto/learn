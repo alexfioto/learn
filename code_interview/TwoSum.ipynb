{
 "cells": [
  {
   "cell_type": "markdown",
   "metadata": {},
   "source": [
    "# Two Sum"
   ]
  },
  {
   "cell_type": "markdown",
   "metadata": {},
   "source": [
    "```\n",
    "Input: nums = [2,7,11,15], target = 9\n",
    "Output: [0,1]\n",
    "Output: Because nums[0] + nums[1] == 9, we return [0, 1].\n",
    "```"
   ]
  },
  {
   "cell_type": "code",
   "execution_count": 33,
   "metadata": {},
   "outputs": [],
   "source": [
    "# Brute force solution\n",
    "class Solution:\n",
    "    \n",
    "    #Brute Force Solution\n",
    "    def two_sum_brute(self, array, target):\n",
    "        for i in range(len(array)):\n",
    "            for j in range(1, len(array)):\n",
    "                if i != j:\n",
    "                    if array[i] + array[j] == target:\n",
    "                        return [i, j]\n",
    "                    \n",
    "    # Hash Table Solution                \n",
    "    def hashtable(self, A, target):\n",
    "        ht = dict()\n",
    "        for i in range(len(A)):\n",
    "            if A[i] in ht:\n",
    "                return [ht[A[i]][1], i]\n",
    "            else:\n",
    "                ht[target-A[i]] = [A[i], i]\n",
    "    \n",
    "    def two_sum_sorted(self, A, target):\n",
    "        \"\"\"Checks array of two numbers that add up to target. \n",
    "        Only works if array is sorted and you do not need to return indicies.\n",
    "\n",
    "        Args:\n",
    "          A: An array of numbers.\n",
    "          target: Value which we are checking array. \n",
    "\n",
    "        Returns:\n",
    "          Two numbers that add up to target.\n",
    "\n",
    "        Raises:\n",
    "          None.\n",
    "        \"\"\"\n",
    "        i = 0\n",
    "        j = len(A) - 1\n",
    "        \n",
    "        while i <= j:\n",
    "            if A[i] + A[j] == target:\n",
    "                return(A[i], A[j])\n",
    "            elif A[i] + A[j] < target:\n",
    "                i += 1\n",
    "            else: # A[i] + A[j] > target\n",
    "                j -= 1\n",
    "        return False\n",
    "        \n",
    "        \n",
    "        \n",
    "        \n",
    "                \n"
   ]
  },
  {
   "cell_type": "code",
   "execution_count": 34,
   "metadata": {},
   "outputs": [
    {
     "name": "stdout",
     "output_type": "stream",
     "text": [
      "[0, 1]\n",
      "[0, 1]\n",
      "(2, 7)\n"
     ]
    }
   ],
   "source": [
    "sln = Solution()\n",
    "\n",
    "print(sln.two_sum_brute([2,7,11,15], 9))\n",
    "print(sln.hashtable([2,7,11,15], 9))\n",
    "print(sln.two_sum_sorted([2,7,11,15], 9))"
   ]
  },
  {
   "cell_type": "code",
   "execution_count": null,
   "metadata": {},
   "outputs": [],
   "source": [
    "\n"
   ]
  }
 ],
 "metadata": {
  "kernelspec": {
   "display_name": "Python 3",
   "language": "python",
   "name": "python3"
  },
  "language_info": {
   "codemirror_mode": {
    "name": "ipython",
    "version": 3
   },
   "file_extension": ".py",
   "mimetype": "text/x-python",
   "name": "python",
   "nbconvert_exporter": "python",
   "pygments_lexer": "ipython3",
   "version": "3.7.7"
  }
 },
 "nbformat": 4,
 "nbformat_minor": 4
}
